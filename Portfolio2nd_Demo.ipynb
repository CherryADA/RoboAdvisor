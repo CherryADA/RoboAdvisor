{
 "cells": [
  {
   "cell_type": "code",
   "execution_count": 1,
   "metadata": {},
   "outputs": [],
   "source": [
    "from Portfolio import Portfolio, universe # universe is a global variable\n",
    "# and each portfolio can access to the universe\n",
    "from Admin import Admin, MeanReturn, MoneyWeightedReturn,SimpleReturn,TimeWeightedReturn,Volatility,ReturnAttribCurrency\n",
    "import pandas as pd\n"
   ]
  },
  {
   "cell_type": "code",
   "execution_count": 2,
   "metadata": {},
   "outputs": [
    {
     "name": "stdout",
     "output_type": "stream",
     "text": [
      "We are in a good state, target weights with short selling returned\n"
     ]
    },
    {
     "data": {
      "text/plain": [
       "([(0.103, 0.065)],\n",
       " [{'MRD.TO': 0.07739194719224772,\n",
       "   'CIM.AX': -0.06368499394986335,\n",
       "   'GAPSX': 0.19402534951358721,\n",
       "   'LNC': -0.0549598576098025,\n",
       "   'KNEBV.HE': 0.06264121355892392,\n",
       "   'HBD.TO': 0.09742295556192719,\n",
       "   'HGU.TO': 0.054482565519328625,\n",
       "   'OIH': -0.07231142008944524,\n",
       "   'RIT.TO': 0.3599419245398914,\n",
       "   'EMB': 0.3450503157632052}])"
      ]
     },
     "execution_count": 2,
     "metadata": {},
     "output_type": "execute_result"
    },
    {
     "data": {
      "image/png": "[encoded data removed]",
      "text/plain": [
       "<Figure size 432x288 with 1 Axes>"
      ]
     },
     "metadata": {
      "needs_background": "light"
     },
     "output_type": "display_data"
    }
   ],
   "source": [
    "test_admin=Admin()\n",
    "test_admin.suggestPortfolio('3','2014-04-01')"
   ]
  },
  {
   "cell_type": "code",
   "execution_count": 3,
   "metadata": {},
   "outputs": [
    {
     "data": {
      "text/plain": [
       "{'MRD.TO': 794.9010635102774,\n",
       " 'CIM.AX': -669.3251299585438,\n",
       " 'GAPSX': 2474.583206445954,\n",
       " 'LNC': -207.10390624819271,\n",
       " 'KNEBV.HE': 304.54451510968505,\n",
       " 'HBD.TO': 1023.6988396335904,\n",
       " 'HGU.TO': 469.9764797526379,\n",
       " 'OIH': -274.7137017275736,\n",
       " 'RIT.TO': 7009.389063440637,\n",
       " 'EMB': 681.0109634328859,\n",
       " 'DJI_365_17000_P': 12.0}"
      ]
     },
     "execution_count": 3,
     "metadata": {},
     "output_type": "execute_result"
    }
   ],
   "source": [
    "test_admin.acceptPortfolio(0)"
   ]
  },
  {
   "cell_type": "code",
   "execution_count": 4,
   "metadata": {},
   "outputs": [],
   "source": [
    "test_admin.trackPortfolio()\n",
    "# t_tmp=\n",
    "# from datetime import datetime\n",
    "# datetime.strftime(pd.date_range(end='2015-03-01',periods=1,freq='B')[0],'%Y-%m-%d')"
   ]
  },
  {
   "cell_type": "code",
   "execution_count": 5,
   "metadata": {},
   "outputs": [
    {
     "data": {
      "text/plain": [
       "Deposit-CAD    466882.148912\n",
       "dtype: float64"
      ]
     },
     "execution_count": 5,
     "metadata": {},
     "output_type": "execute_result"
    }
   ],
   "source": [
    "test_admin.getAccountValue('2019-06-01')"
   ]
  },
  {
   "cell_type": "code",
   "execution_count": 6,
   "metadata": {},
   "outputs": [],
   "source": [
    "# from datetime import datetime\n",
    "date_format='%Y-%m-%d'\n",
    "start_date='2014-04-01'\n",
    "today_date=test_admin.today\n",
    "# all_dates=[datetime.strftime(item,date_format) for item in pd.date_range(start_date,today_date,freq='M')]\n",
    "# portf_values=[]\n",
    "# for item in all_dates:\n",
    "#     portf_values.append(test_admin.getAccountValue(item))"
   ]
  },
  {
   "cell_type": "code",
   "execution_count": 7,
   "metadata": {},
   "outputs": [],
   "source": [
    "# from matplotlib import pyplot as plt\n",
    "# plt.figure(figsize=(10,10))\n",
    "# plt.plot(all_dates,portf_values)"
   ]
  },
  {
   "cell_type": "code",
   "execution_count": 8,
   "metadata": {},
   "outputs": [],
   "source": [
    "# print(MeanReturn(test_admin.portfolio,start_date,test_admin.today))\n",
    "# print(Volatility(test_admin.portfolio,start_date,test_admin.today))"
   ]
  },
  {
   "cell_type": "code",
   "execution_count": 9,
   "metadata": {},
   "outputs": [],
   "source": [
    "from Admin import PortfolioVaRV2"
   ]
  },
  {
   "cell_type": "code",
   "execution_count": 15,
   "metadata": {},
   "outputs": [
    {
     "name": "stdout",
     "output_type": "stream",
     "text": [
      "{'MRD.TO': Deposit-CAD    2686.462389\n",
      "dtype: float64, 'CIM.AX': Deposit-CAD   -704.895809\n",
      "dtype: float64, 'GAPSX': Deposit-CAD    3807.727407\n",
      "dtype: float64, 'LNC': Deposit-CAD   -319.129501\n",
      "dtype: float64, 'KNEBV.HE': Deposit-CAD    398.001435\n",
      "dtype: float64, 'HBD.TO': Deposit-CAD    3198.666525\n",
      "dtype: float64, 'HGU.TO': Deposit-CAD    2395.191859\n",
      "dtype: float64, 'OIH': Deposit-CAD   -1908.413006\n",
      "dtype: float64, 'RIT.TO': Deposit-CAD    9537.483042\n",
      "dtype: float64, 'EMB': Deposit-CAD    1088.467036\n",
      "dtype: float64, 'DJI_365_17000_P': Deposit-CAD    19.0\n",
      "dtype: float64}\n",
      "[[0.0009684480820311646]\n",
      " [0.0012118512599723372]\n",
      " [0.0023707090098895474]\n",
      " [0.0031071643297607802]\n",
      " [0.0020772667377761903]\n",
      " [0.007191772674989525]\n",
      " [0.005160442195555746]\n",
      " [0.0036362913599455125]\n",
      " [0.0006959870362420746]\n",
      " [0.0006454193308088179]\n",
      " [0.0049011082475236955]]\n",
      "[[ 0.07739195]\n",
      " [-0.06368499]\n",
      " [ 0.19402535]\n",
      " [-0.05495986]\n",
      " [ 0.06264121]\n",
      " [ 0.09742296]\n",
      " [ 0.05448257]\n",
      " [-0.07231142]\n",
      " [ 0.35994192]\n",
      " [ 0.34505032]\n",
      " [ 0.        ]]\n"
     ]
    }
   ],
   "source": [
    "betas,VAR_test=PortfolioVaRV2(test_admin,start_date,test_admin.today,True)"
   ]
  },
  {
   "cell_type": "code",
   "execution_count": 11,
   "metadata": {},
   "outputs": [
    {
     "data": {
      "text/html": [
       "<div>\n",
       "<style scoped>\n",
       "    .dataframe tbody tr th:only-of-type {\n",
       "        vertical-align: middle;\n",
       "    }\n",
       "\n",
       "    .dataframe tbody tr th {\n",
       "        vertical-align: top;\n",
       "    }\n",
       "\n",
       "    .dataframe thead th {\n",
       "        text-align: right;\n",
       "    }\n",
       "</style>\n",
       "<table border=\"1\" class=\"dataframe\">\n",
       "  <thead>\n",
       "    <tr style=\"text-align: right;\">\n",
       "      <th></th>\n",
       "      <th>Mkt-RF_log</th>\n",
       "      <th>SMB_log</th>\n",
       "      <th>HML_log</th>\n",
       "      <th>RMW_log</th>\n",
       "      <th>CMA_log</th>\n",
       "      <th>Mkt-RF_log_global</th>\n",
       "      <th>SMB_log_global</th>\n",
       "      <th>HML_log_global</th>\n",
       "      <th>RMW_log_global</th>\n",
       "      <th>CMA_log_global</th>\n",
       "      <th>...</th>\n",
       "      <th>US IG 5-10 yr</th>\n",
       "      <th>CGOV 10y</th>\n",
       "      <th>CGOV 5y</th>\n",
       "      <th>CGOV 2y</th>\n",
       "      <th>Gold</th>\n",
       "      <th>Crude Oil</th>\n",
       "      <th>US Real Estate</th>\n",
       "      <th>CAN Real Estate</th>\n",
       "      <th>Toronto Real Estate</th>\n",
       "      <th>VIX</th>\n",
       "    </tr>\n",
       "  </thead>\n",
       "  <tbody>\n",
       "    <tr>\n",
       "      <th>MRD.TO</th>\n",
       "      <td>0</td>\n",
       "      <td>0</td>\n",
       "      <td>0</td>\n",
       "      <td>0</td>\n",
       "      <td>0</td>\n",
       "      <td>0.181109</td>\n",
       "      <td>-0.11905</td>\n",
       "      <td>-0.0622143</td>\n",
       "      <td>-0.589342</td>\n",
       "      <td>-0.541585</td>\n",
       "      <td>...</td>\n",
       "      <td>0</td>\n",
       "      <td>0</td>\n",
       "      <td>0</td>\n",
       "      <td>0</td>\n",
       "      <td>0</td>\n",
       "      <td>0</td>\n",
       "      <td>0</td>\n",
       "      <td>0</td>\n",
       "      <td>0</td>\n",
       "      <td>0</td>\n",
       "    </tr>\n",
       "    <tr>\n",
       "      <th>CIM.AX</th>\n",
       "      <td>0</td>\n",
       "      <td>0</td>\n",
       "      <td>0</td>\n",
       "      <td>0</td>\n",
       "      <td>0</td>\n",
       "      <td>0.366193</td>\n",
       "      <td>-0.631117</td>\n",
       "      <td>0.502701</td>\n",
       "      <td>-0.221197</td>\n",
       "      <td>-0.717091</td>\n",
       "      <td>...</td>\n",
       "      <td>0</td>\n",
       "      <td>0</td>\n",
       "      <td>0</td>\n",
       "      <td>0</td>\n",
       "      <td>0</td>\n",
       "      <td>0</td>\n",
       "      <td>0</td>\n",
       "      <td>0</td>\n",
       "      <td>0</td>\n",
       "      <td>0</td>\n",
       "    </tr>\n",
       "    <tr>\n",
       "      <th>GAPSX</th>\n",
       "      <td>0.990506</td>\n",
       "      <td>-0.0847546</td>\n",
       "      <td>0.0979517</td>\n",
       "      <td>0.08088</td>\n",
       "      <td>0.0194918</td>\n",
       "      <td>0</td>\n",
       "      <td>0</td>\n",
       "      <td>0</td>\n",
       "      <td>0</td>\n",
       "      <td>0</td>\n",
       "      <td>...</td>\n",
       "      <td>0</td>\n",
       "      <td>0</td>\n",
       "      <td>0</td>\n",
       "      <td>0</td>\n",
       "      <td>0</td>\n",
       "      <td>0</td>\n",
       "      <td>0</td>\n",
       "      <td>0</td>\n",
       "      <td>0</td>\n",
       "      <td>0</td>\n",
       "    </tr>\n",
       "    <tr>\n",
       "      <th>LNC</th>\n",
       "      <td>1.54335</td>\n",
       "      <td>0.0722288</td>\n",
       "      <td>1.39972</td>\n",
       "      <td>-0.623523</td>\n",
       "      <td>-0.708468</td>\n",
       "      <td>0</td>\n",
       "      <td>0</td>\n",
       "      <td>0</td>\n",
       "      <td>0</td>\n",
       "      <td>0</td>\n",
       "      <td>...</td>\n",
       "      <td>0</td>\n",
       "      <td>0</td>\n",
       "      <td>0</td>\n",
       "      <td>0</td>\n",
       "      <td>0</td>\n",
       "      <td>0</td>\n",
       "      <td>0</td>\n",
       "      <td>0</td>\n",
       "      <td>0</td>\n",
       "      <td>0</td>\n",
       "    </tr>\n",
       "    <tr>\n",
       "      <th>KNEBV.HE</th>\n",
       "      <td>0</td>\n",
       "      <td>0</td>\n",
       "      <td>0</td>\n",
       "      <td>0</td>\n",
       "      <td>0</td>\n",
       "      <td>0</td>\n",
       "      <td>0</td>\n",
       "      <td>0</td>\n",
       "      <td>0</td>\n",
       "      <td>0</td>\n",
       "      <td>...</td>\n",
       "      <td>0</td>\n",
       "      <td>0</td>\n",
       "      <td>0</td>\n",
       "      <td>0</td>\n",
       "      <td>0</td>\n",
       "      <td>0</td>\n",
       "      <td>0</td>\n",
       "      <td>0</td>\n",
       "      <td>0</td>\n",
       "      <td>0</td>\n",
       "    </tr>\n",
       "    <tr>\n",
       "      <th>HBD.TO</th>\n",
       "      <td>0</td>\n",
       "      <td>0</td>\n",
       "      <td>0</td>\n",
       "      <td>0</td>\n",
       "      <td>0</td>\n",
       "      <td>0</td>\n",
       "      <td>0</td>\n",
       "      <td>0</td>\n",
       "      <td>0</td>\n",
       "      <td>0</td>\n",
       "      <td>...</td>\n",
       "      <td>-0.00778484</td>\n",
       "      <td>-0.138415</td>\n",
       "      <td>0.15594</td>\n",
       "      <td>0.0120714</td>\n",
       "      <td>-0.580562</td>\n",
       "      <td>-0.211411</td>\n",
       "      <td>-0.0604814</td>\n",
       "      <td>-0.0265425</td>\n",
       "      <td>0.0694042</td>\n",
       "      <td>0.0145569</td>\n",
       "    </tr>\n",
       "    <tr>\n",
       "      <th>HGU.TO</th>\n",
       "      <td>0</td>\n",
       "      <td>0</td>\n",
       "      <td>0</td>\n",
       "      <td>0</td>\n",
       "      <td>0</td>\n",
       "      <td>0.503353</td>\n",
       "      <td>1.54259</td>\n",
       "      <td>0.180315</td>\n",
       "      <td>-2.30109</td>\n",
       "      <td>-5.3797</td>\n",
       "      <td>...</td>\n",
       "      <td>0</td>\n",
       "      <td>0</td>\n",
       "      <td>0</td>\n",
       "      <td>0</td>\n",
       "      <td>0</td>\n",
       "      <td>0</td>\n",
       "      <td>0</td>\n",
       "      <td>0</td>\n",
       "      <td>0</td>\n",
       "      <td>0</td>\n",
       "    </tr>\n",
       "    <tr>\n",
       "      <th>OIH</th>\n",
       "      <td>1.32562</td>\n",
       "      <td>0.0401911</td>\n",
       "      <td>0.500355</td>\n",
       "      <td>0.176235</td>\n",
       "      <td>-0.974842</td>\n",
       "      <td>0</td>\n",
       "      <td>0</td>\n",
       "      <td>0</td>\n",
       "      <td>0</td>\n",
       "      <td>0</td>\n",
       "      <td>...</td>\n",
       "      <td>0</td>\n",
       "      <td>0</td>\n",
       "      <td>0</td>\n",
       "      <td>0</td>\n",
       "      <td>0</td>\n",
       "      <td>0</td>\n",
       "      <td>0</td>\n",
       "      <td>0</td>\n",
       "      <td>0</td>\n",
       "      <td>0</td>\n",
       "    </tr>\n",
       "    <tr>\n",
       "      <th>RIT.TO</th>\n",
       "      <td>0</td>\n",
       "      <td>0</td>\n",
       "      <td>0</td>\n",
       "      <td>0</td>\n",
       "      <td>0</td>\n",
       "      <td>0.230997</td>\n",
       "      <td>0.0986896</td>\n",
       "      <td>0.0706403</td>\n",
       "      <td>-0.0795889</td>\n",
       "      <td>-0.316355</td>\n",
       "      <td>...</td>\n",
       "      <td>0</td>\n",
       "      <td>0</td>\n",
       "      <td>0</td>\n",
       "      <td>0</td>\n",
       "      <td>0</td>\n",
       "      <td>0</td>\n",
       "      <td>0</td>\n",
       "      <td>0</td>\n",
       "      <td>0</td>\n",
       "      <td>0</td>\n",
       "    </tr>\n",
       "    <tr>\n",
       "      <th>EMB</th>\n",
       "      <td>0</td>\n",
       "      <td>0</td>\n",
       "      <td>0</td>\n",
       "      <td>0</td>\n",
       "      <td>0</td>\n",
       "      <td>0</td>\n",
       "      <td>0</td>\n",
       "      <td>0</td>\n",
       "      <td>0</td>\n",
       "      <td>0</td>\n",
       "      <td>...</td>\n",
       "      <td>0.29331</td>\n",
       "      <td>-0.00990348</td>\n",
       "      <td>-0.0538247</td>\n",
       "      <td>0.0238864</td>\n",
       "      <td>0.00718207</td>\n",
       "      <td>0.0137843</td>\n",
       "      <td>0.0537731</td>\n",
       "      <td>0.0358046</td>\n",
       "      <td>0.0162667</td>\n",
       "      <td>-0.0144953</td>\n",
       "    </tr>\n",
       "    <tr>\n",
       "      <th>DJI_365_17000_P</th>\n",
       "      <td>0.0109105</td>\n",
       "      <td>0.00619263</td>\n",
       "      <td>-0.00698501</td>\n",
       "      <td>0.022143</td>\n",
       "      <td>0.0219475</td>\n",
       "      <td>0</td>\n",
       "      <td>0</td>\n",
       "      <td>0</td>\n",
       "      <td>0</td>\n",
       "      <td>0</td>\n",
       "      <td>...</td>\n",
       "      <td>0</td>\n",
       "      <td>0</td>\n",
       "      <td>0</td>\n",
       "      <td>0</td>\n",
       "      <td>0</td>\n",
       "      <td>0</td>\n",
       "      <td>0</td>\n",
       "      <td>0</td>\n",
       "      <td>0</td>\n",
       "      <td>-0.215669</td>\n",
       "    </tr>\n",
       "  </tbody>\n",
       "</table>\n",
       "<p>11 rows × 43 columns</p>\n",
       "</div>"
      ],
      "text/plain": [
       "                Mkt-RF_log     SMB_log     HML_log   RMW_log    CMA_log  \\\n",
       "MRD.TO                   0           0           0         0          0   \n",
       "CIM.AX                   0           0           0         0          0   \n",
       "GAPSX             0.990506  -0.0847546   0.0979517   0.08088  0.0194918   \n",
       "LNC                1.54335   0.0722288     1.39972 -0.623523  -0.708468   \n",
       "KNEBV.HE                 0           0           0         0          0   \n",
       "HBD.TO                   0           0           0         0          0   \n",
       "HGU.TO                   0           0           0         0          0   \n",
       "OIH                1.32562   0.0401911    0.500355  0.176235  -0.974842   \n",
       "RIT.TO                   0           0           0         0          0   \n",
       "EMB                      0           0           0         0          0   \n",
       "DJI_365_17000_P  0.0109105  0.00619263 -0.00698501  0.022143  0.0219475   \n",
       "\n",
       "                Mkt-RF_log_global SMB_log_global HML_log_global  \\\n",
       "MRD.TO                   0.181109       -0.11905     -0.0622143   \n",
       "CIM.AX                   0.366193      -0.631117       0.502701   \n",
       "GAPSX                           0              0              0   \n",
       "LNC                             0              0              0   \n",
       "KNEBV.HE                        0              0              0   \n",
       "HBD.TO                          0              0              0   \n",
       "HGU.TO                   0.503353        1.54259       0.180315   \n",
       "OIH                             0              0              0   \n",
       "RIT.TO                   0.230997      0.0986896      0.0706403   \n",
       "EMB                             0              0              0   \n",
       "DJI_365_17000_P                 0              0              0   \n",
       "\n",
       "                RMW_log_global CMA_log_global    ...     US IG 5-10 yr  \\\n",
       "MRD.TO               -0.589342      -0.541585    ...                 0   \n",
       "CIM.AX               -0.221197      -0.717091    ...                 0   \n",
       "GAPSX                        0              0    ...                 0   \n",
       "LNC                          0              0    ...                 0   \n",
       "KNEBV.HE                     0              0    ...                 0   \n",
       "HBD.TO                       0              0    ...       -0.00778484   \n",
       "HGU.TO                -2.30109        -5.3797    ...                 0   \n",
       "OIH                          0              0    ...                 0   \n",
       "RIT.TO              -0.0795889      -0.316355    ...                 0   \n",
       "EMB                          0              0    ...           0.29331   \n",
       "DJI_365_17000_P              0              0    ...                 0   \n",
       "\n",
       "                   CGOV 10y    CGOV 5y    CGOV 2y        Gold  Crude Oil  \\\n",
       "MRD.TO                    0          0          0           0          0   \n",
       "CIM.AX                    0          0          0           0          0   \n",
       "GAPSX                     0          0          0           0          0   \n",
       "LNC                       0          0          0           0          0   \n",
       "KNEBV.HE                  0          0          0           0          0   \n",
       "HBD.TO            -0.138415    0.15594  0.0120714   -0.580562  -0.211411   \n",
       "HGU.TO                    0          0          0           0          0   \n",
       "OIH                       0          0          0           0          0   \n",
       "RIT.TO                    0          0          0           0          0   \n",
       "EMB             -0.00990348 -0.0538247  0.0238864  0.00718207  0.0137843   \n",
       "DJI_365_17000_P           0          0          0           0          0   \n",
       "\n",
       "                US Real Estate CAN Real Estate Toronto Real Estate        VIX  \n",
       "MRD.TO                       0               0                   0          0  \n",
       "CIM.AX                       0               0                   0          0  \n",
       "GAPSX                        0               0                   0          0  \n",
       "LNC                          0               0                   0          0  \n",
       "KNEBV.HE                     0               0                   0          0  \n",
       "HBD.TO              -0.0604814      -0.0265425           0.0694042  0.0145569  \n",
       "HGU.TO                       0               0                   0          0  \n",
       "OIH                          0               0                   0          0  \n",
       "RIT.TO                       0               0                   0          0  \n",
       "EMB                  0.0537731       0.0358046           0.0162667 -0.0144953  \n",
       "DJI_365_17000_P              0               0                   0  -0.215669  \n",
       "\n",
       "[11 rows x 43 columns]"
      ]
     },
     "execution_count": 11,
     "metadata": {},
     "output_type": "execute_result"
    }
   ],
   "source": [
    "betas"
   ]
  },
  {
   "cell_type": "code",
   "execution_count": 12,
   "metadata": {},
   "outputs": [
    {
     "name": "stdout",
     "output_type": "stream",
     "text": [
      "CAD\n",
      "AUD\n",
      "USD\n",
      "USD\n",
      "EUR\n",
      "CAD\n",
      "CAD\n",
      "USD\n",
      "CAD\n",
      "USD\n"
     ]
    }
   ],
   "source": [
    "for item in test_admin.PortfolioWeights.keys():\n",
    "    print(universe.get_security(item).currency)"
   ]
  },
  {
   "cell_type": "code",
   "execution_count": 16,
   "metadata": {},
   "outputs": [
    {
     "data": {
      "text/plain": [
       "30806.048385868733"
      ]
     },
     "execution_count": 16,
     "metadata": {},
     "output_type": "execute_result"
    }
   ],
   "source": [
    "start_date='2014-04-01'\n",
    "today_date='2019-06-01'"
   ]
  },
  {
   "cell_type": "code",
   "execution_count": 17,
   "metadata": {},
   "outputs": [
    {
     "name": "stdout",
     "output_type": "stream",
     "text": [
      "1887\n"
     ]
    },
    {
     "data": {
      "text/plain": [
       "0.18310229559889346"
      ]
     },
     "execution_count": 17,
     "metadata": {},
     "output_type": "execute_result"
    }
   ],
   "source": [
    "SimpleReturn(test_admin.portfolio,start_date,today_date)"
   ]
  },
  {
   "cell_type": "code",
   "execution_count": 19,
   "metadata": {},
   "outputs": [
    {
     "data": {
      "text/plain": [
       "0.3529559484291919"
      ]
     },
     "execution_count": 19,
     "metadata": {},
     "output_type": "execute_result"
    }
   ],
   "source": [
    "MoneyWeightedReturn(test_admin.portfolio,test_admin.cash_transacs,start_date,today_date)"
   ]
  },
  {
   "cell_type": "code",
   "execution_count": 20,
   "metadata": {},
   "outputs": [
    {
     "data": {
      "text/plain": [
       "0.04747881447273761"
      ]
     },
     "execution_count": 20,
     "metadata": {},
     "output_type": "execute_result"
    }
   ],
   "source": [
    "TimeWeightedReturn(test_admin.portfolio,test_admin.cash_transacs,start_date,today_date)"
   ]
  },
  {
   "cell_type": "code",
   "execution_count": 21,
   "metadata": {},
   "outputs": [
    {
     "data": {
      "text/plain": [
       "[<matplotlib.lines.Line2D at 0x12d104a7f28>]"
      ]
     },
     "execution_count": 21,
     "metadata": {},
     "output_type": "execute_result"
    },
    {
     "data": {
      "image/png": "[encoded data removed]",
      "text/plain": [
       "<Figure size 720x720 with 1 Axes>"
      ]
     },
     "metadata": {
      "needs_background": "light"
     },
     "output_type": "display_data"
    }
   ],
   "source": [
    "from datetime import datetime\n",
    "date_format='%Y-%m-%d'\n",
    "today_date=test_admin.today\n",
    "all_dates=[datetime.strftime(item,date_format) for item in pd.date_range(start_date,today_date,freq='M')]\n",
    "portf_values=[]\n",
    "portf_values_norebal=[]\n",
    "for item in all_dates:\n",
    "    portf_values.append(test_admin.getAccountValue(item))\n",
    "#     portf_values_norebal.append(test_admin_norebal.getAccountValue(item))\n",
    "from matplotlib import pyplot as plt\n",
    "plt.figure(figsize=(10,10))\n",
    "plt.plot(all_dates,portf_values)"
   ]
  },
  {
   "cell_type": "code",
   "execution_count": null,
   "metadata": {},
   "outputs": [],
   "source": []
  }
 ],
 "metadata": {
  "kernelspec": {
   "display_name": "Python 3",
   "language": "python",
   "name": "python3"
  },
  "language_info": {
   "codemirror_mode": {
    "name": "ipython",
    "version": 3
   },
   "file_extension": ".py",
   "mimetype": "text/x-python",
   "name": "python",
   "nbconvert_exporter": "python",
   "pygments_lexer": "ipython3",
   "version": "3.7.0"
  }
 },
 "nbformat": 4,
 "nbformat_minor": 2
}
