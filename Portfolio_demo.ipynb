{
 "cells": [
  {
   "cell_type": "code",
   "execution_count": 1,
   "metadata": {},
   "outputs": [],
   "source": [
    "from Portfolio import Portfolio, universe # universe is a global variable\n",
    "# and each portfolio can access to the universe\n"
   ]
  },
  {
   "cell_type": "code",
   "execution_count": 2,
   "metadata": {},
   "outputs": [],
   "source": [
    "import imp\n",
    "from Admin import Admin, MeanReturn, MoneyWeightedReturn,SimpleReturn,TimeWeightedReturn,Volatility, PortfolioVaR, SharpeRatio, calculate_drawdown,MarginalVaRs\n",
    "import pandas as pd\n",
    "# imp.reload(Admin)"
   ]
  },
  {
   "cell_type": "code",
   "execution_count": 3,
   "metadata": {},
   "outputs": [],
   "source": [
    "userID = \"5\""
   ]
  },
  {
   "cell_type": "code",
   "execution_count": 4,
   "metadata": {},
   "outputs": [
    {
     "name": "stdout",
     "output_type": "stream",
     "text": [
      "We are in a good state, target weights with short selling returned\n"
     ]
    },
    {
     "data": {
      "text/plain": [
       "([(0.133, 0.139)], [{'SPY': 1.0}])"
      ]
     },
     "execution_count": 4,
     "metadata": {},
     "output_type": "execute_result"
    }
   ],
   "source": [
    "#Initialize admin\n",
    "test_admin=Admin()\n",
    "#\n",
    "test_admin.suggestPortfolio(userID,'2014-04-01')"
   ]
  },
  {
   "cell_type": "code",
   "execution_count": 5,
   "metadata": {},
   "outputs": [
    {
     "data": {
      "text/plain": [
       "199980.0019998"
      ]
     },
     "execution_count": 5,
     "metadata": {},
     "output_type": "execute_result"
    }
   ],
   "source": [
    "test_admin.acceptPortfolio(0)\n",
    "test_admin.getAccountValue('2014-04-01')"
   ]
  },
  {
   "cell_type": "code",
   "execution_count": 6,
   "metadata": {},
   "outputs": [],
   "source": [
    "test_admin.trackPortfolio(rebalance_flag=True,rebalance_freq='3MS',rebal_start_date='2014-09-01')"
   ]
  },
  {
   "cell_type": "markdown",
   "metadata": {},
   "source": [
    "## Number of Shares Held as of June 1, 2019"
   ]
  },
  {
   "cell_type": "code",
   "execution_count": 7,
   "metadata": {
    "scrolled": true
   },
   "outputs": [
    {
     "data": {
      "text/html": [
       "<div>\n",
       "<style scoped>\n",
       "    .dataframe tbody tr th:only-of-type {\n",
       "        vertical-align: middle;\n",
       "    }\n",
       "\n",
       "    .dataframe tbody tr th {\n",
       "        vertical-align: top;\n",
       "    }\n",
       "\n",
       "    .dataframe thead th {\n",
       "        text-align: right;\n",
       "    }\n",
       "</style>\n",
       "<table border=\"1\" class=\"dataframe\">\n",
       "  <thead>\n",
       "    <tr style=\"text-align: right;\">\n",
       "      <th></th>\n",
       "      <th>Deposit-CAD</th>\n",
       "    </tr>\n",
       "  </thead>\n",
       "  <tbody>\n",
       "    <tr>\n",
       "      <th>SPY</th>\n",
       "      <td>1714.709344</td>\n",
       "    </tr>\n",
       "  </tbody>\n",
       "</table>\n",
       "</div>"
      ],
      "text/plain": [
       "     Deposit-CAD\n",
       "SPY  1714.709344"
      ]
     },
     "execution_count": 7,
     "metadata": {},
     "output_type": "execute_result"
    }
   ],
   "source": [
    "pd.DataFrame(test_admin.portfolio['2019-06-01'].portfolio).T.to_clipboard() \n",
    "pd.DataFrame(test_admin.portfolio['2019-06-01'].portfolio).T"
   ]
  },
  {
   "cell_type": "code",
   "execution_count": 8,
   "metadata": {},
   "outputs": [
    {
     "data": {
      "text/plain": [
       "199980.0019998"
      ]
     },
     "execution_count": 8,
     "metadata": {},
     "output_type": "execute_result"
    }
   ],
   "source": [
    "start_date='2014-04-01'\n",
    "test_admin.getAccountValue(start_date)"
   ]
  },
  {
   "cell_type": "code",
   "execution_count": 9,
   "metadata": {},
   "outputs": [
    {
     "name": "stdout",
     "output_type": "stream",
     "text": [
      "We are in a good state, target weights with short selling returned\n"
     ]
    },
    {
     "data": {
      "text/plain": [
       "199980.0019998"
      ]
     },
     "execution_count": 9,
     "metadata": {},
     "output_type": "execute_result"
    },
    {
     "data": {
      "image/png": "[encoded data removed]",
      "text/plain": [
       "<Figure size 432x288 with 1 Axes>"
      ]
     },
     "metadata": {
      "needs_background": "light"
     },
     "output_type": "display_data"
    }
   ],
   "source": [
    "test_admin_norebal=Admin()\n",
    "#\n",
    "test_admin_norebal.suggestPortfolio(userID,start_date)\n",
    "test_admin_norebal.acceptPortfolio(0)\n",
    "test_admin_norebal.trackPortfolio(rebalance_flag=False)\n",
    "test_admin_norebal.getAccountValue(start_date)"
   ]
  },
  {
   "cell_type": "code",
   "execution_count": 10,
   "metadata": {},
   "outputs": [
    {
     "name": "stdout",
     "output_type": "stream",
     "text": [
      "We are in a good state, target weights with short selling returned\n"
     ]
    },
    {
     "data": {
      "text/plain": [
       "199980.0019998"
      ]
     },
     "execution_count": 10,
     "metadata": {},
     "output_type": "execute_result"
    },
    {
     "data": {
      "image/png": "[encoded data removed]",
      "text/plain": [
       "<Figure size 432x288 with 1 Axes>"
      ]
     },
     "metadata": {
      "needs_background": "light"
     },
     "output_type": "display_data"
    }
   ],
   "source": [
    "test_admin_norebal_nocash=Admin()\n",
    "#\n",
    "test_admin_norebal_nocash.suggestPortfolio(userID,start_date)\n",
    "test_admin_norebal_nocash.acceptPortfolio(0)\n",
    "test_admin_norebal_nocash.trackPortfolio(rebalance_flag=False, cash_injections=False)\n",
    "test_admin_norebal_nocash.getAccountValue(start_date)"
   ]
  },
  {
   "cell_type": "code",
   "execution_count": 11,
   "metadata": {},
   "outputs": [],
   "source": [
    "from datetime import datetime\n",
    "date_format='%Y-%m-%d'\n",
    "today_date=test_admin.today\n",
    "all_dates=[datetime.strftime(item,date_format) for item in pd.date_range(start_date,today_date,freq='M')]\n"
   ]
  },
  {
   "cell_type": "code",
   "execution_count": 12,
   "metadata": {},
   "outputs": [],
   "source": [
    "portf_values=[]\n",
    "portf_values_norebal=[]\n",
    "portf_values_norebal_nocash = []\n",
    "for item in all_dates:\n",
    "    portf_values.append(test_admin.getAccountValue(item))\n",
    "    portf_values_norebal.append(test_admin_norebal.getAccountValue(item))\n",
    "    portf_values_norebal_nocash.append(test_admin_norebal_nocash.getAccountValue(item))"
   ]
  },
  {
   "cell_type": "code",
   "execution_count": 13,
   "metadata": {},
   "outputs": [
    {
     "data": {
      "text/plain": [
       "[<matplotlib.lines.Line2D at 0x17a104eaf28>]"
      ]
     },
     "execution_count": 13,
     "metadata": {},
     "output_type": "execute_result"
    },
    {
     "data": {
      "image/png": "[encoded data removed]",
      "text/plain": [
       "<Figure size 720x720 with 1 Axes>"
      ]
     },
     "metadata": {
      "needs_background": "light"
     },
     "output_type": "display_data"
    }
   ],
   "source": [
    "from matplotlib import pyplot as plt\n",
    "plt.figure(figsize=(10,10))\n",
    "plt.plot(all_dates,portf_values)\n",
    "plt.plot(all_dates,portf_values_norebal,'--')\n",
    "plt.plot(all_dates, portf_values_norebal_nocash, ':')"
   ]
  },
  {
   "cell_type": "code",
   "execution_count": 14,
   "metadata": {},
   "outputs": [],
   "source": [
    "import numpy as np\n",
    "portfolio1_values=pd.DataFrame([np.float(item) for item in portf_values],index=all_dates,columns=['Rebal'])\n",
    "portfolio1_values['NoRebal']=[np.float(item) for item in portf_values_norebal]"
   ]
  },
  {
   "cell_type": "markdown",
   "metadata": {},
   "source": [
    "## Account Balance"
   ]
  },
  {
   "cell_type": "code",
   "execution_count": 15,
   "metadata": {
    "scrolled": true
   },
   "outputs": [
    {
     "data": {
      "text/plain": [
       "638386.1121640842"
      ]
     },
     "execution_count": 15,
     "metadata": {},
     "output_type": "execute_result"
    }
   ],
   "source": [
    "test_admin.getAccountValue('2019-06-01')"
   ]
  },
  {
   "cell_type": "code",
   "execution_count": 16,
   "metadata": {},
   "outputs": [
    {
     "data": {
      "text/plain": [
       "585308.2471194502"
      ]
     },
     "execution_count": 16,
     "metadata": {},
     "output_type": "execute_result"
    }
   ],
   "source": [
    "test_admin_norebal.getAccountValue('2019-06-01')"
   ]
  },
  {
   "cell_type": "code",
   "execution_count": 17,
   "metadata": {},
   "outputs": [
    {
     "data": {
      "text/plain": [
       "376391.36490244523"
      ]
     },
     "execution_count": 17,
     "metadata": {},
     "output_type": "execute_result"
    }
   ],
   "source": [
    "test_admin_norebal_nocash.getAccountValue('2019-06-01')"
   ]
  },
  {
   "cell_type": "code",
   "execution_count": 18,
   "metadata": {},
   "outputs": [
    {
     "data": {
      "text/html": [
       "<div>\n",
       "<style scoped>\n",
       "    .dataframe tbody tr th:only-of-type {\n",
       "        vertical-align: middle;\n",
       "    }\n",
       "\n",
       "    .dataframe tbody tr th {\n",
       "        vertical-align: top;\n",
       "    }\n",
       "\n",
       "    .dataframe thead th {\n",
       "        text-align: right;\n",
       "    }\n",
       "</style>\n",
       "<table border=\"1\" class=\"dataframe\">\n",
       "  <thead>\n",
       "    <tr style=\"text-align: right;\">\n",
       "      <th></th>\n",
       "      <th>Security Ticker</th>\n",
       "      <th>Instrument Type</th>\n",
       "      <th>Asset Class</th>\n",
       "      <th>Country</th>\n",
       "      <th>Sector</th>\n",
       "    </tr>\n",
       "  </thead>\n",
       "  <tbody>\n",
       "    <tr>\n",
       "      <th>0</th>\n",
       "      <td>SPY</td>\n",
       "      <td>&lt;class 'Instrument.ETF'&gt;</td>\n",
       "      <td>Equity:USD</td>\n",
       "      <td>USD</td>\n",
       "      <td>NA</td>\n",
       "    </tr>\n",
       "  </tbody>\n",
       "</table>\n",
       "</div>"
      ],
      "text/plain": [
       "  Security Ticker           Instrument Type Asset Class Country Sector\n",
       "0             SPY  <class 'Instrument.ETF'>  Equity:USD     USD     NA"
      ]
     },
     "execution_count": 18,
     "metadata": {},
     "output_type": "execute_result"
    }
   ],
   "source": [
    "# account info\n",
    "tickers = test_admin.portfolio['2019-06-01'].portfolio.keys()\n",
    "portofolioInfo = pd.DataFrame()\n",
    "i = []\n",
    "a = []\n",
    "c = []\n",
    "sec = []\n",
    "for t in tickers:\n",
    "    instru = universe.get_security(t)\n",
    "    i.append(type(instru))\n",
    "    a.append(instru.get_type_RM())\n",
    "    try:\n",
    "        c.append(instru.country)\n",
    "    except:\n",
    "        c.append(instru.currency)\n",
    "    try:\n",
    "        sec.append(instru.sector)\n",
    "    except:\n",
    "        sec.append(\"NA\")\n",
    "op = [tickers, i, a, c, sec]    \n",
    "cols = [\"Security Ticker\", \"Instrument Type\", \"Asset Class\", \"Country\", \"Sector\"]\n",
    "for num in range(5):\n",
    "    portofolioInfo[cols[num]] = op[num]\n",
    "\n",
    "portofolioInfo"
   ]
  },
  {
   "cell_type": "markdown",
   "metadata": {},
   "source": [
    "## Risk Metrics"
   ]
  },
  {
   "cell_type": "code",
   "execution_count": 19,
   "metadata": {
    "scrolled": true
   },
   "outputs": [
    {
     "data": {
      "text/html": [
       "<div>\n",
       "<style scoped>\n",
       "    .dataframe tbody tr th:only-of-type {\n",
       "        vertical-align: middle;\n",
       "    }\n",
       "\n",
       "    .dataframe tbody tr th {\n",
       "        vertical-align: top;\n",
       "    }\n",
       "\n",
       "    .dataframe thead th {\n",
       "        text-align: right;\n",
       "    }\n",
       "</style>\n",
       "<table border=\"1\" class=\"dataframe\">\n",
       "  <thead>\n",
       "    <tr style=\"text-align: right;\">\n",
       "      <th></th>\n",
       "      <th>2019-03-01</th>\n",
       "      <th>2018-06-01</th>\n",
       "      <th>2014-04-01</th>\n",
       "    </tr>\n",
       "  </thead>\n",
       "  <tbody>\n",
       "    <tr>\n",
       "      <th>Mean Return</th>\n",
       "      <td>-0.090669</td>\n",
       "      <td>0.100191</td>\n",
       "      <td>0.219137</td>\n",
       "    </tr>\n",
       "    <tr>\n",
       "      <th>Simple Return</th>\n",
       "      <td>0.052022</td>\n",
       "      <td>0.131943</td>\n",
       "      <td>0.251719</td>\n",
       "    </tr>\n",
       "    <tr>\n",
       "      <th>Time W. Return</th>\n",
       "      <td>-0.070607</td>\n",
       "      <td>0.062680</td>\n",
       "      <td>0.136225</td>\n",
       "    </tr>\n",
       "    <tr>\n",
       "      <th>Money W. Return</th>\n",
       "      <td>0.195600</td>\n",
       "      <td>0.210050</td>\n",
       "      <td>0.406419</td>\n",
       "    </tr>\n",
       "    <tr>\n",
       "      <th>Vol</th>\n",
       "      <td>0.172304</td>\n",
       "      <td>0.163144</td>\n",
       "      <td>0.127027</td>\n",
       "    </tr>\n",
       "    <tr>\n",
       "      <th>Sharpe Ratio</th>\n",
       "      <td>0.167362</td>\n",
       "      <td>0.680532</td>\n",
       "      <td>1.925567</td>\n",
       "    </tr>\n",
       "    <tr>\n",
       "      <th>Max Drawdown</th>\n",
       "      <td>-0.054191</td>\n",
       "      <td>-0.098126</td>\n",
       "      <td>-0.098126</td>\n",
       "    </tr>\n",
       "  </tbody>\n",
       "</table>\n",
       "</div>"
      ],
      "text/plain": [
       "                 2019-03-01  2018-06-01  2014-04-01\n",
       "Mean Return       -0.090669    0.100191    0.219137\n",
       "Simple Return      0.052022    0.131943    0.251719\n",
       "Time W. Return    -0.070607    0.062680    0.136225\n",
       "Money W. Return    0.195600    0.210050    0.406419\n",
       "Vol                0.172304    0.163144    0.127027\n",
       "Sharpe Ratio       0.167362    0.680532    1.925567\n",
       "Max Drawdown      -0.054191   -0.098126   -0.098126"
      ]
     },
     "execution_count": 19,
     "metadata": {},
     "output_type": "execute_result"
    }
   ],
   "source": [
    "start_dates=['2019-03-01', '2018-06-01', \"2014-04-01\"] \n",
    "risk_metrics_table = pd.DataFrame()\n",
    "for start_date in start_dates:\n",
    "    risks = []\n",
    "    risks.append(MeanReturn(test_admin.portfolio,start_date,today_date))\n",
    "    risks.append(SimpleReturn(test_admin.portfolio,start_date,today_date))\n",
    "    risks.append(TimeWeightedReturn(test_admin.portfolio,test_admin.cash_transacs,start_date,today_date))\n",
    "    #print(TimeWeightedReturn(benchmark.portfolio,benchmark.cash_transacs,start_date,today_date))\n",
    "    risks.append(MoneyWeightedReturn(test_admin.portfolio,test_admin.cash_transacs,start_date,today_date))\n",
    "    risks.append(Volatility(test_admin.portfolio,start_date,today_date))\n",
    "    risks.append(SharpeRatio(test_admin.portfolio,start_date,today_date, universe.get_security(\"rf_rate_cad\")))\n",
    "    risks.append(calculate_drawdown(test_admin, start_date, today_date))\n",
    "    risk_metrics_table[start_date] = pd.Series(risks, index=[\"Mean Return\", \"Simple Return\", \"Time W. Return\",\n",
    "                                                             \"Money W. Return\",\"Vol\", \"Sharpe Ratio\", \"Max Drawdown\"])\n",
    "risk_metrics_table"
   ]
  },
  {
   "cell_type": "markdown",
   "metadata": {},
   "source": [
    "#### w/o rebalancing"
   ]
  },
  {
   "cell_type": "code",
   "execution_count": 31,
   "metadata": {
    "scrolled": true
   },
   "outputs": [
    {
     "data": {
      "text/html": [
       "<div>\n",
       "<style scoped>\n",
       "    .dataframe tbody tr th:only-of-type {\n",
       "        vertical-align: middle;\n",
       "    }\n",
       "\n",
       "    .dataframe tbody tr th {\n",
       "        vertical-align: top;\n",
       "    }\n",
       "\n",
       "    .dataframe thead th {\n",
       "        text-align: right;\n",
       "    }\n",
       "</style>\n",
       "<table border=\"1\" class=\"dataframe\">\n",
       "  <thead>\n",
       "    <tr style=\"text-align: right;\">\n",
       "      <th></th>\n",
       "      <th>2019-03-01</th>\n",
       "      <th>2018-06-01</th>\n",
       "      <th>2014-04-01</th>\n",
       "    </tr>\n",
       "  </thead>\n",
       "  <tbody>\n",
       "    <tr>\n",
       "      <th>Mean Return</th>\n",
       "      <td>-0.046674</td>\n",
       "      <td>0.107320</td>\n",
       "      <td>0.204667</td>\n",
       "    </tr>\n",
       "    <tr>\n",
       "      <th>Simple Return</th>\n",
       "      <td>0.046432</td>\n",
       "      <td>0.127169</td>\n",
       "      <td>0.230877</td>\n",
       "    </tr>\n",
       "    <tr>\n",
       "      <th>Time W. Return</th>\n",
       "      <td>-0.085541</td>\n",
       "      <td>0.051963</td>\n",
       "      <td>0.113652</td>\n",
       "    </tr>\n",
       "    <tr>\n",
       "      <th>Money W. Return</th>\n",
       "      <td>0.203144</td>\n",
       "      <td>0.212071</td>\n",
       "      <td>0.388759</td>\n",
       "    </tr>\n",
       "    <tr>\n",
       "      <th>Vol</th>\n",
       "      <td>0.117361</td>\n",
       "      <td>0.117804</td>\n",
       "      <td>0.106952</td>\n",
       "    </tr>\n",
       "    <tr>\n",
       "      <th>Sharpe Ratio</th>\n",
       "      <td>0.198084</td>\n",
       "      <td>0.901923</td>\n",
       "      <td>2.092125</td>\n",
       "    </tr>\n",
       "    <tr>\n",
       "      <th>Max Drawdown</th>\n",
       "      <td>-0.036394</td>\n",
       "      <td>-0.066779</td>\n",
       "      <td>-0.066779</td>\n",
       "    </tr>\n",
       "  </tbody>\n",
       "</table>\n",
       "</div>"
      ],
      "text/plain": [
       "                 2019-03-01  2018-06-01  2014-04-01\n",
       "Mean Return       -0.046674    0.107320    0.204667\n",
       "Simple Return      0.046432    0.127169    0.230877\n",
       "Time W. Return    -0.085541    0.051963    0.113652\n",
       "Money W. Return    0.203144    0.212071    0.388759\n",
       "Vol                0.117361    0.117804    0.106952\n",
       "Sharpe Ratio       0.198084    0.901923    2.092125\n",
       "Max Drawdown      -0.036394   -0.066779   -0.066779"
      ]
     },
     "execution_count": 31,
     "metadata": {},
     "output_type": "execute_result"
    }
   ],
   "source": [
    "start_dates=['2019-03-01', '2018-06-01', \"2014-04-01\"] \n",
    "risk_metrics_table = pd.DataFrame()\n",
    "for start_date in start_dates:\n",
    "    risks = []\n",
    "    risks.append(MeanReturn(test_admin_norebal.portfolio,start_date,today_date))\n",
    "    risks.append(SimpleReturn(test_admin_norebal.portfolio,start_date,today_date))\n",
    "    risks.append(TimeWeightedReturn(test_admin_norebal.portfolio,test_admin_norebal.cash_transacs,start_date,today_date))\n",
    "    #print(TimeWeightedReturn(benchmark.portfolio,benchmark.cash_transacs,start_date,today_date))\n",
    "    risks.append(MoneyWeightedReturn(test_admin_norebal.portfolio,test_admin_norebal.cash_transacs,start_date,today_date))\n",
    "    risks.append(Volatility(test_admin_norebal.portfolio,start_date,today_date))\n",
    "    risks.append(SharpeRatio(test_admin_norebal.portfolio,start_date,today_date, universe.get_security(\"rf_rate_cad\")))\n",
    "    risks.append(calculate_drawdown(test_admin_norebal, start_date, today_date))\n",
    "    risk_metrics_table[start_date] = pd.Series(risks, index=[\"Mean Return\", \"Simple Return\", \"Time W. Return\",\n",
    "                                                             \"Money W. Return\",\"Vol\", \"Sharpe Ratio\", \"Max Drawdown\"])\n",
    "risk_metrics_table.to_clipboard() \n",
    "risk_metrics_table"
   ]
  },
  {
   "cell_type": "code",
   "execution_count": 32,
   "metadata": {},
   "outputs": [
    {
     "data": {
      "text/html": [
       "<div>\n",
       "<style scoped>\n",
       "    .dataframe tbody tr th:only-of-type {\n",
       "        vertical-align: middle;\n",
       "    }\n",
       "\n",
       "    .dataframe tbody tr th {\n",
       "        vertical-align: top;\n",
       "    }\n",
       "\n",
       "    .dataframe thead th {\n",
       "        text-align: right;\n",
       "    }\n",
       "</style>\n",
       "<table border=\"1\" class=\"dataframe\">\n",
       "  <thead>\n",
       "    <tr style=\"text-align: right;\">\n",
       "      <th></th>\n",
       "      <th>2019-03-01</th>\n",
       "      <th>2018-06-01</th>\n",
       "      <th>2014-04-01</th>\n",
       "    </tr>\n",
       "  </thead>\n",
       "  <tbody>\n",
       "    <tr>\n",
       "      <th>Mean Return</th>\n",
       "      <td>-0.090669</td>\n",
       "      <td>0.030967</td>\n",
       "      <td>0.118195</td>\n",
       "    </tr>\n",
       "    <tr>\n",
       "      <th>Simple Return</th>\n",
       "      <td>0.052440</td>\n",
       "      <td>0.060819</td>\n",
       "      <td>0.130123</td>\n",
       "    </tr>\n",
       "    <tr>\n",
       "      <th>Time W. Return</th>\n",
       "      <td>-0.145198</td>\n",
       "      <td>-0.044259</td>\n",
       "      <td>-0.008056</td>\n",
       "    </tr>\n",
       "    <tr>\n",
       "      <th>Money W. Return</th>\n",
       "      <td>0.310775</td>\n",
       "      <td>0.183574</td>\n",
       "      <td>0.306268</td>\n",
       "    </tr>\n",
       "    <tr>\n",
       "      <th>Vol</th>\n",
       "      <td>0.172304</td>\n",
       "      <td>0.155492</td>\n",
       "      <td>0.115166</td>\n",
       "    </tr>\n",
       "    <tr>\n",
       "      <th>Sharpe Ratio</th>\n",
       "      <td>0.169785</td>\n",
       "      <td>0.256610</td>\n",
       "      <td>1.068048</td>\n",
       "    </tr>\n",
       "    <tr>\n",
       "      <th>Max Drawdown</th>\n",
       "      <td>-0.054191</td>\n",
       "      <td>-0.111885</td>\n",
       "      <td>-0.111885</td>\n",
       "    </tr>\n",
       "  </tbody>\n",
       "</table>\n",
       "</div>"
      ],
      "text/plain": [
       "                 2019-03-01  2018-06-01  2014-04-01\n",
       "Mean Return       -0.090669    0.030967    0.118195\n",
       "Simple Return      0.052440    0.060819    0.130123\n",
       "Time W. Return    -0.145198   -0.044259   -0.008056\n",
       "Money W. Return    0.310775    0.183574    0.306268\n",
       "Vol                0.172304    0.155492    0.115166\n",
       "Sharpe Ratio       0.169785    0.256610    1.068048\n",
       "Max Drawdown      -0.054191   -0.111885   -0.111885"
      ]
     },
     "execution_count": 32,
     "metadata": {},
     "output_type": "execute_result"
    }
   ],
   "source": [
    "#### w/o rebalancing w/o cash\n",
    "\n",
    "start_dates=['2019-03-01', '2018-06-01', \"2014-04-01\"] \n",
    "risk_metrics_table = pd.DataFrame()\n",
    "for start_date in start_dates:\n",
    "    risks = []\n",
    "    risks.append(MeanReturn(test_admin_norebal_nocash.portfolio,start_date,today_date))\n",
    "    risks.append(SimpleReturn(test_admin_norebal_nocash.portfolio,start_date,today_date))\n",
    "    risks.append(TimeWeightedReturn(test_admin_norebal_nocash.portfolio,test_admin_norebal_nocash.cash_transacs,start_date,today_date))\n",
    "    #print(TimeWeightedReturn(benchmark.portfolio,benchmark.cash_transacs,start_date,today_date))\n",
    "    risks.append(MoneyWeightedReturn(test_admin_norebal_nocash.portfolio,test_admin_norebal_nocash.cash_transacs,start_date,today_date))\n",
    "    risks.append(Volatility(test_admin_norebal_nocash.portfolio,start_date,today_date))\n",
    "    risks.append(SharpeRatio(test_admin_norebal_nocash.portfolio,start_date,today_date, universe.get_security(\"rf_rate_cad\")))\n",
    "    risks.append(calculate_drawdown(test_admin_norebal_nocash, start_date, today_date))\n",
    "    risk_metrics_table[start_date] = pd.Series(risks, index=[\"Mean Return\", \"Simple Return\", \"Time W. Return\",\n",
    "                                                             \"Money W. Return\",\"Vol\", \"Sharpe Ratio\", \"Max Drawdown\"])\n",
    "risk_metrics_table.to_clipboard() \n",
    "risk_metrics_table"
   ]
  },
  {
   "cell_type": "code",
   "execution_count": 22,
   "metadata": {},
   "outputs": [],
   "source": [
    "from Admin import ReturnAttribCurrency"
   ]
  },
  {
   "cell_type": "code",
   "execution_count": 23,
   "metadata": {},
   "outputs": [
    {
     "name": "stderr",
     "output_type": "stream",
     "text": [
      "C:\\ProgramData\\Anaconda3\\lib\\site-packages\\numpy\\core\\fromnumeric.py:2389: FutureWarning: Method .ptp is deprecated and will be removed in a future version. Use numpy.ptp instead.\n",
      "  return ptp(axis=axis, out=out, **kwargs)\n"
     ]
    },
    {
     "data": {
      "text/plain": [
       "137542.02285957767"
      ]
     },
     "execution_count": 23,
     "metadata": {},
     "output_type": "execute_result"
    }
   ],
   "source": [
    "betas, VaRannual=PortfolioVaR(test_admin,start_date,today_date,True)\n",
    "VaRannual"
   ]
  },
  {
   "cell_type": "code",
   "execution_count": 24,
   "metadata": {},
   "outputs": [
    {
     "data": {
      "text/plain": [
       "(Currency\n",
       " USD    0.027392\n",
       " Name: Return Contribution, dtype: float64,\n",
       " -0.014041527654897745,\n",
       " 0.012966068282628918)"
      ]
     },
     "execution_count": 24,
     "metadata": {},
     "output_type": "execute_result"
    }
   ],
   "source": [
    "ReturnAttribCurrency(test_admin.PortfolioWeights,'2019-03-01','2019-06-01')"
   ]
  },
  {
   "cell_type": "markdown",
   "metadata": {},
   "source": [
    "### Marginal VaRs"
   ]
  },
  {
   "cell_type": "code",
   "execution_count": 25,
   "metadata": {},
   "outputs": [],
   "source": [
    "# def MarginalVaRs(account,fit_start_date,fit_end_date):\n",
    "#     #Think about currency\n",
    "#     #fit model in local currency, aggregate to potfolio level in CAD\n",
    "#     #when to do conversion for risk metrics???\n",
    "#     import scipy as sp\n",
    "#     from HelperFunctions import fill_missing_data_business\n",
    "#     result_df = pd.DataFrame()\n",
    "#     factor_tickers = universe._riskFactors.keys()\n",
    "#     #print(factor_tickers)\n",
    "#     for k in factor_tickers:\n",
    "#         result_df[k] = fill_missing_data_business(universe._riskFactors[k].price, fit_start_date, fit_end_date,freq='B')\n",
    "#     factor_cov=result_df.cov()*252\n",
    "#     model1={}\n",
    "#     for item in account.PortfolioWeights.keys():\n",
    "#         model1[item]=universe.fitFactorModel(item,fit_start_date,252*5).params\n",
    "#     betas=pd.DataFrame(index=list(model1.keys()),columns=factor_cov.index)\n",
    "#     for item in model1.keys():\n",
    "#         betas.loc[item,:]=model1[item].reindex(factor_cov.index,fill_value=0)\n",
    "# #     print(betas)\n",
    "#     sec_cov=pd.DataFrame(np.dot(betas,np.dot(factor_cov,betas.transpose())),index=list(model1.keys()),columns=list(model1.keys()))\n",
    "#     weights=[np.float(item) for item in list(account.PortfolioWeights.values())]\n",
    "#     portf_vol=np.sqrt(np.dot(weights,np.dot(sec_cov,weights)))\n",
    "    \n",
    "#     sec_result_df=np.dot(result_df,betas.transpose())\n",
    "# #     print(sec_result_df)\n",
    "# #     sec_result_df_out=sec_result_df.reindex(columns=list(sec_result_df.columns)+['Portfolio'])\n",
    "# #     sec_result_df_out.loc[:'Portfolio']=\n",
    "#     portf_series=np.array(np.matmul(np.array(weights),np.array(sec_result_df).astype(float).transpose())).astype(np.float64)\n",
    "    \n",
    "#     sec_result_df_out=pd.DataFrame(np.concatenate((sec_result_df,portf_series.reshape(-1,1)),axis=1),columns=list(betas.index)+['Portfolio'],index=result_df.index)\n",
    "# #     print(sec_result_df_out)\n",
    "\n",
    "#     result_df_cov=252*sec_result_df_out.astype(np.float64).cov()\n",
    "# #     print(result_df_cov)\n",
    "#     betas_new=result_df_cov.loc[:,'Portfolio'].divide(portf_vol**2)    \n",
    "#     MVaRs=betas_new*sp.stats.norm.ppf(0.95)*portf_vol\n",
    "#     #now to dollar value\n",
    "#     cur_doll_val=[]\n",
    "#     for item in account.PortfolioWeights.keys():\n",
    "#         cur_doll_val.append(np.float(account.portfolio[fit_end_date].portfolio[item]*universe.get_price_in_currency(item,fit_end_date,'CAD')))\n",
    "# #     np.multiply(MVaRs[:-1],cur_doll_val)\n",
    "# #     print(cur_doll_val)\n",
    "#     return np.multiply(MVaRs[:-1],cur_doll_val)"
   ]
  },
  {
   "cell_type": "code",
   "execution_count": 26,
   "metadata": {},
   "outputs": [
    {
     "name": "stdout",
     "output_type": "stream",
     "text": [
      "0.1309859517290881\n"
     ]
    }
   ],
   "source": [
    "# from Admin import MarginalVaRs\n",
    "Mar_vars=MarginalVaRs(test_admin,start_date,today_date)"
   ]
  },
  {
   "cell_type": "code",
   "execution_count": 27,
   "metadata": {},
   "outputs": [
    {
     "data": {
      "text/html": [
       "<div>\n",
       "<style scoped>\n",
       "    .dataframe tbody tr th:only-of-type {\n",
       "        vertical-align: middle;\n",
       "    }\n",
       "\n",
       "    .dataframe tbody tr th {\n",
       "        vertical-align: top;\n",
       "    }\n",
       "\n",
       "    .dataframe thead th {\n",
       "        text-align: right;\n",
       "    }\n",
       "</style>\n",
       "<table border=\"1\" class=\"dataframe\">\n",
       "  <thead>\n",
       "    <tr style=\"text-align: right;\">\n",
       "      <th></th>\n",
       "      <th>MVaR</th>\n",
       "    </tr>\n",
       "  </thead>\n",
       "  <tbody>\n",
       "    <tr>\n",
       "      <th>SPY</th>\n",
       "      <td>137542</td>\n",
       "    </tr>\n",
       "  </tbody>\n",
       "</table>\n",
       "</div>"
      ],
      "text/plain": [
       "       MVaR\n",
       "SPY  137542"
      ]
     },
     "execution_count": 27,
     "metadata": {},
     "output_type": "execute_result"
    }
   ],
   "source": [
    "Mar_vars"
   ]
  },
  {
   "cell_type": "code",
   "execution_count": 28,
   "metadata": {
    "scrolled": true
   },
   "outputs": [
    {
     "name": "stdout",
     "output_type": "stream",
     "text": [
      "0.1309859517290881\n"
     ]
    },
    {
     "data": {
      "text/html": [
       "<div>\n",
       "<style scoped>\n",
       "    .dataframe tbody tr th:only-of-type {\n",
       "        vertical-align: middle;\n",
       "    }\n",
       "\n",
       "    .dataframe tbody tr th {\n",
       "        vertical-align: top;\n",
       "    }\n",
       "\n",
       "    .dataframe thead th {\n",
       "        text-align: right;\n",
       "    }\n",
       "</style>\n",
       "<table border=\"1\" class=\"dataframe\">\n",
       "  <thead>\n",
       "    <tr style=\"text-align: right;\">\n",
       "      <th></th>\n",
       "      <th>MVaR</th>\n",
       "    </tr>\n",
       "  </thead>\n",
       "  <tbody>\n",
       "    <tr>\n",
       "      <th>Mkt-RF_log</th>\n",
       "      <td>138662.665439</td>\n",
       "    </tr>\n",
       "    <tr>\n",
       "      <th>SMB_log</th>\n",
       "      <td>-578.371001</td>\n",
       "    </tr>\n",
       "    <tr>\n",
       "      <th>HML_log</th>\n",
       "      <td>-35.339235</td>\n",
       "    </tr>\n",
       "    <tr>\n",
       "      <th>RMW_log</th>\n",
       "      <td>10.993388</td>\n",
       "    </tr>\n",
       "    <tr>\n",
       "      <th>CMA_log</th>\n",
       "      <td>-517.925732</td>\n",
       "    </tr>\n",
       "    <tr>\n",
       "      <th>Mkt-RF_log_global</th>\n",
       "      <td>0.000000</td>\n",
       "    </tr>\n",
       "    <tr>\n",
       "      <th>SMB_log_global</th>\n",
       "      <td>-0.000000</td>\n",
       "    </tr>\n",
       "    <tr>\n",
       "      <th>HML_log_global</th>\n",
       "      <td>-0.000000</td>\n",
       "    </tr>\n",
       "    <tr>\n",
       "      <th>RMW_log_global</th>\n",
       "      <td>-0.000000</td>\n",
       "    </tr>\n",
       "    <tr>\n",
       "      <th>CMA_log_global</th>\n",
       "      <td>-0.000000</td>\n",
       "    </tr>\n",
       "    <tr>\n",
       "      <th>CADUSD=X</th>\n",
       "      <td>0.000000</td>\n",
       "    </tr>\n",
       "    <tr>\n",
       "      <th>AUDUSD=X</th>\n",
       "      <td>0.000000</td>\n",
       "    </tr>\n",
       "    <tr>\n",
       "      <th>Mkt-RF_log_EUR</th>\n",
       "      <td>0.000000</td>\n",
       "    </tr>\n",
       "    <tr>\n",
       "      <th>SMB_log_EUR</th>\n",
       "      <td>-0.000000</td>\n",
       "    </tr>\n",
       "    <tr>\n",
       "      <th>HML_log_EUR</th>\n",
       "      <td>0.000000</td>\n",
       "    </tr>\n",
       "    <tr>\n",
       "      <th>RMW_log_EUR</th>\n",
       "      <td>-0.000000</td>\n",
       "    </tr>\n",
       "    <tr>\n",
       "      <th>CMA_log_EUR</th>\n",
       "      <td>-0.000000</td>\n",
       "    </tr>\n",
       "    <tr>\n",
       "      <th>EURUSD=X</th>\n",
       "      <td>-0.000000</td>\n",
       "    </tr>\n",
       "    <tr>\n",
       "      <th>Mkt-RF_log_JPY</th>\n",
       "      <td>0.000000</td>\n",
       "    </tr>\n",
       "    <tr>\n",
       "      <th>SMB_log_JPY</th>\n",
       "      <td>-0.000000</td>\n",
       "    </tr>\n",
       "    <tr>\n",
       "      <th>HML_log_JPY</th>\n",
       "      <td>-0.000000</td>\n",
       "    </tr>\n",
       "    <tr>\n",
       "      <th>RMW_log_JPY</th>\n",
       "      <td>-0.000000</td>\n",
       "    </tr>\n",
       "    <tr>\n",
       "      <th>CMA_log_JPY</th>\n",
       "      <td>-0.000000</td>\n",
       "    </tr>\n",
       "    <tr>\n",
       "      <th>JPYUSD=X</th>\n",
       "      <td>-0.000000</td>\n",
       "    </tr>\n",
       "    <tr>\n",
       "      <th>SP500</th>\n",
       "      <td>0.000000</td>\n",
       "    </tr>\n",
       "    <tr>\n",
       "      <th>US Large Cap</th>\n",
       "      <td>0.000000</td>\n",
       "    </tr>\n",
       "    <tr>\n",
       "      <th>US Small Cap</th>\n",
       "      <td>0.000000</td>\n",
       "    </tr>\n",
       "    <tr>\n",
       "      <th>US Mid Cap</th>\n",
       "      <td>0.000000</td>\n",
       "    </tr>\n",
       "    <tr>\n",
       "      <th>TSX</th>\n",
       "      <td>0.000000</td>\n",
       "    </tr>\n",
       "    <tr>\n",
       "      <th>Europe</th>\n",
       "      <td>0.000000</td>\n",
       "    </tr>\n",
       "    <tr>\n",
       "      <th>EM</th>\n",
       "      <td>0.000000</td>\n",
       "    </tr>\n",
       "    <tr>\n",
       "      <th>US Treasury</th>\n",
       "      <td>0.000000</td>\n",
       "    </tr>\n",
       "    <tr>\n",
       "      <th>US Corp High Yield</th>\n",
       "      <td>0.000000</td>\n",
       "    </tr>\n",
       "    <tr>\n",
       "      <th>US IG 5-10 yr</th>\n",
       "      <td>-0.000000</td>\n",
       "    </tr>\n",
       "    <tr>\n",
       "      <th>CGOV 10y</th>\n",
       "      <td>0.000000</td>\n",
       "    </tr>\n",
       "    <tr>\n",
       "      <th>CGOV 5y</th>\n",
       "      <td>0.000000</td>\n",
       "    </tr>\n",
       "    <tr>\n",
       "      <th>CGOV 2y</th>\n",
       "      <td>0.000000</td>\n",
       "    </tr>\n",
       "    <tr>\n",
       "      <th>Gold</th>\n",
       "      <td>0.000000</td>\n",
       "    </tr>\n",
       "    <tr>\n",
       "      <th>Crude Oil</th>\n",
       "      <td>0.000000</td>\n",
       "    </tr>\n",
       "    <tr>\n",
       "      <th>US Real Estate</th>\n",
       "      <td>0.000000</td>\n",
       "    </tr>\n",
       "    <tr>\n",
       "      <th>CAN Real Estate</th>\n",
       "      <td>0.000000</td>\n",
       "    </tr>\n",
       "    <tr>\n",
       "      <th>Toronto Real Estate</th>\n",
       "      <td>0.000000</td>\n",
       "    </tr>\n",
       "    <tr>\n",
       "      <th>VIX</th>\n",
       "      <td>-0.000000</td>\n",
       "    </tr>\n",
       "  </tbody>\n",
       "</table>\n",
       "</div>"
      ],
      "text/plain": [
       "                              MVaR\n",
       "Mkt-RF_log           138662.665439\n",
       "SMB_log                -578.371001\n",
       "HML_log                 -35.339235\n",
       "RMW_log                  10.993388\n",
       "CMA_log                -517.925732\n",
       "Mkt-RF_log_global         0.000000\n",
       "SMB_log_global           -0.000000\n",
       "HML_log_global           -0.000000\n",
       "RMW_log_global           -0.000000\n",
       "CMA_log_global           -0.000000\n",
       "CADUSD=X                  0.000000\n",
       "AUDUSD=X                  0.000000\n",
       "Mkt-RF_log_EUR            0.000000\n",
       "SMB_log_EUR              -0.000000\n",
       "HML_log_EUR               0.000000\n",
       "RMW_log_EUR              -0.000000\n",
       "CMA_log_EUR              -0.000000\n",
       "EURUSD=X                 -0.000000\n",
       "Mkt-RF_log_JPY            0.000000\n",
       "SMB_log_JPY              -0.000000\n",
       "HML_log_JPY              -0.000000\n",
       "RMW_log_JPY              -0.000000\n",
       "CMA_log_JPY              -0.000000\n",
       "JPYUSD=X                 -0.000000\n",
       "SP500                     0.000000\n",
       "US Large Cap              0.000000\n",
       "US Small Cap              0.000000\n",
       "US Mid Cap                0.000000\n",
       "TSX                       0.000000\n",
       "Europe                    0.000000\n",
       "EM                        0.000000\n",
       "US Treasury               0.000000\n",
       "US Corp High Yield        0.000000\n",
       "US IG 5-10 yr            -0.000000\n",
       "CGOV 10y                  0.000000\n",
       "CGOV 5y                   0.000000\n",
       "CGOV 2y                   0.000000\n",
       "Gold                      0.000000\n",
       "Crude Oil                 0.000000\n",
       "US Real Estate            0.000000\n",
       "CAN Real Estate           0.000000\n",
       "Toronto Real Estate       0.000000\n",
       "VIX                      -0.000000"
      ]
     },
     "execution_count": 28,
     "metadata": {},
     "output_type": "execute_result"
    }
   ],
   "source": [
    "# from Admin import MarginalVaRs\n",
    "Mar_vars=MarginalVaRs(test_admin,start_date,today_date, True)\n",
    "Mar_vars"
   ]
  },
  {
   "cell_type": "code",
   "execution_count": 29,
   "metadata": {},
   "outputs": [],
   "source": [
    "from HelperFunctions import fill_missing_data_business\n",
    "factor_tickers = universe._riskFactors.keys()\n",
    "    #print(factor_tickers)\n",
    "result_df = pd.DataFrame()\n",
    "for k in factor_tickers:\n",
    "    result_df[k] = fill_missing_data_business(universe._riskFactors[k].price, start_date, today_date,'BM')"
   ]
  },
  {
   "cell_type": "code",
   "execution_count": 30,
   "metadata": {},
   "outputs": [
    {
     "ename": "NameError",
     "evalue": "name 'weights' is not defined",
     "output_type": "error",
     "traceback": [
      "\u001b[1;31m---------------------------------------------------------------------------\u001b[0m",
      "\u001b[1;31mNameError\u001b[0m                                 Traceback (most recent call last)",
      "\u001b[1;32m<ipython-input-30-671b39a61ec0>\u001b[0m in \u001b[0;36m<module>\u001b[1;34m\u001b[0m\n\u001b[1;32m----> 1\u001b[1;33m \u001b[0mresult_df\u001b[0m\u001b[1;33m[\u001b[0m\u001b[1;34m'Portfolio'\u001b[0m\u001b[1;33m]\u001b[0m\u001b[1;33m=\u001b[0m\u001b[0mnp\u001b[0m\u001b[1;33m.\u001b[0m\u001b[0mdot\u001b[0m\u001b[1;33m(\u001b[0m\u001b[0mnp\u001b[0m\u001b[1;33m.\u001b[0m\u001b[0mdot\u001b[0m\u001b[1;33m(\u001b[0m\u001b[0mresult_df\u001b[0m\u001b[1;33m,\u001b[0m\u001b[0mbetas\u001b[0m\u001b[1;33m.\u001b[0m\u001b[0mtranspose\u001b[0m\u001b[1;33m(\u001b[0m\u001b[1;33m)\u001b[0m\u001b[1;33m)\u001b[0m\u001b[1;33m,\u001b[0m\u001b[0mweights\u001b[0m\u001b[1;33m)\u001b[0m\u001b[1;33m.\u001b[0m\u001b[0mastype\u001b[0m\u001b[1;33m(\u001b[0m\u001b[0mnumpy\u001b[0m\u001b[1;33m.\u001b[0m\u001b[0mfloat64\u001b[0m\u001b[1;33m)\u001b[0m\u001b[1;33m\u001b[0m\u001b[1;33m\u001b[0m\u001b[0m\n\u001b[0m",
      "\u001b[1;31mNameError\u001b[0m: name 'weights' is not defined"
     ]
    }
   ],
   "source": [
    "result_df['Portfolio']=np.dot(np.dot(result_df,betas.transpose()),weights).astype(numpy.float64)"
   ]
  },
  {
   "cell_type": "code",
   "execution_count": null,
   "metadata": {},
   "outputs": [],
   "source": [
    "new_df=result_df.copy()\n"
   ]
  },
  {
   "cell_type": "code",
   "execution_count": null,
   "metadata": {},
   "outputs": [],
   "source": [
    "type(new_df['VIX'][0])"
   ]
  },
  {
   "cell_type": "code",
   "execution_count": null,
   "metadata": {},
   "outputs": [],
   "source": [
    "#decomposing security return\n",
    "def ReturnAttribCurrency(PortfolioWeights,d1,d2):\n",
    "    df_tmp=pd.DataFrame(index=list(PortfolioWeights.keys()),columns=['Weights','Currency','LocalReturn','CADReturn','FX_appr'])\n",
    "    for sec_name in PortfolioWeights.keys():\n",
    "        local_ret=universe.get_security(sec_name).price.loc[today_date]/universe.get_security(sec_name).price.loc['2019-03-01']-1\n",
    "        report_ret=universe.get_price_in_currency(sec_name,today_date,'CAD')/universe.get_price_in_currency(sec_name,'2019-03-01','CAD')-1\n",
    "        FX_app=(report_ret-local_ret)/(local_ret+1)\n",
    "\n",
    "        df_tmp.loc[sec_name,:]=[PortfolioWeights[sec_name],\n",
    "                                universe.get_security(sec_name).currency,\n",
    "                                local_ret,\n",
    "                                report_ret,\n",
    "                                FX_app]\n",
    "    df_tmp['LocalReturnWeighted']=df_tmp['LocalReturn'].multiply(df_tmp['Weights'])\n",
    "    df_tmp['CADReturnWeighted']=df_tmp['CADReturn'].multiply(df_tmp['Weights'])\n",
    "    df_tmp['CurContrWeighted']=df_tmp['FX_appr'].multiply(df_tmp['Weights'])\n",
    "\n",
    "    cur_contrib=df_tmp[['Currency','LocalReturnWeighted','CADReturnWeighted','CurContrWeighted']].groupby('Currency').sum()\n",
    "    local_cur_return=cur_contrib.sum()['LocalReturnWeighted']\n",
    "    report_cur_return=cur_contrib.sum()['CADReturnWeighted']\n",
    "    cur_contrib.rename(columns={'CurContrWeighted':'Return Contribution'},inplace=True)\n",
    "    return cur_contrib['Return Contribution'], local_cur_return, report_cur_return"
   ]
  },
  {
   "cell_type": "code",
   "execution_count": null,
   "metadata": {},
   "outputs": [],
   "source": [
    "ReturnAttribCurrency(test_admin.PortfolioWeights,'2019-03-01',today_date)"
   ]
  },
  {
   "cell_type": "code",
   "execution_count": null,
   "metadata": {},
   "outputs": [],
   "source": [
    "# df_tmp_weighted=\n",
    "df_tmp['LocalReturnWeighted']=df_tmp['LocalReturn'].multiply(df_tmp['Weights'])\n",
    "df_tmp['CADReturnWeighted']=df_tmp['CADReturn'].multiply(df_tmp['Weights'])\n",
    "df_tmp['CurContrWeighted']=df_tmp['CurContr'].multiply(df_tmp['Weights'])\n",
    "# .multiply(df_tmp['Weights'])"
   ]
  },
  {
   "cell_type": "code",
   "execution_count": null,
   "metadata": {},
   "outputs": [],
   "source": [
    "df_tmp[['Currency','LocalReturnWeighted','CADReturnWeighted','CurContrWeighted']].groupby('Currency').sum()"
   ]
  },
  {
   "cell_type": "code",
   "execution_count": null,
   "metadata": {},
   "outputs": [],
   "source": [
    "SimpleReturn(test_admin.portfolio,'2019-03-01',today_date,False)"
   ]
  },
  {
   "cell_type": "code",
   "execution_count": null,
   "metadata": {},
   "outputs": [],
   "source": [
    "local_return"
   ]
  },
  {
   "cell_type": "code",
   "execution_count": null,
   "metadata": {},
   "outputs": [],
   "source": [
    "np.dot(weights,local_return)"
   ]
  },
  {
   "cell_type": "code",
   "execution_count": null,
   "metadata": {},
   "outputs": [],
   "source": [
    "PortfolioVaR(test_admin,)"
   ]
  }
 ],
 "metadata": {
  "kernelspec": {
   "display_name": "Python 3",
   "language": "python",
   "name": "python3"
  },
  "language_info": {
   "codemirror_mode": {
    "name": "ipython",
    "version": 3
   },
   "file_extension": ".py",
   "mimetype": "text/x-python",
   "name": "python",
   "nbconvert_exporter": "python",
   "pygments_lexer": "ipython3",
   "version": "3.7.3"
  }
 },
 "nbformat": 4,
 "nbformat_minor": 2
}
