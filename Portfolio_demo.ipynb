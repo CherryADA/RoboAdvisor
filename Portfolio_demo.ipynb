{
 "cells": [
  {
   "cell_type": "code",
   "execution_count": 1,
   "metadata": {},
   "outputs": [],
   "source": [
    "from Portfolio import Portfolio, universe # universe is a global variable\n",
    "# and each portfolio can access to the universe\n"
   ]
  },
  {
   "cell_type": "code",
   "execution_count": 2,
   "metadata": {},
   "outputs": [],
   "source": [
    "import imp\n",
    "from Admin import Admin\n",
    "import pandas as pd\n",
    "# imp.reload(Admin)"
   ]
  },
  {
   "cell_type": "code",
   "execution_count": 3,
   "metadata": {},
   "outputs": [
    {
     "data": {
      "text/plain": [
       "Unnamed: 0\n",
       "2000-01-01          NaN\n",
       "2000-01-02          NaN\n",
       "2000-01-03     8.299891\n",
       "2000-01-04     8.095037\n",
       "2000-01-05     8.009132\n",
       "2000-01-06     7.962875\n",
       "2000-01-07     8.134686\n",
       "2000-01-08     8.134686\n",
       "2000-01-09     8.134686\n",
       "2000-01-10     8.233809\n",
       "2000-01-11     8.174335\n",
       "2000-01-12     8.134686\n",
       "2000-01-13     8.227203\n",
       "2000-01-14     8.299891\n",
       "2000-01-15     8.299891\n",
       "2000-01-16     8.299891\n",
       "2000-01-17     8.299891\n",
       "2000-01-18     8.280067\n",
       "2000-01-19     8.253634\n",
       "2000-01-20     8.233809\n",
       "2000-01-21     8.200769\n",
       "2000-01-22     8.200769\n",
       "2000-01-23     8.200769\n",
       "2000-01-24     8.075214\n",
       "2000-01-25     8.035563\n",
       "2000-01-26     8.048779\n",
       "2000-01-27     8.068607\n",
       "2000-01-28     7.923225\n",
       "2000-01-29     7.923225\n",
       "2000-01-30     7.923225\n",
       "                ...    \n",
       "2019-05-03    18.740000\n",
       "2019-05-04    18.740000\n",
       "2019-05-05    18.740000\n",
       "2019-05-06    18.590000\n",
       "2019-05-07    18.270000\n",
       "2019-05-08    18.250000\n",
       "2019-05-09    18.150000\n",
       "2019-05-10    18.240000\n",
       "2019-05-11    18.240000\n",
       "2019-05-12    18.240000\n",
       "2019-05-13    17.760000\n",
       "2019-05-14    17.950001\n",
       "2019-05-15    18.049999\n",
       "2019-05-16    18.190001\n",
       "2019-05-17    18.049999\n",
       "2019-05-18    18.049999\n",
       "2019-05-19    18.049999\n",
       "2019-05-20    17.930000\n",
       "2019-05-21    18.100000\n",
       "2019-05-22    18.049999\n",
       "2019-05-23    17.830000\n",
       "2019-05-24    17.920000\n",
       "2019-05-25    17.920000\n",
       "2019-05-26    17.920000\n",
       "2019-05-27    17.920000\n",
       "2019-05-28    17.799999\n",
       "2019-05-29    17.680000\n",
       "2019-05-30    17.719999\n",
       "2019-05-31    17.590000\n",
       "2019-06-01    17.590000\n",
       "Name: GAPSX, Length: 7092, dtype: float64"
      ]
     },
     "execution_count": 3,
     "metadata": {},
     "output_type": "execute_result"
    }
   ],
   "source": [
    "universe.get_security('GAPSX').price\n",
    "# 'CIM.AX',\t'GAPSX',\t'LNC',\t'KNEBV.HE'"
   ]
  },
  {
   "cell_type": "code",
   "execution_count": 4,
   "metadata": {},
   "outputs": [
    {
     "data": {
      "text/plain": [
       "{'MRD.TO': -58.49883416285279,\n",
       " 'CIM.AX': -275.5502545072637,\n",
       " 'GAPSX': 9720.810249804525,\n",
       " 'LNC': -955.3003543498188,\n",
       " 'KNEBV.HE': 2811.0995676468524}"
      ]
     },
     "execution_count": 4,
     "metadata": {},
     "output_type": "execute_result"
    }
   ],
   "source": [
    "#Initialize admin\n",
    "test_admin=Admin()\n",
    "#\n",
    "test_admin.suggestPortfolio('1','2014-04-01')"
   ]
  },
  {
   "cell_type": "code",
   "execution_count": 5,
   "metadata": {},
   "outputs": [
    {
     "data": {
      "text/plain": [
       "199980.0"
      ]
     },
     "execution_count": 5,
     "metadata": {},
     "output_type": "execute_result"
    }
   ],
   "source": [
    "test_admin.portfolio.getPortfolioValue('2014-04-01')"
   ]
  },
  {
   "cell_type": "code",
   "execution_count": 6,
   "metadata": {},
   "outputs": [],
   "source": [
    "test_admin.trackPortfolio(rebalance_flag=True,rebalance_freq='3MS')"
   ]
  },
  {
   "cell_type": "code",
   "execution_count": 16,
   "metadata": {},
   "outputs": [
    {
     "data": {
      "text/plain": [
       "114749.11215645554"
      ]
     },
     "execution_count": 16,
     "metadata": {},
     "output_type": "execute_result"
    }
   ],
   "source": [
    "test_admin.portfolio.getPortfolioValue(start_date)"
   ]
  },
  {
   "cell_type": "code",
   "execution_count": 11,
   "metadata": {},
   "outputs": [],
   "source": [
    "from datetime import datetime\n",
    "date_format='%Y-%m-%d'\n",
    "today_date='2019-06-01'\n",
    "start_date='2014-04-01'\n",
    "all_dates=[datetime.strftime(item,date_format) for item in pd.date_range(start_date,today_date,freq='M')]"
   ]
  },
  {
   "cell_type": "code",
   "execution_count": 12,
   "metadata": {},
   "outputs": [],
   "source": [
    "portf_values=[]\n",
    "for item in all_dates:\n",
    "    portf_values.append(test_admin.portfolio.getPortfolioValue(item))"
   ]
  },
  {
   "cell_type": "code",
   "execution_count": 15,
   "metadata": {},
   "outputs": [
    {
     "data": {
      "text/plain": [
       "[<matplotlib.lines.Line2D at 0x19c543f42b0>]"
      ]
     },
     "execution_count": 15,
     "metadata": {},
     "output_type": "execute_result"
    },
    {
     "data": {
      "image/png": "[encoded data removed]",
      "text/plain": [
       "<Figure size 432x288 with 1 Axes>"
      ]
     },
     "metadata": {
      "needs_background": "light"
     },
     "output_type": "display_data"
    }
   ],
   "source": [
    "from matplotlib import pyplot as plt\n",
    "plt.plot(all_dates,portf_values)"
   ]
  },
  {
   "cell_type": "code",
   "execution_count": null,
   "metadata": {},
   "outputs": [],
   "source": []
  }
 ],
 "metadata": {
  "kernelspec": {
   "display_name": "Python 3",
   "language": "python",
   "name": "python3"
  },
  "language_info": {
   "codemirror_mode": {
    "name": "ipython",
    "version": 3
   },
   "file_extension": ".py",
   "mimetype": "text/x-python",
   "name": "python",
   "nbconvert_exporter": "python",
   "pygments_lexer": "ipython3",
   "version": "3.7.0"
  }
 },
 "nbformat": 4,
 "nbformat_minor": 2
}
