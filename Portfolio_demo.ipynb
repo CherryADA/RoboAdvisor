{
 "cells": [
  {
   "cell_type": "code",
   "execution_count": 1,
   "metadata": {},
   "outputs": [],
   "source": [
    "from Portfolio import Portfolio, universe # universe is a global variable\n",
    "# and each portfolio can access to the universe\n"
   ]
  },
  {
   "cell_type": "code",
   "execution_count": 2,
   "metadata": {},
   "outputs": [],
   "source": [
    "import imp\n",
    "from Admin import Admin\n",
    "import pandas as pd\n",
    "# imp.reload(Admin)"
   ]
  },
  {
   "cell_type": "code",
   "execution_count": 3,
   "metadata": {},
   "outputs": [
    {
     "data": {
      "text/plain": [
       "Unnamed: 0\n",
       "2000-01-01          NaN\n",
       "2000-01-02          NaN\n",
       "2000-01-03     8.299891\n",
       "2000-01-04     8.095037\n",
       "2000-01-05     8.009132\n",
       "2000-01-06     7.962875\n",
       "2000-01-07     8.134686\n",
       "2000-01-08     8.134686\n",
       "2000-01-09     8.134686\n",
       "2000-01-10     8.233809\n",
       "2000-01-11     8.174335\n",
       "2000-01-12     8.134686\n",
       "2000-01-13     8.227203\n",
       "2000-01-14     8.299891\n",
       "2000-01-15     8.299891\n",
       "2000-01-16     8.299891\n",
       "2000-01-17     8.299891\n",
       "2000-01-18     8.280067\n",
       "2000-01-19     8.253634\n",
       "2000-01-20     8.233809\n",
       "2000-01-21     8.200769\n",
       "2000-01-22     8.200769\n",
       "2000-01-23     8.200769\n",
       "2000-01-24     8.075214\n",
       "2000-01-25     8.035563\n",
       "2000-01-26     8.048779\n",
       "2000-01-27     8.068607\n",
       "2000-01-28     7.923225\n",
       "2000-01-29     7.923225\n",
       "2000-01-30     7.923225\n",
       "                ...    \n",
       "2019-05-03    18.740000\n",
       "2019-05-04    18.740000\n",
       "2019-05-05    18.740000\n",
       "2019-05-06    18.590000\n",
       "2019-05-07    18.270000\n",
       "2019-05-08    18.250000\n",
       "2019-05-09    18.150000\n",
       "2019-05-10    18.240000\n",
       "2019-05-11    18.240000\n",
       "2019-05-12    18.240000\n",
       "2019-05-13    17.760000\n",
       "2019-05-14    17.950001\n",
       "2019-05-15    18.049999\n",
       "2019-05-16    18.190001\n",
       "2019-05-17    18.049999\n",
       "2019-05-18    18.049999\n",
       "2019-05-19    18.049999\n",
       "2019-05-20    17.930000\n",
       "2019-05-21    18.100000\n",
       "2019-05-22    18.049999\n",
       "2019-05-23    17.830000\n",
       "2019-05-24    17.920000\n",
       "2019-05-25    17.920000\n",
       "2019-05-26    17.920000\n",
       "2019-05-27    17.920000\n",
       "2019-05-28    17.799999\n",
       "2019-05-29    17.680000\n",
       "2019-05-30    17.719999\n",
       "2019-05-31    17.590000\n",
       "2019-06-01    17.590000\n",
       "Name: GAPSX, Length: 7092, dtype: float64"
      ]
     },
     "execution_count": 3,
     "metadata": {},
     "output_type": "execute_result"
    }
   ],
   "source": [
    "universe.get_security('GAPSX').price\n",
    "# 'CIM.AX',\t'GAPSX',\t'LNC',\t'KNEBV.HE'"
   ]
  },
  {
   "cell_type": "code",
   "execution_count": 4,
   "metadata": {},
   "outputs": [
    {
     "data": {
      "text/plain": [
       "{'MRD.TO': -58.49883416285279,\n",
       " 'CIM.AX': -275.5502545072637,\n",
       " 'GAPSX': 9720.810249804525,\n",
       " 'LNC': -955.3003543498188,\n",
       " 'KNEBV.HE': 2811.0995676468524}"
      ]
     },
     "execution_count": 4,
     "metadata": {},
     "output_type": "execute_result"
    }
   ],
   "source": [
    "#Initialize admin\n",
    "test_admin=Admin()\n",
    "#\n",
    "test_admin.suggestPortfolio('1','2014-04-01')"
   ]
  },
  {
   "cell_type": "code",
   "execution_count": 5,
   "metadata": {},
   "outputs": [
    {
     "name": "stdout",
     "output_type": "stream",
     "text": [
      "{'MRD.TO': -58.49883416285279, 'CIM.AX': -275.5502545072637, 'GAPSX': 9720.810249804525, 'LNC': -955.3003543498188, 'KNEBV.HE': 2811.0995676468524}\n"
     ]
    },
    {
     "data": {
      "text/plain": [
       "199980.0"
      ]
     },
     "execution_count": 5,
     "metadata": {},
     "output_type": "execute_result"
    }
   ],
   "source": [
    "test_admin.getAccountValue('2014-04-01')"
   ]
  },
  {
   "cell_type": "code",
   "execution_count": 6,
   "metadata": {},
   "outputs": [],
   "source": [
    "test_admin.trackPortfolio(rebalance_flag=True,rebalance_freq='6MS')"
   ]
  },
  {
   "cell_type": "code",
   "execution_count": 7,
   "metadata": {},
   "outputs": [
    {
     "name": "stdout",
     "output_type": "stream",
     "text": [
      "{'MRD.TO': -58.49883416285279, 'CIM.AX': -275.5502545072637, 'GAPSX': 9720.810249804525, 'LNC': -955.3003543498188, 'KNEBV.HE': 2811.0995676468524}\n"
     ]
    },
    {
     "data": {
      "text/plain": [
       "199980.0"
      ]
     },
     "execution_count": 7,
     "metadata": {},
     "output_type": "execute_result"
    }
   ],
   "source": [
    "start_date='2014-04-01'\n",
    "test_admin.getAccountValue('2014-04-01')"
   ]
  },
  {
   "cell_type": "code",
   "execution_count": 8,
   "metadata": {},
   "outputs": [
    {
     "name": "stdout",
     "output_type": "stream",
     "text": [
      "{'MRD.TO': -58.49883416285279, 'CIM.AX': -275.5502545072637, 'GAPSX': 9720.810249804525, 'LNC': -955.3003543498188, 'KNEBV.HE': 2811.0995676468524}\n"
     ]
    },
    {
     "data": {
      "text/plain": [
       "199980.0"
      ]
     },
     "execution_count": 8,
     "metadata": {},
     "output_type": "execute_result"
    }
   ],
   "source": [
    "test_admin_norebal=Admin()\n",
    "#\n",
    "test_admin_norebal.suggestPortfolio('1','2014-04-01')\n",
    "test_admin_norebal.trackPortfolio(rebalance_flag=False)\n",
    "test_admin_norebal.getAccountValue(start_date)"
   ]
  },
  {
   "cell_type": "code",
   "execution_count": 9,
   "metadata": {},
   "outputs": [],
   "source": [
    "from datetime import datetime\n",
    "date_format='%Y-%m-%d'\n",
    "today_date='2019-06-01'\n",
    "start_date='2014-04-01'\n",
    "all_dates=[datetime.strftime(item,date_format) for item in pd.date_range(start_date,today_date,freq='M')]"
   ]
  },
  {
   "cell_type": "code",
   "execution_count": 10,
   "metadata": {},
   "outputs": [
    {
     "name": "stdout",
     "output_type": "stream",
     "text": [
      "{'MRD.TO': -58.49883416285279, 'CIM.AX': -275.5502545072637, 'GAPSX': 9720.810249804525, 'LNC': -955.3003543498188, 'KNEBV.HE': 2811.0995676468524}\n",
      "{'MRD.TO': -58.49883416285279, 'CIM.AX': -275.5502545072637, 'GAPSX': 9720.810249804525, 'LNC': -955.3003543498188, 'KNEBV.HE': 2811.0995676468524}\n",
      "{'MRD.TO': -58.49883416285279, 'CIM.AX': -275.5502545072637, 'GAPSX': 9720.810249804525, 'LNC': -955.3003543498188, 'KNEBV.HE': 2811.0995676468524}\n",
      "{'MRD.TO': -58.49883416285279, 'CIM.AX': -275.5502545072637, 'GAPSX': 9720.810249804525, 'LNC': -955.3003543498188, 'KNEBV.HE': 2811.0995676468524}\n",
      "{'MRD.TO': -58.49883416285279, 'CIM.AX': -275.5502545072637, 'GAPSX': 9720.810249804525, 'LNC': -955.3003543498188, 'KNEBV.HE': 2811.0995676468524}\n",
      "{'MRD.TO': -58.49883416285279, 'CIM.AX': -275.5502545072637, 'GAPSX': 9720.810249804525, 'LNC': -955.3003543498188, 'KNEBV.HE': 2811.0995676468524}\n",
      "{'MRD.TO': -58.49883416285279, 'CIM.AX': -275.5502545072637, 'GAPSX': 9720.810249804525, 'LNC': -955.3003543498188, 'KNEBV.HE': 2811.0995676468524}\n",
      "{'MRD.TO': -58.49883416285279, 'CIM.AX': -275.5502545072637, 'GAPSX': 9720.810249804525, 'LNC': -955.3003543498188, 'KNEBV.HE': 2811.0995676468524}\n",
      "{'MRD.TO': -58.49883416285279, 'CIM.AX': -275.5502545072637, 'GAPSX': 9720.810249804525, 'LNC': -955.3003543498188, 'KNEBV.HE': 2811.0995676468524}\n",
      "{'MRD.TO': -58.49883416285279, 'CIM.AX': -275.5502545072637, 'GAPSX': 9720.810249804525, 'LNC': -955.3003543498188, 'KNEBV.HE': 2811.0995676468524}\n",
      "{'MRD.TO': Deposit-CAD   -55.098355\n",
      "Name: 2014-09-01, dtype: float64, 'CIM.AX': Deposit-CAD   -279.477318\n",
      "Name: 2014-09-01, dtype: float64, 'GAPSX': Deposit-CAD    10328.42611\n",
      "Name: 2014-09-01, dtype: float64, 'LNC': Deposit-CAD   -973.03267\n",
      "Name: 2014-09-01, dtype: float64, 'KNEBV.HE': Deposit-CAD    3114.17632\n",
      "Name: 2014-09-01, dtype: float64}\n",
      "{'MRD.TO': -58.49883416285279, 'CIM.AX': -275.5502545072637, 'GAPSX': 9720.810249804525, 'LNC': -955.3003543498188, 'KNEBV.HE': 2811.0995676468524}\n",
      "{'MRD.TO': Deposit-CAD   -55.098355\n",
      "Name: 2014-09-01, dtype: float64, 'CIM.AX': Deposit-CAD   -279.477318\n",
      "Name: 2014-09-01, dtype: float64, 'GAPSX': Deposit-CAD    10328.42611\n",
      "Name: 2014-09-01, dtype: float64, 'LNC': Deposit-CAD   -973.03267\n",
      "Name: 2014-09-01, dtype: float64, 'KNEBV.HE': Deposit-CAD    3114.17632\n",
      "Name: 2014-09-01, dtype: float64}\n",
      "{'MRD.TO': -58.49883416285279, 'CIM.AX': -275.5502545072637, 'GAPSX': 9720.810249804525, 'LNC': -955.3003543498188, 'KNEBV.HE': 2811.0995676468524}\n",
      "{'MRD.TO': Deposit-CAD   -55.098355\n",
      "Name: 2014-09-01, dtype: float64, 'CIM.AX': Deposit-CAD   -279.477318\n",
      "Name: 2014-09-01, dtype: float64, 'GAPSX': Deposit-CAD    10328.42611\n",
      "Name: 2014-09-01, dtype: float64, 'LNC': Deposit-CAD   -973.03267\n",
      "Name: 2014-09-01, dtype: float64, 'KNEBV.HE': Deposit-CAD    3114.17632\n",
      "Name: 2014-09-01, dtype: float64}\n",
      "{'MRD.TO': -58.49883416285279, 'CIM.AX': -275.5502545072637, 'GAPSX': 9720.810249804525, 'LNC': -955.3003543498188, 'KNEBV.HE': 2811.0995676468524}\n",
      "{'MRD.TO': Deposit-CAD   -55.098355\n",
      "Name: 2014-09-01, dtype: float64, 'CIM.AX': Deposit-CAD   -279.477318\n",
      "Name: 2014-09-01, dtype: float64, 'GAPSX': Deposit-CAD    10328.42611\n",
      "Name: 2014-09-01, dtype: float64, 'LNC': Deposit-CAD   -973.03267\n",
      "Name: 2014-09-01, dtype: float64, 'KNEBV.HE': Deposit-CAD    3114.17632\n",
      "Name: 2014-09-01, dtype: float64}\n",
      "{'MRD.TO': -58.49883416285279, 'CIM.AX': -275.5502545072637, 'GAPSX': 9720.810249804525, 'LNC': -955.3003543498188, 'KNEBV.HE': 2811.0995676468524}\n",
      "{'MRD.TO': Deposit-CAD   -55.098355\n",
      "Name: 2014-09-01, dtype: float64, 'CIM.AX': Deposit-CAD   -279.477318\n",
      "Name: 2014-09-01, dtype: float64, 'GAPSX': Deposit-CAD    10328.42611\n",
      "Name: 2014-09-01, dtype: float64, 'LNC': Deposit-CAD   -973.03267\n",
      "Name: 2014-09-01, dtype: float64, 'KNEBV.HE': Deposit-CAD    3114.17632\n",
      "Name: 2014-09-01, dtype: float64}\n",
      "{'MRD.TO': -58.49883416285279, 'CIM.AX': -275.5502545072637, 'GAPSX': 9720.810249804525, 'LNC': -955.3003543498188, 'KNEBV.HE': 2811.0995676468524}\n",
      "{'MRD.TO': Deposit-CAD   -55.098355\n",
      "Name: 2014-09-01, dtype: float64, 'CIM.AX': Deposit-CAD   -279.477318\n",
      "Name: 2014-09-01, dtype: float64, 'GAPSX': Deposit-CAD    10328.42611\n",
      "Name: 2014-09-01, dtype: float64, 'LNC': Deposit-CAD   -973.03267\n",
      "Name: 2014-09-01, dtype: float64, 'KNEBV.HE': Deposit-CAD    3114.17632\n",
      "Name: 2014-09-01, dtype: float64}\n",
      "{'MRD.TO': -58.49883416285279, 'CIM.AX': -275.5502545072637, 'GAPSX': 9720.810249804525, 'LNC': -955.3003543498188, 'KNEBV.HE': 2811.0995676468524}\n",
      "{'MRD.TO': Deposit-CAD   -99.033485\n",
      "dtype: float64, 'CIM.AX': Deposit-CAD   -381.284138\n",
      "dtype: float64, 'GAPSX': Deposit-CAD    11760.795232\n",
      "dtype: float64, 'LNC': Deposit-CAD   -1053.307459\n",
      "dtype: float64, 'KNEBV.HE': Deposit-CAD    3165.675005\n",
      "dtype: float64}\n",
      "{'MRD.TO': -58.49883416285279, 'CIM.AX': -275.5502545072637, 'GAPSX': 9720.810249804525, 'LNC': -955.3003543498188, 'KNEBV.HE': 2811.0995676468524}\n",
      "{'MRD.TO': Deposit-CAD   -99.033485\n",
      "dtype: float64, 'CIM.AX': Deposit-CAD   -381.284138\n",
      "dtype: float64, 'GAPSX': Deposit-CAD    11760.795232\n",
      "dtype: float64, 'LNC': Deposit-CAD   -1053.307459\n",
      "dtype: float64, 'KNEBV.HE': Deposit-CAD    3165.675005\n",
      "dtype: float64}\n",
      "{'MRD.TO': -58.49883416285279, 'CIM.AX': -275.5502545072637, 'GAPSX': 9720.810249804525, 'LNC': -955.3003543498188, 'KNEBV.HE': 2811.0995676468524}\n",
      "{'MRD.TO': Deposit-CAD   -99.033485\n",
      "dtype: float64, 'CIM.AX': Deposit-CAD   -381.284138\n",
      "dtype: float64, 'GAPSX': Deposit-CAD    11760.795232\n",
      "dtype: float64, 'LNC': Deposit-CAD   -1053.307459\n",
      "dtype: float64, 'KNEBV.HE': Deposit-CAD    3165.675005\n",
      "dtype: float64}\n",
      "{'MRD.TO': -58.49883416285279, 'CIM.AX': -275.5502545072637, 'GAPSX': 9720.810249804525, 'LNC': -955.3003543498188, 'KNEBV.HE': 2811.0995676468524}\n",
      "{'MRD.TO': Deposit-CAD   -99.033485\n",
      "dtype: float64, 'CIM.AX': Deposit-CAD   -381.284138\n",
      "dtype: float64, 'GAPSX': Deposit-CAD    11760.795232\n",
      "dtype: float64, 'LNC': Deposit-CAD   -1053.307459\n",
      "dtype: float64, 'KNEBV.HE': Deposit-CAD    3165.675005\n",
      "dtype: float64}\n",
      "{'MRD.TO': -58.49883416285279, 'CIM.AX': -275.5502545072637, 'GAPSX': 9720.810249804525, 'LNC': -955.3003543498188, 'KNEBV.HE': 2811.0995676468524}\n",
      "{'MRD.TO': Deposit-CAD   -99.033485\n",
      "dtype: float64, 'CIM.AX': Deposit-CAD   -381.284138\n",
      "dtype: float64, 'GAPSX': Deposit-CAD    11760.795232\n",
      "dtype: float64, 'LNC': Deposit-CAD   -1053.307459\n",
      "dtype: float64, 'KNEBV.HE': Deposit-CAD    3165.675005\n",
      "dtype: float64}\n",
      "{'MRD.TO': -58.49883416285279, 'CIM.AX': -275.5502545072637, 'GAPSX': 9720.810249804525, 'LNC': -955.3003543498188, 'KNEBV.HE': 2811.0995676468524}\n",
      "{'MRD.TO': Deposit-CAD   -99.033485\n",
      "dtype: float64, 'CIM.AX': Deposit-CAD   -381.284138\n",
      "dtype: float64, 'GAPSX': Deposit-CAD    11760.795232\n",
      "dtype: float64, 'LNC': Deposit-CAD   -1053.307459\n",
      "dtype: float64, 'KNEBV.HE': Deposit-CAD    3165.675005\n",
      "dtype: float64}\n",
      "{'MRD.TO': -58.49883416285279, 'CIM.AX': -275.5502545072637, 'GAPSX': 9720.810249804525, 'LNC': -955.3003543498188, 'KNEBV.HE': 2811.0995676468524}\n",
      "{'MRD.TO': Deposit-CAD   -117.91724\n",
      "dtype: float64, 'CIM.AX': Deposit-CAD   -380.065127\n",
      "dtype: float64, 'GAPSX': Deposit-CAD    12227.912926\n",
      "dtype: float64, 'LNC': Deposit-CAD   -1193.146439\n",
      "dtype: float64, 'KNEBV.HE': Deposit-CAD    3629.708805\n",
      "dtype: float64}\n",
      "{'MRD.TO': -58.49883416285279, 'CIM.AX': -275.5502545072637, 'GAPSX': 9720.810249804525, 'LNC': -955.3003543498188, 'KNEBV.HE': 2811.0995676468524}\n",
      "{'MRD.TO': Deposit-CAD   -117.91724\n",
      "dtype: float64, 'CIM.AX': Deposit-CAD   -380.065127\n",
      "dtype: float64, 'GAPSX': Deposit-CAD    12227.912926\n",
      "dtype: float64, 'LNC': Deposit-CAD   -1193.146439\n",
      "dtype: float64, 'KNEBV.HE': Deposit-CAD    3629.708805\n",
      "dtype: float64}\n",
      "{'MRD.TO': -58.49883416285279, 'CIM.AX': -275.5502545072637, 'GAPSX': 9720.810249804525, 'LNC': -955.3003543498188, 'KNEBV.HE': 2811.0995676468524}\n",
      "{'MRD.TO': Deposit-CAD   -117.91724\n",
      "dtype: float64, 'CIM.AX': Deposit-CAD   -380.065127\n",
      "dtype: float64, 'GAPSX': Deposit-CAD    12227.912926\n",
      "dtype: float64, 'LNC': Deposit-CAD   -1193.146439\n",
      "dtype: float64, 'KNEBV.HE': Deposit-CAD    3629.708805\n",
      "dtype: float64}\n",
      "{'MRD.TO': -58.49883416285279, 'CIM.AX': -275.5502545072637, 'GAPSX': 9720.810249804525, 'LNC': -955.3003543498188, 'KNEBV.HE': 2811.0995676468524}\n",
      "{'MRD.TO': Deposit-CAD   -117.91724\n",
      "dtype: float64, 'CIM.AX': Deposit-CAD   -380.065127\n",
      "dtype: float64, 'GAPSX': Deposit-CAD    12227.912926\n",
      "dtype: float64, 'LNC': Deposit-CAD   -1193.146439\n",
      "dtype: float64, 'KNEBV.HE': Deposit-CAD    3629.708805\n",
      "dtype: float64}\n",
      "{'MRD.TO': -58.49883416285279, 'CIM.AX': -275.5502545072637, 'GAPSX': 9720.810249804525, 'LNC': -955.3003543498188, 'KNEBV.HE': 2811.0995676468524}\n",
      "{'MRD.TO': Deposit-CAD   -117.91724\n",
      "dtype: float64, 'CIM.AX': Deposit-CAD   -380.065127\n",
      "dtype: float64, 'GAPSX': Deposit-CAD    12227.912926\n",
      "dtype: float64, 'LNC': Deposit-CAD   -1193.146439\n",
      "dtype: float64, 'KNEBV.HE': Deposit-CAD    3629.708805\n",
      "dtype: float64}\n",
      "{'MRD.TO': -58.49883416285279, 'CIM.AX': -275.5502545072637, 'GAPSX': 9720.810249804525, 'LNC': -955.3003543498188, 'KNEBV.HE': 2811.0995676468524}\n",
      "{'MRD.TO': Deposit-CAD   -117.91724\n",
      "dtype: float64, 'CIM.AX': Deposit-CAD   -380.065127\n",
      "dtype: float64, 'GAPSX': Deposit-CAD    12227.912926\n",
      "dtype: float64, 'LNC': Deposit-CAD   -1193.146439\n",
      "dtype: float64, 'KNEBV.HE': Deposit-CAD    3629.708805\n",
      "dtype: float64}\n",
      "{'MRD.TO': -58.49883416285279, 'CIM.AX': -275.5502545072637, 'GAPSX': 9720.810249804525, 'LNC': -955.3003543498188, 'KNEBV.HE': 2811.0995676468524}\n",
      "{'MRD.TO': Deposit-CAD   -153.397027\n",
      "dtype: float64, 'CIM.AX': Deposit-CAD   -310.391696\n",
      "dtype: float64, 'GAPSX': Deposit-CAD    14712.716115\n",
      "dtype: float64, 'LNC': Deposit-CAD   -1762.351498\n",
      "dtype: float64, 'KNEBV.HE': Deposit-CAD    3680.167772\n",
      "dtype: float64}\n",
      "{'MRD.TO': -58.49883416285279, 'CIM.AX': -275.5502545072637, 'GAPSX': 9720.810249804525, 'LNC': -955.3003543498188, 'KNEBV.HE': 2811.0995676468524}\n",
      "{'MRD.TO': Deposit-CAD   -153.397027\n",
      "dtype: float64, 'CIM.AX': Deposit-CAD   -310.391696\n",
      "dtype: float64, 'GAPSX': Deposit-CAD    14712.716115\n",
      "dtype: float64, 'LNC': Deposit-CAD   -1762.351498\n",
      "dtype: float64, 'KNEBV.HE': Deposit-CAD    3680.167772\n",
      "dtype: float64}\n",
      "{'MRD.TO': -58.49883416285279, 'CIM.AX': -275.5502545072637, 'GAPSX': 9720.810249804525, 'LNC': -955.3003543498188, 'KNEBV.HE': 2811.0995676468524}\n",
      "{'MRD.TO': Deposit-CAD   -153.397027\n",
      "dtype: float64, 'CIM.AX': Deposit-CAD   -310.391696\n",
      "dtype: float64, 'GAPSX': Deposit-CAD    14712.716115\n",
      "dtype: float64, 'LNC': Deposit-CAD   -1762.351498\n",
      "dtype: float64, 'KNEBV.HE': Deposit-CAD    3680.167772\n",
      "dtype: float64}\n",
      "{'MRD.TO': -58.49883416285279, 'CIM.AX': -275.5502545072637, 'GAPSX': 9720.810249804525, 'LNC': -955.3003543498188, 'KNEBV.HE': 2811.0995676468524}\n",
      "{'MRD.TO': Deposit-CAD   -153.397027\n",
      "dtype: float64, 'CIM.AX': Deposit-CAD   -310.391696\n",
      "dtype: float64, 'GAPSX': Deposit-CAD    14712.716115\n",
      "dtype: float64, 'LNC': Deposit-CAD   -1762.351498\n",
      "dtype: float64, 'KNEBV.HE': Deposit-CAD    3680.167772\n",
      "dtype: float64}\n",
      "{'MRD.TO': -58.49883416285279, 'CIM.AX': -275.5502545072637, 'GAPSX': 9720.810249804525, 'LNC': -955.3003543498188, 'KNEBV.HE': 2811.0995676468524}\n",
      "{'MRD.TO': Deposit-CAD   -153.397027\n",
      "dtype: float64, 'CIM.AX': Deposit-CAD   -310.391696\n",
      "dtype: float64, 'GAPSX': Deposit-CAD    14712.716115\n",
      "dtype: float64, 'LNC': Deposit-CAD   -1762.351498\n",
      "dtype: float64, 'KNEBV.HE': Deposit-CAD    3680.167772\n",
      "dtype: float64}\n",
      "{'MRD.TO': -58.49883416285279, 'CIM.AX': -275.5502545072637, 'GAPSX': 9720.810249804525, 'LNC': -955.3003543498188, 'KNEBV.HE': 2811.0995676468524}\n",
      "{'MRD.TO': Deposit-CAD   -153.397027\n",
      "dtype: float64, 'CIM.AX': Deposit-CAD   -310.391696\n",
      "dtype: float64, 'GAPSX': Deposit-CAD    14712.716115\n",
      "dtype: float64, 'LNC': Deposit-CAD   -1762.351498\n",
      "dtype: float64, 'KNEBV.HE': Deposit-CAD    3680.167772\n",
      "dtype: float64}\n",
      "{'MRD.TO': -58.49883416285279, 'CIM.AX': -275.5502545072637, 'GAPSX': 9720.810249804525, 'LNC': -955.3003543498188, 'KNEBV.HE': 2811.0995676468524}\n",
      "{'MRD.TO': Deposit-CAD   -165.968193\n",
      "dtype: float64, 'CIM.AX': Deposit-CAD   -375.098703\n",
      "dtype: float64, 'GAPSX': Deposit-CAD    15383.493411\n",
      "dtype: float64, 'LNC': Deposit-CAD   -1645.373376\n",
      "dtype: float64, 'KNEBV.HE': Deposit-CAD    3721.458892\n",
      "dtype: float64}\n",
      "{'MRD.TO': -58.49883416285279, 'CIM.AX': -275.5502545072637, 'GAPSX': 9720.810249804525, 'LNC': -955.3003543498188, 'KNEBV.HE': 2811.0995676468524}\n",
      "{'MRD.TO': Deposit-CAD   -165.968193\n",
      "dtype: float64, 'CIM.AX': Deposit-CAD   -375.098703\n",
      "dtype: float64, 'GAPSX': Deposit-CAD    15383.493411\n",
      "dtype: float64, 'LNC': Deposit-CAD   -1645.373376\n",
      "dtype: float64, 'KNEBV.HE': Deposit-CAD    3721.458892\n",
      "dtype: float64}\n",
      "{'MRD.TO': -58.49883416285279, 'CIM.AX': -275.5502545072637, 'GAPSX': 9720.810249804525, 'LNC': -955.3003543498188, 'KNEBV.HE': 2811.0995676468524}\n",
      "{'MRD.TO': Deposit-CAD   -165.968193\n",
      "dtype: float64, 'CIM.AX': Deposit-CAD   -375.098703\n",
      "dtype: float64, 'GAPSX': Deposit-CAD    15383.493411\n",
      "dtype: float64, 'LNC': Deposit-CAD   -1645.373376\n",
      "dtype: float64, 'KNEBV.HE': Deposit-CAD    3721.458892\n",
      "dtype: float64}\n",
      "{'MRD.TO': -58.49883416285279, 'CIM.AX': -275.5502545072637, 'GAPSX': 9720.810249804525, 'LNC': -955.3003543498188, 'KNEBV.HE': 2811.0995676468524}\n",
      "{'MRD.TO': Deposit-CAD   -165.968193\n",
      "dtype: float64, 'CIM.AX': Deposit-CAD   -375.098703\n",
      "dtype: float64, 'GAPSX': Deposit-CAD    15383.493411\n",
      "dtype: float64, 'LNC': Deposit-CAD   -1645.373376\n",
      "dtype: float64, 'KNEBV.HE': Deposit-CAD    3721.458892\n",
      "dtype: float64}\n",
      "{'MRD.TO': -58.49883416285279, 'CIM.AX': -275.5502545072637, 'GAPSX': 9720.810249804525, 'LNC': -955.3003543498188, 'KNEBV.HE': 2811.0995676468524}\n",
      "{'MRD.TO': Deposit-CAD   -165.968193\n",
      "dtype: float64, 'CIM.AX': Deposit-CAD   -375.098703\n",
      "dtype: float64, 'GAPSX': Deposit-CAD    15383.493411\n",
      "dtype: float64, 'LNC': Deposit-CAD   -1645.373376\n",
      "dtype: float64, 'KNEBV.HE': Deposit-CAD    3721.458892\n",
      "dtype: float64}\n",
      "{'MRD.TO': -58.49883416285279, 'CIM.AX': -275.5502545072637, 'GAPSX': 9720.810249804525, 'LNC': -955.3003543498188, 'KNEBV.HE': 2811.0995676468524}\n",
      "{'MRD.TO': Deposit-CAD   -165.968193\n",
      "dtype: float64, 'CIM.AX': Deposit-CAD   -375.098703\n",
      "dtype: float64, 'GAPSX': Deposit-CAD    15383.493411\n",
      "dtype: float64, 'LNC': Deposit-CAD   -1645.373376\n",
      "dtype: float64, 'KNEBV.HE': Deposit-CAD    3721.458892\n",
      "dtype: float64}\n",
      "{'MRD.TO': -58.49883416285279, 'CIM.AX': -275.5502545072637, 'GAPSX': 9720.810249804525, 'LNC': -955.3003543498188, 'KNEBV.HE': 2811.0995676468524}\n",
      "{'MRD.TO': Deposit-CAD   -139.295514\n",
      "dtype: float64, 'CIM.AX': Deposit-CAD   -254.828459\n",
      "dtype: float64, 'GAPSX': Deposit-CAD    12830.06699\n",
      "dtype: float64, 'LNC': Deposit-CAD   -966.340268\n",
      "dtype: float64, 'KNEBV.HE': Deposit-CAD    3834.105561\n",
      "dtype: float64}\n",
      "{'MRD.TO': -58.49883416285279, 'CIM.AX': -275.5502545072637, 'GAPSX': 9720.810249804525, 'LNC': -955.3003543498188, 'KNEBV.HE': 2811.0995676468524}\n",
      "{'MRD.TO': Deposit-CAD   -139.295514\n",
      "dtype: float64, 'CIM.AX': Deposit-CAD   -254.828459\n",
      "dtype: float64, 'GAPSX': Deposit-CAD    12830.06699\n",
      "dtype: float64, 'LNC': Deposit-CAD   -966.340268\n",
      "dtype: float64, 'KNEBV.HE': Deposit-CAD    3834.105561\n",
      "dtype: float64}\n",
      "{'MRD.TO': -58.49883416285279, 'CIM.AX': -275.5502545072637, 'GAPSX': 9720.810249804525, 'LNC': -955.3003543498188, 'KNEBV.HE': 2811.0995676468524}\n",
      "{'MRD.TO': Deposit-CAD   -139.295514\n",
      "dtype: float64, 'CIM.AX': Deposit-CAD   -254.828459\n",
      "dtype: float64, 'GAPSX': Deposit-CAD    12830.06699\n",
      "dtype: float64, 'LNC': Deposit-CAD   -966.340268\n",
      "dtype: float64, 'KNEBV.HE': Deposit-CAD    3834.105561\n",
      "dtype: float64}\n",
      "{'MRD.TO': -58.49883416285279, 'CIM.AX': -275.5502545072637, 'GAPSX': 9720.810249804525, 'LNC': -955.3003543498188, 'KNEBV.HE': 2811.0995676468524}\n",
      "{'MRD.TO': Deposit-CAD   -139.295514\n",
      "dtype: float64, 'CIM.AX': Deposit-CAD   -254.828459\n",
      "dtype: float64, 'GAPSX': Deposit-CAD    12830.06699\n",
      "dtype: float64, 'LNC': Deposit-CAD   -966.340268\n",
      "dtype: float64, 'KNEBV.HE': Deposit-CAD    3834.105561\n",
      "dtype: float64}\n",
      "{'MRD.TO': -58.49883416285279, 'CIM.AX': -275.5502545072637, 'GAPSX': 9720.810249804525, 'LNC': -955.3003543498188, 'KNEBV.HE': 2811.0995676468524}\n",
      "{'MRD.TO': Deposit-CAD   -139.295514\n",
      "dtype: float64, 'CIM.AX': Deposit-CAD   -254.828459\n",
      "dtype: float64, 'GAPSX': Deposit-CAD    12830.06699\n",
      "dtype: float64, 'LNC': Deposit-CAD   -966.340268\n",
      "dtype: float64, 'KNEBV.HE': Deposit-CAD    3834.105561\n",
      "dtype: float64}\n",
      "{'MRD.TO': -58.49883416285279, 'CIM.AX': -275.5502545072637, 'GAPSX': 9720.810249804525, 'LNC': -955.3003543498188, 'KNEBV.HE': 2811.0995676468524}\n",
      "{'MRD.TO': Deposit-CAD   -139.295514\n",
      "dtype: float64, 'CIM.AX': Deposit-CAD   -254.828459\n",
      "dtype: float64, 'GAPSX': Deposit-CAD    12830.06699\n",
      "dtype: float64, 'LNC': Deposit-CAD   -966.340268\n",
      "dtype: float64, 'KNEBV.HE': Deposit-CAD    3834.105561\n",
      "dtype: float64}\n",
      "{'MRD.TO': -58.49883416285279, 'CIM.AX': -275.5502545072637, 'GAPSX': 9720.810249804525, 'LNC': -955.3003543498188, 'KNEBV.HE': 2811.0995676468524}\n",
      "{'MRD.TO': Deposit-CAD   -167.58602\n",
      "dtype: float64, 'CIM.AX': Deposit-CAD   -278.970497\n",
      "dtype: float64, 'GAPSX': Deposit-CAD    14968.901298\n",
      "dtype: float64, 'LNC': Deposit-CAD   -1286.269905\n",
      "dtype: float64, 'KNEBV.HE': Deposit-CAD    3867.298843\n",
      "dtype: float64}\n",
      "{'MRD.TO': -58.49883416285279, 'CIM.AX': -275.5502545072637, 'GAPSX': 9720.810249804525, 'LNC': -955.3003543498188, 'KNEBV.HE': 2811.0995676468524}\n",
      "{'MRD.TO': Deposit-CAD   -167.58602\n",
      "dtype: float64, 'CIM.AX': Deposit-CAD   -278.970497\n",
      "dtype: float64, 'GAPSX': Deposit-CAD    14968.901298\n",
      "dtype: float64, 'LNC': Deposit-CAD   -1286.269905\n",
      "dtype: float64, 'KNEBV.HE': Deposit-CAD    3867.298843\n",
      "dtype: float64}\n",
      "{'MRD.TO': -58.49883416285279, 'CIM.AX': -275.5502545072637, 'GAPSX': 9720.810249804525, 'LNC': -955.3003543498188, 'KNEBV.HE': 2811.0995676468524}\n",
      "{'MRD.TO': Deposit-CAD   -167.58602\n",
      "dtype: float64, 'CIM.AX': Deposit-CAD   -278.970497\n",
      "dtype: float64, 'GAPSX': Deposit-CAD    14968.901298\n",
      "dtype: float64, 'LNC': Deposit-CAD   -1286.269905\n",
      "dtype: float64, 'KNEBV.HE': Deposit-CAD    3867.298843\n",
      "dtype: float64}\n",
      "{'MRD.TO': -58.49883416285279, 'CIM.AX': -275.5502545072637, 'GAPSX': 9720.810249804525, 'LNC': -955.3003543498188, 'KNEBV.HE': 2811.0995676468524}\n",
      "{'MRD.TO': Deposit-CAD   -167.58602\n",
      "dtype: float64, 'CIM.AX': Deposit-CAD   -278.970497\n",
      "dtype: float64, 'GAPSX': Deposit-CAD    14968.901298\n",
      "dtype: float64, 'LNC': Deposit-CAD   -1286.269905\n",
      "dtype: float64, 'KNEBV.HE': Deposit-CAD    3867.298843\n",
      "dtype: float64}\n",
      "{'MRD.TO': -58.49883416285279, 'CIM.AX': -275.5502545072637, 'GAPSX': 9720.810249804525, 'LNC': -955.3003543498188, 'KNEBV.HE': 2811.0995676468524}\n",
      "{'MRD.TO': Deposit-CAD   -167.58602\n",
      "dtype: float64, 'CIM.AX': Deposit-CAD   -278.970497\n",
      "dtype: float64, 'GAPSX': Deposit-CAD    14968.901298\n",
      "dtype: float64, 'LNC': Deposit-CAD   -1286.269905\n",
      "dtype: float64, 'KNEBV.HE': Deposit-CAD    3867.298843\n",
      "dtype: float64}\n",
      "{'MRD.TO': -58.49883416285279, 'CIM.AX': -275.5502545072637, 'GAPSX': 9720.810249804525, 'LNC': -955.3003543498188, 'KNEBV.HE': 2811.0995676468524}\n",
      "{'MRD.TO': Deposit-CAD   -167.58602\n",
      "dtype: float64, 'CIM.AX': Deposit-CAD   -278.970497\n",
      "dtype: float64, 'GAPSX': Deposit-CAD    14968.901298\n",
      "dtype: float64, 'LNC': Deposit-CAD   -1286.269905\n",
      "dtype: float64, 'KNEBV.HE': Deposit-CAD    3867.298843\n",
      "dtype: float64}\n",
      "{'MRD.TO': -58.49883416285279, 'CIM.AX': -275.5502545072637, 'GAPSX': 9720.810249804525, 'LNC': -955.3003543498188, 'KNEBV.HE': 2811.0995676468524}\n",
      "{'MRD.TO': Deposit-CAD   -195.780072\n",
      "dtype: float64, 'CIM.AX': Deposit-CAD   -275.962577\n",
      "dtype: float64, 'GAPSX': Deposit-CAD    14881.989334\n",
      "dtype: float64, 'LNC': Deposit-CAD   -1260.898219\n",
      "dtype: float64, 'KNEBV.HE': Deposit-CAD    4180.940746\n",
      "dtype: float64}\n",
      "{'MRD.TO': -58.49883416285279, 'CIM.AX': -275.5502545072637, 'GAPSX': 9720.810249804525, 'LNC': -955.3003543498188, 'KNEBV.HE': 2811.0995676468524}\n",
      "{'MRD.TO': Deposit-CAD   -195.780072\n",
      "dtype: float64, 'CIM.AX': Deposit-CAD   -275.962577\n",
      "dtype: float64, 'GAPSX': Deposit-CAD    14881.989334\n",
      "dtype: float64, 'LNC': Deposit-CAD   -1260.898219\n",
      "dtype: float64, 'KNEBV.HE': Deposit-CAD    4180.940746\n",
      "dtype: float64}\n",
      "{'MRD.TO': -58.49883416285279, 'CIM.AX': -275.5502545072637, 'GAPSX': 9720.810249804525, 'LNC': -955.3003543498188, 'KNEBV.HE': 2811.0995676468524}\n",
      "{'MRD.TO': Deposit-CAD   -195.780072\n",
      "dtype: float64, 'CIM.AX': Deposit-CAD   -275.962577\n",
      "dtype: float64, 'GAPSX': Deposit-CAD    14881.989334\n",
      "dtype: float64, 'LNC': Deposit-CAD   -1260.898219\n",
      "dtype: float64, 'KNEBV.HE': Deposit-CAD    4180.940746\n",
      "dtype: float64}\n",
      "{'MRD.TO': -58.49883416285279, 'CIM.AX': -275.5502545072637, 'GAPSX': 9720.810249804525, 'LNC': -955.3003543498188, 'KNEBV.HE': 2811.0995676468524}\n",
      "{'MRD.TO': Deposit-CAD   -195.780072\n",
      "dtype: float64, 'CIM.AX': Deposit-CAD   -275.962577\n",
      "dtype: float64, 'GAPSX': Deposit-CAD    14881.989334\n",
      "dtype: float64, 'LNC': Deposit-CAD   -1260.898219\n",
      "dtype: float64, 'KNEBV.HE': Deposit-CAD    4180.940746\n",
      "dtype: float64}\n",
      "{'MRD.TO': -58.49883416285279, 'CIM.AX': -275.5502545072637, 'GAPSX': 9720.810249804525, 'LNC': -955.3003543498188, 'KNEBV.HE': 2811.0995676468524}\n",
      "{'MRD.TO': Deposit-CAD   -195.780072\n",
      "dtype: float64, 'CIM.AX': Deposit-CAD   -275.962577\n",
      "dtype: float64, 'GAPSX': Deposit-CAD    14881.989334\n",
      "dtype: float64, 'LNC': Deposit-CAD   -1260.898219\n",
      "dtype: float64, 'KNEBV.HE': Deposit-CAD    4180.940746\n",
      "dtype: float64}\n",
      "{'MRD.TO': -58.49883416285279, 'CIM.AX': -275.5502545072637, 'GAPSX': 9720.810249804525, 'LNC': -955.3003543498188, 'KNEBV.HE': 2811.0995676468524}\n",
      "{'MRD.TO': Deposit-CAD   -195.780072\n",
      "dtype: float64, 'CIM.AX': Deposit-CAD   -275.962577\n",
      "dtype: float64, 'GAPSX': Deposit-CAD    14881.989334\n",
      "dtype: float64, 'LNC': Deposit-CAD   -1260.898219\n",
      "dtype: float64, 'KNEBV.HE': Deposit-CAD    4180.940746\n",
      "dtype: float64}\n",
      "{'MRD.TO': -58.49883416285279, 'CIM.AX': -275.5502545072637, 'GAPSX': 9720.810249804525, 'LNC': -955.3003543498188, 'KNEBV.HE': 2811.0995676468524}\n",
      "{'MRD.TO': Deposit-CAD   -203.733043\n",
      "dtype: float64, 'CIM.AX': Deposit-CAD   -295.163983\n",
      "dtype: float64, 'GAPSX': Deposit-CAD    16183.869125\n",
      "dtype: float64, 'LNC': Deposit-CAD   -1562.79131\n",
      "dtype: float64, 'KNEBV.HE': Deposit-CAD    4395.703242\n",
      "dtype: float64}\n",
      "{'MRD.TO': -58.49883416285279, 'CIM.AX': -275.5502545072637, 'GAPSX': 9720.810249804525, 'LNC': -955.3003543498188, 'KNEBV.HE': 2811.0995676468524}\n",
      "{'MRD.TO': Deposit-CAD   -203.733043\n",
      "dtype: float64, 'CIM.AX': Deposit-CAD   -295.163983\n",
      "dtype: float64, 'GAPSX': Deposit-CAD    16183.869125\n",
      "dtype: float64, 'LNC': Deposit-CAD   -1562.79131\n",
      "dtype: float64, 'KNEBV.HE': Deposit-CAD    4395.703242\n",
      "dtype: float64}\n",
      "{'MRD.TO': -58.49883416285279, 'CIM.AX': -275.5502545072637, 'GAPSX': 9720.810249804525, 'LNC': -955.3003543498188, 'KNEBV.HE': 2811.0995676468524}\n",
      "{'MRD.TO': Deposit-CAD   -203.733043\n",
      "dtype: float64, 'CIM.AX': Deposit-CAD   -295.163983\n",
      "dtype: float64, 'GAPSX': Deposit-CAD    16183.869125\n",
      "dtype: float64, 'LNC': Deposit-CAD   -1562.79131\n",
      "dtype: float64, 'KNEBV.HE': Deposit-CAD    4395.703242\n",
      "dtype: float64}\n",
      "{'MRD.TO': -58.49883416285279, 'CIM.AX': -275.5502545072637, 'GAPSX': 9720.810249804525, 'LNC': -955.3003543498188, 'KNEBV.HE': 2811.0995676468524}\n",
      "{'MRD.TO': Deposit-CAD   -203.733043\n",
      "dtype: float64, 'CIM.AX': Deposit-CAD   -295.163983\n",
      "dtype: float64, 'GAPSX': Deposit-CAD    16183.869125\n",
      "dtype: float64, 'LNC': Deposit-CAD   -1562.79131\n",
      "dtype: float64, 'KNEBV.HE': Deposit-CAD    4395.703242\n",
      "dtype: float64}\n",
      "{'MRD.TO': -58.49883416285279, 'CIM.AX': -275.5502545072637, 'GAPSX': 9720.810249804525, 'LNC': -955.3003543498188, 'KNEBV.HE': 2811.0995676468524}\n",
      "{'MRD.TO': Deposit-CAD   -203.733043\n",
      "dtype: float64, 'CIM.AX': Deposit-CAD   -295.163983\n",
      "dtype: float64, 'GAPSX': Deposit-CAD    16183.869125\n",
      "dtype: float64, 'LNC': Deposit-CAD   -1562.79131\n",
      "dtype: float64, 'KNEBV.HE': Deposit-CAD    4395.703242\n",
      "dtype: float64}\n",
      "{'MRD.TO': -58.49883416285279, 'CIM.AX': -275.5502545072637, 'GAPSX': 9720.810249804525, 'LNC': -955.3003543498188, 'KNEBV.HE': 2811.0995676468524}\n",
      "{'MRD.TO': Deposit-CAD   -203.733043\n",
      "dtype: float64, 'CIM.AX': Deposit-CAD   -295.163983\n",
      "dtype: float64, 'GAPSX': Deposit-CAD    16183.869125\n",
      "dtype: float64, 'LNC': Deposit-CAD   -1562.79131\n",
      "dtype: float64, 'KNEBV.HE': Deposit-CAD    4395.703242\n",
      "dtype: float64}\n",
      "{'MRD.TO': -58.49883416285279, 'CIM.AX': -275.5502545072637, 'GAPSX': 9720.810249804525, 'LNC': -955.3003543498188, 'KNEBV.HE': 2811.0995676468524}\n",
      "{'MRD.TO': Deposit-CAD   -235.856546\n",
      "dtype: float64, 'CIM.AX': Deposit-CAD   -289.446542\n",
      "dtype: float64, 'GAPSX': Deposit-CAD    16650.067758\n",
      "dtype: float64, 'LNC': Deposit-CAD   -1592.5798\n",
      "dtype: float64, 'KNEBV.HE': Deposit-CAD    4571.484048\n",
      "dtype: float64}\n",
      "{'MRD.TO': -58.49883416285279, 'CIM.AX': -275.5502545072637, 'GAPSX': 9720.810249804525, 'LNC': -955.3003543498188, 'KNEBV.HE': 2811.0995676468524}\n",
      "{'MRD.TO': Deposit-CAD   -235.856546\n",
      "dtype: float64, 'CIM.AX': Deposit-CAD   -289.446542\n",
      "dtype: float64, 'GAPSX': Deposit-CAD    16650.067758\n",
      "dtype: float64, 'LNC': Deposit-CAD   -1592.5798\n",
      "dtype: float64, 'KNEBV.HE': Deposit-CAD    4571.484048\n",
      "dtype: float64}\n",
      "{'MRD.TO': -58.49883416285279, 'CIM.AX': -275.5502545072637, 'GAPSX': 9720.810249804525, 'LNC': -955.3003543498188, 'KNEBV.HE': 2811.0995676468524}\n",
      "{'MRD.TO': Deposit-CAD   -235.856546\n",
      "dtype: float64, 'CIM.AX': Deposit-CAD   -289.446542\n",
      "dtype: float64, 'GAPSX': Deposit-CAD    16650.067758\n",
      "dtype: float64, 'LNC': Deposit-CAD   -1592.5798\n",
      "dtype: float64, 'KNEBV.HE': Deposit-CAD    4571.484048\n",
      "dtype: float64}\n",
      "{'MRD.TO': -58.49883416285279, 'CIM.AX': -275.5502545072637, 'GAPSX': 9720.810249804525, 'LNC': -955.3003543498188, 'KNEBV.HE': 2811.0995676468524}\n"
     ]
    }
   ],
   "source": [
    "portf_values=[]\n",
    "portf_values_norebal=[]\n",
    "for item in all_dates:\n",
    "    portf_values.append(test_admin.getAccountValue(item))\n",
    "    portf_values_norebal.append(test_admin_norebal.getAccountValue(item))\n",
    "    "
   ]
  },
  {
   "cell_type": "code",
   "execution_count": 11,
   "metadata": {},
   "outputs": [
    {
     "data": {
      "text/plain": [
       "[<matplotlib.lines.Line2D at 0x1ffa79d97b8>]"
      ]
     },
     "execution_count": 11,
     "metadata": {},
     "output_type": "execute_result"
    },
    {
     "data": {
      "image/png": "[encoded data removed]",
      "text/plain": [
       "<Figure size 720x720 with 1 Axes>"
      ]
     },
     "metadata": {
      "needs_background": "light"
     },
     "output_type": "display_data"
    }
   ],
   "source": [
    "from matplotlib import pyplot as plt\n",
    "plt.figure(figsize=(10,10))\n",
    "plt.plot(all_dates,portf_values)\n",
    "plt.plot(all_dates,portf_values_norebal,'--')"
   ]
  },
  {
   "cell_type": "code",
   "execution_count": 13,
   "metadata": {},
   "outputs": [
    {
     "data": {
      "text/plain": [
       "array([18.45753023, 18.03810346, 14.86439734, 50.3092915 , 38.99422321])"
      ]
     },
     "execution_count": 13,
     "metadata": {},
     "output_type": "execute_result"
    }
   ],
   "source": [
    "import numpy as np\n",
    "import numpy as np\n",
    "prices_tmp=[universe.get_price_in_currency('MRD.TO',start_date,'CAD'),\n",
    "            universe.get_price_in_currency('CIM.AX',start_date,'CAD'),\n",
    "            universe.get_price_in_currency('GAPSX',start_date,'CAD'),\n",
    "            universe.get_price_in_currency('LNC',start_date,'CAD'),\n",
    "            universe.get_price_in_currency('KNEBV.HE',start_date,'CAD')\n",
    "           ]\n",
    "np.multiply(prices_tmp,1+0.0001)"
   ]
  },
  {
   "cell_type": "code",
   "execution_count": 14,
   "metadata": {},
   "outputs": [
    {
     "data": {
      "text/plain": [
       "[<matplotlib.lines.Line2D at 0x1ffa888f470>]"
      ]
     },
     "execution_count": 14,
     "metadata": {},
     "output_type": "execute_result"
    },
    {
     "data": {
      "image/png": "[encoded data removed]",
      "text/plain": [
       "<Figure size 432x288 with 1 Axes>"
      ]
     },
     "metadata": {
      "needs_background": "light"
     },
     "output_type": "display_data"
    }
   ],
   "source": [
    "weights=[-0.00539872, -0.02485202,  0.72246993, -0.24030242,  0.54808322]\n",
    "amounts=np.divide(np.multiply(weights,200000),np.multiply(prices_tmp,1+0.0001))\n",
    "time_series_no_rebal=[]\n",
    "for date in all_dates:\n",
    "    sec_prices_tmp=[]\n",
    "    for item in test_admin.portfolio[start_date].portfolio.keys():\n",
    "        sec_prices_tmp.append(universe.get_price_in_currency(item,date,'CAD'))\n",
    "    time_series_no_rebal.append(np.sum(np.multiply(amounts,sec_prices_tmp)))\n",
    "    \n",
    "plt.plot(all_dates,time_series_no_rebal)"
   ]
  },
  {
   "cell_type": "code",
   "execution_count": 15,
   "metadata": {},
   "outputs": [
    {
     "data": {
      "text/plain": [
       "{'MRD.TO': -58.49883416285279,\n",
       " 'CIM.AX': -275.5502545072637,\n",
       " 'GAPSX': 9720.810249804525,\n",
       " 'LNC': -955.3003543498188,\n",
       " 'KNEBV.HE': 2811.0995676468524}"
      ]
     },
     "execution_count": 15,
     "metadata": {},
     "output_type": "execute_result"
    }
   ],
   "source": [
    "test_admin_norebal.portfolio[start_date].portfolio"
   ]
  },
  {
   "cell_type": "code",
   "execution_count": null,
   "metadata": {},
   "outputs": [],
   "source": []
  },
  {
   "cell_type": "code",
   "execution_count": 16,
   "metadata": {},
   "outputs": [
    {
     "name": "stdout",
     "output_type": "stream",
     "text": [
      "{'MRD.TO': -58.49883416285279, 'CIM.AX': -275.5502545072637, 'GAPSX': 9720.810249804525, 'LNC': -955.3003543498188, 'KNEBV.HE': 2811.0995676468524}\n",
      "{'MRD.TO': Deposit-CAD   -55.098355\n",
      "Name: 2014-09-01, dtype: float64, 'CIM.AX': Deposit-CAD   -279.477318\n",
      "Name: 2014-09-01, dtype: float64, 'GAPSX': Deposit-CAD    10328.42611\n",
      "Name: 2014-09-01, dtype: float64, 'LNC': Deposit-CAD   -973.03267\n",
      "Name: 2014-09-01, dtype: float64, 'KNEBV.HE': Deposit-CAD    3114.17632\n",
      "Name: 2014-09-01, dtype: float64}\n"
     ]
    }
   ],
   "source": [
    "print(test_admin.portfolio[start_date].portfolio)\n",
    "print(test_admin.portfolio['2014-09-01'].portfolio)\n"
   ]
  },
  {
   "cell_type": "code",
   "execution_count": null,
   "metadata": {},
   "outputs": [],
   "source": [
    "amounts"
   ]
  },
  {
   "cell_type": "code",
   "execution_count": null,
   "metadata": {},
   "outputs": [],
   "source": []
  },
  {
   "cell_type": "code",
   "execution_count": null,
   "metadata": {},
   "outputs": [],
   "source": [
    "all_dates[-5:]"
   ]
  },
  {
   "cell_type": "code",
   "execution_count": null,
   "metadata": {},
   "outputs": [],
   "source": [
    "time_series_no_rebal[-5:]"
   ]
  },
  {
   "cell_type": "code",
   "execution_count": null,
   "metadata": {},
   "outputs": [],
   "source": [
    "test_admin_norebal.getAccountValue('2019-01-31')"
   ]
  },
  {
   "cell_type": "code",
   "execution_count": null,
   "metadata": {},
   "outputs": [],
   "source": [
    "cash_start_date='2014-09-01'\n",
    "cash_amount=20000\n",
    "cash_dates=[datetime.strftime(item,'%Y-%m-%d') for item in pd.date_range(cash_start_date,today_date,freq='6MS')]\n",
    "cash_transacs=pd.DataFrame(cash_amount,index=cash_dates,columns=['Deposit-CAD'])"
   ]
  },
  {
   "cell_type": "code",
   "execution_count": null,
   "metadata": {},
   "outputs": [],
   "source": [
    "cash_transacs"
   ]
  },
  {
   "cell_type": "code",
   "execution_count": null,
   "metadata": {},
   "outputs": [],
   "source": [
    "test_admin.portfolio[start_date].getPortfolioValue(start_date)"
   ]
  },
  {
   "cell_type": "code",
   "execution_count": null,
   "metadata": {},
   "outputs": [],
   "source": [
    "import scipy as sp\n",
    "def MoneyWeightedReturn(portfolio,cash_transacs,d1,d2):\n",
    "    #get money weighted (IRR) return during given date range d1 to d2\n",
    "    #assuming all capital gains are reinvested at rebalancing\n",
    "    \n",
    "    #get portfolio values at the beginning and end\n",
    "    date_format='%Y-%m-%d'\n",
    "    keys_tmp=list(portfolio.keys())\n",
    "    date_setup=[i for i in keys_tmp if i<=d1][-1]\n",
    "    date_last_rebal=[i for i in keys_tmp if i<=d2][-1]\n",
    "    port_d1=portfolio[date_setup].getPortfolioValue(d1)\n",
    "    port_d2=portfolio[date_last_rebal].getPortfolioValue(d2)\n",
    "    #cash flow from capital gains at the end of observ period\n",
    "    time_delta=datetime.strptime(d2,date_format)-datetime.strptime(d1,date_format)\n",
    "    time_end=time_delta.days/365\n",
    "    #now cash inflows in between:\n",
    "    # also drop all zeros\n",
    "    CFs_bw=cash_transacs[cash_transacs.iloc[:,0]!=0].loc[d1:d2]\n",
    "    CFs_bw.loc[d2]=port_d2\n",
    "    CFs_bw['TimeDelta']=[datetime.strptime(item,date_format)-datetime.strptime(d1,date_format) for item in CFs_bw.index]\n",
    "    CFs_bw['TimeYears']=[item.days/365 for item in CFs_bw['TimeDelta']]\n",
    "    print(CFs_bw)\n",
    "    def optim_err_fun(IRR):\n",
    "        timeYears=CFs_bw['TimeYears'].values\n",
    "        divisers=(1+IRR)**timeYears\n",
    "        cash_flows=CFs_bw['Deposit-CAD'].values\n",
    "        PV_infl=np.sum(np.divide(cash_flows,divisers))        \n",
    "        PV_outfl=np.float(port_d1)\n",
    "        error=(PV_outfl-PV_infl)**2\n",
    "        return error\n",
    "    res=sp.optimize.minimize(optim_err_fun,0.5)\n",
    "    return res.x[0]"
   ]
  },
  {
   "cell_type": "code",
   "execution_count": null,
   "metadata": {},
   "outputs": [],
   "source": [
    "MoneyWeightedReturn(test_admin.portfolio,test_admin.cash_transacs,start_date,'2019-06-01')"
   ]
  },
  {
   "cell_type": "code",
   "execution_count": null,
   "metadata": {},
   "outputs": [],
   "source": [
    "import datetime as dt\n",
    "el_time=datetime.strptime('2014-09-01',date_format)-datetime.strptime(start_date,date_format)"
   ]
  },
  {
   "cell_type": "code",
   "execution_count": null,
   "metadata": {},
   "outputs": [],
   "source": [
    "test_admin.getAccountValue('2015-04-01')"
   ]
  },
  {
   "cell_type": "code",
   "execution_count": null,
   "metadata": {},
   "outputs": [],
   "source": [
    "test_cash['TimeDelta']=[datetime.strptime(item,date_format)-datetime.strptime(start_date,date_format) for item in test_cash.index]"
   ]
  },
  {
   "cell_type": "code",
   "execution_count": null,
   "metadata": {},
   "outputs": [],
   "source": [
    "test_cash['TimeYears']=[item.days/365 for item in test_cash['TimeDelta']]"
   ]
  },
  {
   "cell_type": "code",
   "execution_count": null,
   "metadata": {},
   "outputs": [],
   "source": [
    "x=0.2\n",
    "# test_cash.loc['2015-10-01']=[587000, 10, 5]\n",
    "test_cash['PV']=test_cash['Deposit-CAD']/((1+x)**test_cash['TimeYears'])\n",
    "# ['Deposit-CAD'].divide(np.power((1+x),test_cash['TimeYears'])).sum()"
   ]
  },
  {
   "cell_type": "code",
   "execution_count": null,
   "metadata": {},
   "outputs": [],
   "source": [
    "test_cash"
   ]
  },
  {
   "cell_type": "code",
   "execution_count": null,
   "metadata": {},
   "outputs": [],
   "source": [
    "200391.633657/((1+0.)**0.419178)"
   ]
  },
  {
   "cell_type": "code",
   "execution_count": null,
   "metadata": {},
   "outputs": [],
   "source": [
    "timeYears=test_cash['TimeYears'].values\n",
    "divisers=[(1+x)**item for item in timeYears]"
   ]
  },
  {
   "cell_type": "code",
   "execution_count": null,
   "metadata": {},
   "outputs": [],
   "source": [
    "(1+x)**timeYears"
   ]
  },
  {
   "cell_type": "code",
   "execution_count": null,
   "metadata": {},
   "outputs": [],
   "source": []
  }
 ],
 "metadata": {
  "kernelspec": {
   "display_name": "Python 3",
   "language": "python",
   "name": "python3"
  },
  "language_info": {
   "codemirror_mode": {
    "name": "ipython",
    "version": 3
   },
   "file_extension": ".py",
   "mimetype": "text/x-python",
   "name": "python",
   "nbconvert_exporter": "python",
   "pygments_lexer": "ipython3",
   "version": "3.7.0"
  }
 },
 "nbformat": 4,
 "nbformat_minor": 2
}
