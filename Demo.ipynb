{
 "cells": [
  {
   "cell_type": "code",
   "execution_count": 1,
   "metadata": {},
   "outputs": [],
   "source": [
    "from Instrument import Instrument, Stock, ETF, RiskFactor\n",
    "from InstrumentUniverse import InstrumentUniverse\n",
    "import pandas as pd\n",
    "import numpy as np"
   ]
  },
  {
   "cell_type": "markdown",
   "metadata": {},
   "source": [
    "# Register all Instrument into Universe"
   ]
  },
  {
   "cell_type": "markdown",
   "metadata": {},
   "source": [
    "Build your universe"
   ]
  },
  {
   "cell_type": "code",
   "execution_count": 2,
   "metadata": {},
   "outputs": [],
   "source": [
    "universe = InstrumentUniverse()"
   ]
  },
  {
   "cell_type": "code",
   "execution_count": 3,
   "metadata": {},
   "outputs": [
    {
     "name": "stdout",
     "output_type": "stream",
     "text": [
      "Total registered 0 securities\n",
      "\n",
      "Securities:\n",
      "\n"
     ]
    }
   ],
   "source": [
    "universe.show_registered_securities()"
   ]
  },
  {
   "cell_type": "code",
   "execution_count": 4,
   "metadata": {},
   "outputs": [],
   "source": [
    "# register all equities first\n",
    "import os\n",
    "dir_path = os.getcwd()\n",
    "data_path = dir_path + \"/Data/\"\n",
    "filtered_path = dir_path + \"/SecuritySelection/\""
   ]
  },
  {
   "cell_type": "code",
   "execution_count": null,
   "metadata": {},
   "outputs": [],
   "source": [
    "equities_df = pd.read_csv(filtered_path + \"final_eq.csv\")\n",
    "equity_prices.set_index('date', inplace=True)"
   ]
  },
  {
   "cell_type": "code",
   "execution_count": 6,
   "metadata": {},
   "outputs": [],
   "source": [
    "from datetime import datetime\n",
    "FF_rf_us = pd.read_csv(data_path + 'RiskFactors/F-F_Research_Data_5_Factors_2x3_daily.CSV', skiprows=(0, 1))\n",
    "FF_rf_us['Unnamed: 0'] = [datetime.strftime(datetime.strptime(str(item), '%Y%m%d'), '%Y-%m-%d') for item in FF_rf_us['Unnamed: 0']]\n",
    "FF_rf_us.set_index('Unnamed: 0', inplace=True)\n",
    "\n",
    "FF_rf_us.to_csv(data_path + 'RiskFactors/new_F-F_Research_Data_5_Factors_2x3_daily.CSV')"
   ]
  },
  {
   "cell_type": "code",
   "execution_count": 7,
   "metadata": {},
   "outputs": [],
   "source": [
    "options = pd.read_csv(data_path + \"option/DJX_filtered.csv\")\n",
    "options['date'] = [datetime.strftime(datetime.strptime(str(item), '%Y%m%d'), '%Y-%m-%d') for item in options['date']]\n",
    "options['exdate'] = [datetime.strftime(datetime.strptime(str(item), '%Y%m%d'), '%Y-%m-%d') for item in options['exdate']]\n",
    "\n",
    "options.to_csv(data_path + \"option/new_DJX_filtered.csv\")"
   ]
  },
  {
   "cell_type": "code",
   "execution_count": null,
   "metadata": {},
   "outputs": [],
   "source": [
    "FF_rf_us = pd.read_csv(data_path + 'RiskFactors/F-F_Research_Data_5_Factors_2x3_daily.CSV', skiprows=(0, 1))\n",
    "FF_rf_us['Unnamed: 0'] = [datetime.strftime(datetime.strptime(str(item), '%Y%m%d'), '%Y-%m-%d') for item in\n",
    "                              FF_rf_us['Unnamed: 0']]\n",
    "FF_rf_us.set_index('Unnamed: 0', inplace=True)\n",
    "\n"
   ]
  }
 ],
 "metadata": {
  "kernelspec": {
   "display_name": "Python 3",
   "language": "python",
   "name": "python3"
  },
  "language_info": {
   "codemirror_mode": {
    "name": "ipython",
    "version": 3
   },
   "file_extension": ".py",
   "mimetype": "text/x-python",
   "name": "python",
   "nbconvert_exporter": "python",
   "pygments_lexer": "ipython3",
   "version": "3.7.3"
  }
 },
 "nbformat": 4,
 "nbformat_minor": 2
}
