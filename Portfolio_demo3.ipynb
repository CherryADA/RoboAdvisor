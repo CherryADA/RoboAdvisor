{
 "cells": [
  {
   "cell_type": "code",
   "execution_count": 1,
   "metadata": {},
   "outputs": [],
   "source": [
    "from Portfolio import Portfolio, universe # universe is a global variable\n",
    "# and each portfolio can access to the universe\n"
   ]
  },
  {
   "cell_type": "code",
   "execution_count": 2,
   "metadata": {},
   "outputs": [],
   "source": [
    "import imp\n",
    "from Admin import Admin, MeanReturn, MoneyWeightedReturn,SimpleReturn,TimeWeightedReturn,Volatility, PortfolioVaR\n",
    "import pandas as pd\n",
    "# imp.reload(Admin)"
   ]
  },
  {
   "cell_type": "code",
   "execution_count": 3,
   "metadata": {},
   "outputs": [
    {
     "data": {
      "text/plain": [
       "Unnamed: 0\n",
       "2000-01-01          NaN\n",
       "2000-01-02          NaN\n",
       "2000-01-03     8.299891\n",
       "2000-01-04     8.095037\n",
       "2000-01-05     8.009132\n",
       "2000-01-06     7.962875\n",
       "2000-01-07     8.134686\n",
       "2000-01-08     8.134686\n",
       "2000-01-09     8.134686\n",
       "2000-01-10     8.233809\n",
       "2000-01-11     8.174335\n",
       "2000-01-12     8.134686\n",
       "2000-01-13     8.227203\n",
       "2000-01-14     8.299891\n",
       "2000-01-15     8.299891\n",
       "2000-01-16     8.299891\n",
       "2000-01-17     8.299891\n",
       "2000-01-18     8.280067\n",
       "2000-01-19     8.253634\n",
       "2000-01-20     8.233809\n",
       "2000-01-21     8.200769\n",
       "2000-01-22     8.200769\n",
       "2000-01-23     8.200769\n",
       "2000-01-24     8.075214\n",
       "2000-01-25     8.035563\n",
       "2000-01-26     8.048779\n",
       "2000-01-27     8.068607\n",
       "2000-01-28     7.923225\n",
       "2000-01-29     7.923225\n",
       "2000-01-30     7.923225\n",
       "                ...    \n",
       "2019-05-03    18.740000\n",
       "2019-05-04    18.740000\n",
       "2019-05-05    18.740000\n",
       "2019-05-06    18.590000\n",
       "2019-05-07    18.270000\n",
       "2019-05-08    18.250000\n",
       "2019-05-09    18.150000\n",
       "2019-05-10    18.240000\n",
       "2019-05-11    18.240000\n",
       "2019-05-12    18.240000\n",
       "2019-05-13    17.760000\n",
       "2019-05-14    17.950001\n",
       "2019-05-15    18.049999\n",
       "2019-05-16    18.190001\n",
       "2019-05-17    18.049999\n",
       "2019-05-18    18.049999\n",
       "2019-05-19    18.049999\n",
       "2019-05-20    17.930000\n",
       "2019-05-21    18.100000\n",
       "2019-05-22    18.049999\n",
       "2019-05-23    17.830000\n",
       "2019-05-24    17.920000\n",
       "2019-05-25    17.920000\n",
       "2019-05-26    17.920000\n",
       "2019-05-27    17.920000\n",
       "2019-05-28    17.799999\n",
       "2019-05-29    17.680000\n",
       "2019-05-30    17.719999\n",
       "2019-05-31    17.590000\n",
       "2019-06-01    17.590000\n",
       "Name: GAPSX, Length: 7092, dtype: float64"
      ]
     },
     "execution_count": 3,
     "metadata": {},
     "output_type": "execute_result"
    }
   ],
   "source": [
    "universe.get_security('GAPSX').price"
   ]
  },
  {
   "cell_type": "code",
   "execution_count": 4,
   "metadata": {},
   "outputs": [
    {
     "name": "stdout",
     "output_type": "stream",
     "text": [
      "We are in a good state, target weights with short selling returned\n"
     ]
    },
    {
     "data": {
      "text/plain": [
       "([(0.103, 0.065)],\n",
       " [{'MRD.TO': 0.07739194719224772,\n",
       "   'CIM.AX': -0.06368499394986335,\n",
       "   'GAPSX': 0.19402534951358721,\n",
       "   'LNC': -0.0549598576098025,\n",
       "   'KNEBV.HE': 0.06264121355892392,\n",
       "   'HBD.TO': 0.09742295556192719,\n",
       "   'HGU.TO': 0.054482565519328625,\n",
       "   'OIH': -0.07231142008944524,\n",
       "   'RIT.TO': 0.3599419245398914,\n",
       "   'EMB': 0.3450503157632052}])"
      ]
     },
     "execution_count": 4,
     "metadata": {},
     "output_type": "execute_result"
    },
    {
     "data": {
      "image/png": "[encoded data removed]",
      "text/plain": [
       "<Figure size 432x288 with 1 Axes>"
      ]
     },
     "metadata": {
      "needs_background": "light"
     },
     "output_type": "display_data"
    }
   ],
   "source": [
    "#Initialize admin\n",
    "test_admin=Admin()\n",
    "#\n",
    "test_admin.suggestPortfolio('3','2014-04-01')"
   ]
  },
  {
   "cell_type": "code",
   "execution_count": 5,
   "metadata": {},
   "outputs": [
    {
     "data": {
      "text/plain": [
       "195745.59451923805"
      ]
     },
     "execution_count": 5,
     "metadata": {},
     "output_type": "execute_result"
    }
   ],
   "source": [
    "test_admin.acceptPortfolio(0)\n",
    "test_admin.getAccountValue('2014-04-01')"
   ]
  },
  {
   "cell_type": "code",
   "execution_count": 6,
   "metadata": {},
   "outputs": [],
   "source": [
    "test_admin.trackPortfolio(rebalance_flag=True,rebalance_freq='3MS',rebal_start_date='2014-09-01')"
   ]
  },
  {
   "cell_type": "code",
   "execution_count": 7,
   "metadata": {},
   "outputs": [
    {
     "data": {
      "text/plain": [
       "{'2014-04-01': <Portfolio.Portfolio at 0x20028877ba8>,\n",
       " '2014-09-01': <Portfolio.Portfolio at 0x20026abeba8>,\n",
       " '2014-12-01': <Portfolio.Portfolio at 0x20028b79ba8>,\n",
       " '2015-03-01': <Portfolio.Portfolio at 0x20028877e10>,\n",
       " '2015-06-01': <Portfolio.Portfolio at 0x20028b963c8>,\n",
       " '2015-09-01': <Portfolio.Portfolio at 0x20028b79470>,\n",
       " '2015-12-01': <Portfolio.Portfolio at 0x20028b8e320>,\n",
       " '2016-03-01': <Portfolio.Portfolio at 0x20028b8eac8>,\n",
       " '2016-06-01': <Portfolio.Portfolio at 0x2002977a2e8>,\n",
       " '2016-09-01': <Portfolio.Portfolio at 0x2002977a908>,\n",
       " '2016-12-01': <Portfolio.Portfolio at 0x2002977a978>,\n",
       " '2017-03-01': <Portfolio.Portfolio at 0x20028b8efd0>,\n",
       " '2017-06-01': <Portfolio.Portfolio at 0x20028c337f0>,\n",
       " '2017-09-01': <Portfolio.Portfolio at 0x20028c33518>,\n",
       " '2017-12-01': <Portfolio.Portfolio at 0x20028c330b8>,\n",
       " '2018-03-01': <Portfolio.Portfolio at 0x2002977ae10>,\n",
       " '2018-06-01': <Portfolio.Portfolio at 0x20028c43f28>,\n",
       " '2018-09-01': <Portfolio.Portfolio at 0x20028c43dd8>,\n",
       " '2018-12-01': <Portfolio.Portfolio at 0x20028c33320>,\n",
       " '2019-03-01': <Portfolio.Portfolio at 0x20028c507f0>,\n",
       " '2019-06-01': <Portfolio.Portfolio at 0x20028c33ac8>}"
      ]
     },
     "execution_count": 7,
     "metadata": {},
     "output_type": "execute_result"
    }
   ],
   "source": [
    "test_admin.portfolio"
   ]
  },
  {
   "cell_type": "code",
   "execution_count": 8,
   "metadata": {},
   "outputs": [
    {
     "data": {
      "text/plain": [
       "195745.59451923805"
      ]
     },
     "execution_count": 8,
     "metadata": {},
     "output_type": "execute_result"
    }
   ],
   "source": [
    "start_date='2014-04-01'\n",
    "test_admin.getAccountValue(start_date)"
   ]
  },
  {
   "cell_type": "code",
   "execution_count": 9,
   "metadata": {},
   "outputs": [
    {
     "name": "stdout",
     "output_type": "stream",
     "text": [
      "We are in a good state, target weights with short selling returned\n"
     ]
    },
    {
     "data": {
      "text/plain": [
       "195745.59451923805"
      ]
     },
     "execution_count": 9,
     "metadata": {},
     "output_type": "execute_result"
    },
    {
     "data": {
      "image/png": "[encoded data removed]",
      "text/plain": [
       "<Figure size 432x288 with 1 Axes>"
      ]
     },
     "metadata": {
      "needs_background": "light"
     },
     "output_type": "display_data"
    }
   ],
   "source": [
    "test_admin_norebal=Admin()\n",
    "#\n",
    "test_admin_norebal.suggestPortfolio('3',start_date)\n",
    "test_admin_norebal.acceptPortfolio(0)\n",
    "test_admin_norebal.trackPortfolio(rebalance_flag=False)\n",
    "test_admin_norebal.getAccountValue(start_date)"
   ]
  },
  {
   "cell_type": "code",
   "execution_count": 10,
   "metadata": {},
   "outputs": [],
   "source": [
    "from datetime import datetime\n",
    "date_format='%Y-%m-%d'\n",
    "today_date=test_admin.today\n",
    "all_dates=[datetime.strftime(item,date_format) for item in pd.date_range(start_date,today_date,freq='M')]\n",
    "portf_values=[]\n",
    "portf_values_norebal=[]\n",
    "for item in all_dates:\n",
    "    portf_values.append(test_admin.getAccountValue(item))\n",
    "    portf_values_norebal.append(test_admin_norebal.getAccountValue(item))\n",
    "    "
   ]
  },
  {
   "cell_type": "code",
   "execution_count": 11,
   "metadata": {},
   "outputs": [],
   "source": [
    "# portf_values=[]\n",
    "# portf_values_norebal=[]\n",
    "# for item in all_dates:\n",
    "#     portf_values.append(test_admin.getAccountValue(item))\n",
    "#     portf_values_norebal.append(test_admin_norebal.getAccountValue(item))\n",
    "    "
   ]
  },
  {
   "cell_type": "code",
   "execution_count": 11,
   "metadata": {},
   "outputs": [
    {
     "data": {
      "text/plain": [
       "[<matplotlib.lines.Line2D at 0x200297fdc50>]"
      ]
     },
     "execution_count": 11,
     "metadata": {},
     "output_type": "execute_result"
    },
    {
     "data": {
      "image/png": "[encoded data removed]",
      "text/plain": [
       "<Figure size 720x720 with 1 Axes>"
      ]
     },
     "metadata": {
      "needs_background": "light"
     },
     "output_type": "display_data"
    }
   ],
   "source": [
    "from matplotlib import pyplot as plt\n",
    "plt.figure(figsize=(10,10))\n",
    "plt.plot(all_dates,portf_values)\n",
    "plt.plot(all_dates,portf_values_norebal,'--')"
   ]
  },
  {
   "cell_type": "code",
   "execution_count": 12,
   "metadata": {},
   "outputs": [],
   "source": [
    "import numpy as np\n",
    "portfolio1_values=pd.DataFrame([np.float(item) for item in portf_values],index=all_dates,columns=['Rebal'])\n",
    "portfolio1_values['NoRebal']=[np.float(item) for item in portf_values_norebal]"
   ]
  },
  {
   "cell_type": "code",
   "execution_count": 13,
   "metadata": {},
   "outputs": [],
   "source": [
    "portfolio1_values.to_csv('/Users/jkhai/RoboAdvisor/Reports/portfolio3_values.csv')"
   ]
  },
  {
   "cell_type": "code",
   "execution_count": 19,
   "metadata": {},
   "outputs": [
    {
     "name": "stdout",
     "output_type": "stream",
     "text": [
      "0.1256022337378606\n",
      "92\n",
      "0.281663258828291\n",
      "0.07383900278223532\n",
      "0.5423948720690186\n",
      "0.04690567869206162\n"
     ]
    }
   ],
   "source": [
    "start_date='2019-03-01'\n",
    "# start_date='2014-04-01'\n",
    "print(MeanReturn(test_admin.portfolio,start_date,today_date))\n",
    "print(SimpleReturn(test_admin.portfolio,start_date,today_date))\n",
    "print(TimeWeightedReturn(test_admin.portfolio,test_admin.cash_transacs,start_date,today_date))\n",
    "print(MoneyWeightedReturn(test_admin.portfolio,test_admin.cash_transacs,start_date,today_date))\n",
    "print(Volatility(test_admin.portfolio,start_date,today_date))"
   ]
  },
  {
   "cell_type": "code",
   "execution_count": 17,
   "metadata": {},
   "outputs": [],
   "source": [
    "from Admin import ReturnAttribCurrency"
   ]
  },
  {
   "cell_type": "code",
   "execution_count": 15,
   "metadata": {},
   "outputs": [
    {
     "data": {
      "text/plain": [
       "30806.048385868726"
      ]
     },
     "execution_count": 15,
     "metadata": {},
     "output_type": "execute_result"
    }
   ],
   "source": [
    "betas, VaRannual=PortfolioVaR(test_admin,start_date,today_date,True)\n",
    "VaRannual"
   ]
  },
  {
   "cell_type": "code",
   "execution_count": 18,
   "metadata": {},
   "outputs": [
    {
     "data": {
      "text/plain": [
       "(Currency\n",
       " AUD    0.000067\n",
       " CAD    0.000000\n",
       " EUR    0.000345\n",
       " USD    0.011280\n",
       " Name: Return Contribution, dtype: float64,\n",
       " 0.052256461236900975,\n",
       " 0.06467629450515384)"
      ]
     },
     "execution_count": 18,
     "metadata": {},
     "output_type": "execute_result"
    }
   ],
   "source": [
    "ReturnAttribCurrency(test_admin.PortfolioWeights,'2019-03-01','2019-06-01')"
   ]
  },
  {
   "cell_type": "code",
   "execution_count": 17,
   "metadata": {},
   "outputs": [],
   "source": [
    "# def MarginalVaRs(account,fit_start_date,fit_end_date):\n",
    "#     #Think about currency\n",
    "#     #fit model in local currency, aggregate to potfolio level in CAD\n",
    "#     #when to do conversion for risk metrics???\n",
    "    \n",
    "#     from HelperFunctions import fill_missing_data_business\n",
    "#     result_df = pd.DataFrame()\n",
    "#     factor_tickers = universe._riskFactors.keys()\n",
    "#     #print(factor_tickers)\n",
    "#     for k in factor_tickers:\n",
    "#         result_df[k] = fill_missing_data_business(universe._riskFactors[k].price, fit_start_date, fit_end_date,freq='B')\n",
    "#     factor_cov=result_df.cov()*252\n",
    "    \n",
    "#     for item in account.PortfolioWeights.keys():\n",
    "#         model1[item]=universe.fitFactorModel(item,fit_start_date,252*5).params\n",
    "#     betas=pd.DataFrame(index=list(model1.keys()),columns=factor_cov.index)\n",
    "#     for item in model1.keys():\n",
    "#         betas.loc[item,:]=model1[item].reindex(factor_cov.index,fill_value=0)\n",
    "        \n",
    "#     sec_cov=pd.DataFrame(np.dot(betas,np.dot(factor_cov,betas.transpose())),index=list(model1.keys()),columns=list(model1.keys()))\n",
    "#     weights=[np.float(item) for item in list(account.PortfolioWeights.values())]\n",
    "#     portf_vol=np.sqrt(np.dot(weights,np.dot(sec_cov,weights)))\n",
    "    \n",
    "    \n",
    "#     result_df['Portfolio']=np.array(np.dot(np.dot(result_df,betas.transpose()),weights)).astype(np.float64)\n",
    "#     result_df_cov=252*result_df.cov()\n",
    "#     betas_new=result_df_cov.loc[:,'Portfolio'].divide(portf_vol**2)    \n",
    "#     MVaRs=betas_new*sp.stats.norm.ppf(0.95)*portf_vol\n",
    "#     #now to dollar value\n",
    "# #     for item in account.PortfolioWeights.keys():\n",
    "        \n",
    "#     return MVaRs"
   ]
  },
  {
   "cell_type": "code",
   "execution_count": 18,
   "metadata": {},
   "outputs": [],
   "source": [
    "from Admin import MarginalVaRs\n",
    "Mar_vars=MarginalVaRs(test_admin,start_date,today_date)"
   ]
  },
  {
   "cell_type": "code",
   "execution_count": 19,
   "metadata": {},
   "outputs": [
    {
     "data": {
      "text/plain": [
       "Mkt-RF_log             0.208962\n",
       "SMB_log                0.000767\n",
       "HML_log               -0.042988\n",
       "RMW_log               -0.005584\n",
       "CMA_log               -0.028926\n",
       "Mkt-RF_log_global      0.119361\n",
       "SMB_log_global        -0.037384\n",
       "HML_log_global        -0.027309\n",
       "RMW_log_global         0.001781\n",
       "CMA_log_global        -0.019520\n",
       "CADUSD=X               0.033319\n",
       "AUDUSD=X               0.043578\n",
       "Mkt-RF_log_EUR         0.098621\n",
       "SMB_log_EUR           -0.032286\n",
       "HML_log_EUR           -0.006574\n",
       "RMW_log_EUR            0.006368\n",
       "CMA_log_EUR           -0.009363\n",
       "EURUSD=X              -0.008314\n",
       "Mkt-RF_log_JPY         0.012363\n",
       "SMB_log_JPY           -0.003562\n",
       "HML_log_JPY           -0.012652\n",
       "RMW_log_JPY            0.001895\n",
       "CMA_log_JPY           -0.008322\n",
       "JPYUSD=X              -0.039287\n",
       "SP500                  0.205729\n",
       "US Large Cap           0.206462\n",
       "US Small Cap           0.204871\n",
       "US Mid Cap             0.206279\n",
       "TSX                    0.117443\n",
       "Europe                 0.199749\n",
       "EM                     0.096774\n",
       "US Treasury            0.132723\n",
       "US Corp High Yield     0.026738\n",
       "US IG 5-10 yr          0.001844\n",
       "CGOV 10y               0.149467\n",
       "CGOV 5y                0.216403\n",
       "CGOV 2y                0.172573\n",
       "Gold                   0.022620\n",
       "Crude Oil              0.126776\n",
       "US Real Estate         0.141321\n",
       "CAN Real Estate        0.067358\n",
       "Toronto Real Estate    0.065627\n",
       "VIX                   -1.625636\n",
       "Portfolio              0.149449\n",
       "Name: Portfolio, dtype: float64"
      ]
     },
     "execution_count": 19,
     "metadata": {},
     "output_type": "execute_result"
    }
   ],
   "source": [
    "Mar_vars"
   ]
  },
  {
   "cell_type": "code",
   "execution_count": 20,
   "metadata": {},
   "outputs": [],
   "source": [
    "from HelperFunctions import fill_missing_data_business\n",
    "factor_tickers = universe._riskFactors.keys()\n",
    "    #print(factor_tickers)\n",
    "result_df = pd.DataFrame()\n",
    "for k in factor_tickers:\n",
    "    result_df[k] = fill_missing_data_business(universe._riskFactors[k].price, start_date, today_date,'BM')"
   ]
  },
  {
   "cell_type": "code",
   "execution_count": 21,
   "metadata": {},
   "outputs": [
    {
     "ename": "NameError",
     "evalue": "name 'np' is not defined",
     "output_type": "error",
     "traceback": [
      "\u001b[1;31m---------------------------------------------------------------------------\u001b[0m",
      "\u001b[1;31mNameError\u001b[0m                                 Traceback (most recent call last)",
      "\u001b[1;32m<ipython-input-21-671b39a61ec0>\u001b[0m in \u001b[0;36m<module>\u001b[1;34m()\u001b[0m\n\u001b[1;32m----> 1\u001b[1;33m \u001b[0mresult_df\u001b[0m\u001b[1;33m[\u001b[0m\u001b[1;34m'Portfolio'\u001b[0m\u001b[1;33m]\u001b[0m\u001b[1;33m=\u001b[0m\u001b[0mnp\u001b[0m\u001b[1;33m.\u001b[0m\u001b[0mdot\u001b[0m\u001b[1;33m(\u001b[0m\u001b[0mnp\u001b[0m\u001b[1;33m.\u001b[0m\u001b[0mdot\u001b[0m\u001b[1;33m(\u001b[0m\u001b[0mresult_df\u001b[0m\u001b[1;33m,\u001b[0m\u001b[0mbetas\u001b[0m\u001b[1;33m.\u001b[0m\u001b[0mtranspose\u001b[0m\u001b[1;33m(\u001b[0m\u001b[1;33m)\u001b[0m\u001b[1;33m)\u001b[0m\u001b[1;33m,\u001b[0m\u001b[0mweights\u001b[0m\u001b[1;33m)\u001b[0m\u001b[1;33m.\u001b[0m\u001b[0mastype\u001b[0m\u001b[1;33m(\u001b[0m\u001b[0mnumpy\u001b[0m\u001b[1;33m.\u001b[0m\u001b[0mfloat64\u001b[0m\u001b[1;33m)\u001b[0m\u001b[1;33m\u001b[0m\u001b[0m\n\u001b[0m",
      "\u001b[1;31mNameError\u001b[0m: name 'np' is not defined"
     ]
    }
   ],
   "source": [
    "result_df['Portfolio']=np.dot(np.dot(result_df,betas.transpose()),weights).astype(numpy.float64)"
   ]
  },
  {
   "cell_type": "code",
   "execution_count": null,
   "metadata": {},
   "outputs": [],
   "source": [
    "new_df=result_df.copy()\n"
   ]
  },
  {
   "cell_type": "code",
   "execution_count": null,
   "metadata": {},
   "outputs": [],
   "source": [
    "type(new_df['VIX'][0])"
   ]
  },
  {
   "cell_type": "code",
   "execution_count": null,
   "metadata": {},
   "outputs": [],
   "source": [
    "#decomposing security return\n",
    "def ReturnAttribCurrency(PortfolioWeights,d1,d2):\n",
    "    df_tmp=pd.DataFrame(index=list(PortfolioWeights.keys()),columns=['Weights','Currency','LocalReturn','CADReturn','FX_appr'])\n",
    "    for sec_name in PortfolioWeights.keys():\n",
    "        local_ret=universe.get_security(sec_name).price.loc[today_date]/universe.get_security(sec_name).price.loc['2019-03-01']-1\n",
    "        report_ret=universe.get_price_in_currency(sec_name,today_date,'CAD')/universe.get_price_in_currency(sec_name,'2019-03-01','CAD')-1\n",
    "        FX_app=(report_ret-local_ret)/(local_ret+1)\n",
    "\n",
    "        df_tmp.loc[sec_name,:]=[PortfolioWeights[sec_name],\n",
    "                                universe.get_security(sec_name).currency,\n",
    "                                local_ret,\n",
    "                                report_ret,\n",
    "                                FX_app]\n",
    "    df_tmp['LocalReturnWeighted']=df_tmp['LocalReturn'].multiply(df_tmp['Weights'])\n",
    "    df_tmp['CADReturnWeighted']=df_tmp['CADReturn'].multiply(df_tmp['Weights'])\n",
    "    df_tmp['CurContrWeighted']=df_tmp['FX_appr'].multiply(df_tmp['Weights'])\n",
    "\n",
    "    cur_contrib=df_tmp[['Currency','LocalReturnWeighted','CADReturnWeighted','CurContrWeighted']].groupby('Currency').sum()\n",
    "    local_cur_return=cur_contrib.sum()['LocalReturnWeighted']\n",
    "    report_cur_return=cur_contrib.sum()['CADReturnWeighted']\n",
    "    cur_contrib.rename(columns={'CurContrWeighted':'Return Contribution'},inplace=True)\n",
    "    return cur_contrib['Return Contribution'], local_cur_return, report_cur_return"
   ]
  },
  {
   "cell_type": "code",
   "execution_count": null,
   "metadata": {},
   "outputs": [],
   "source": [
    "ReturnAttribCurrency(test_admin.PortfolioWeights,'2019-03-01',today_date)"
   ]
  },
  {
   "cell_type": "code",
   "execution_count": null,
   "metadata": {},
   "outputs": [],
   "source": [
    "# df_tmp_weighted=\n",
    "df_tmp['LocalReturnWeighted']=df_tmp['LocalReturn'].multiply(df_tmp['Weights'])\n",
    "df_tmp['CADReturnWeighted']=df_tmp['CADReturn'].multiply(df_tmp['Weights'])\n",
    "df_tmp['CurContrWeighted']=df_tmp['CurContr'].multiply(df_tmp['Weights'])\n",
    "# .multiply(df_tmp['Weights'])"
   ]
  },
  {
   "cell_type": "code",
   "execution_count": null,
   "metadata": {},
   "outputs": [],
   "source": [
    "df_tmp[['Currency','LocalReturnWeighted','CADReturnWeighted','CurContrWeighted']].groupby('Currency').sum()"
   ]
  },
  {
   "cell_type": "code",
   "execution_count": null,
   "metadata": {},
   "outputs": [],
   "source": [
    "SimpleReturn(test_admin.portfolio,'2019-03-01',today_date,False)"
   ]
  },
  {
   "cell_type": "code",
   "execution_count": null,
   "metadata": {},
   "outputs": [],
   "source": [
    "local_return"
   ]
  },
  {
   "cell_type": "code",
   "execution_count": null,
   "metadata": {},
   "outputs": [],
   "source": [
    "np.dot(weights,local_return)"
   ]
  },
  {
   "cell_type": "code",
   "execution_count": 20,
   "metadata": {},
   "outputs": [
    {
     "ename": "ValueError",
     "evalue": "Unable to coerce to Series, length must be 10: given 5",
     "output_type": "error",
     "traceback": [
      "\u001b[1;31m---------------------------------------------------------------------------\u001b[0m",
      "\u001b[1;31mValueError\u001b[0m                                Traceback (most recent call last)",
      "\u001b[1;32m<ipython-input-20-c7921cf898a1>\u001b[0m in \u001b[0;36m<module>\u001b[1;34m()\u001b[0m\n\u001b[0;32m      1\u001b[0m \u001b[1;32mfrom\u001b[0m \u001b[0mScenario\u001b[0m \u001b[1;32mimport\u001b[0m \u001b[0mrun_scenario\u001b[0m\u001b[1;33m\u001b[0m\u001b[0m\n\u001b[1;32m----> 2\u001b[1;33m \u001b[0mpnl_sec_asian_crisis\u001b[0m\u001b[1;33m,\u001b[0m\u001b[0mpnl_portf_asian_crisis\u001b[0m\u001b[1;33m=\u001b[0m\u001b[0mrun_scenario\u001b[0m\u001b[1;33m(\u001b[0m\u001b[0mtest_admin\u001b[0m\u001b[1;33m,\u001b[0m\u001b[1;36m0\u001b[0m\u001b[1;33m)\u001b[0m\u001b[1;33m\u001b[0m\u001b[0m\n\u001b[0m\u001b[0;32m      3\u001b[0m \u001b[0mpnl_sec_financial_crisis\u001b[0m\u001b[1;33m,\u001b[0m\u001b[0mpnl_portf_financial_crisis\u001b[0m\u001b[1;33m=\u001b[0m\u001b[0mrun_scenario\u001b[0m\u001b[1;33m(\u001b[0m\u001b[0mtest_admin\u001b[0m\u001b[1;33m,\u001b[0m\u001b[1;36m1\u001b[0m\u001b[1;33m)\u001b[0m\u001b[1;33m\u001b[0m\u001b[0m\n",
      "\u001b[1;32m~\\RoboAdvisor\\Scenario.py\u001b[0m in \u001b[0;36mrun_scenario\u001b[1;34m(account, scenario_num, today_date)\u001b[0m\n\u001b[0;32m     60\u001b[0m     \u001b[0mamounts_today\u001b[0m\u001b[1;33m=\u001b[0m\u001b[1;33m[\u001b[0m\u001b[0mnp\u001b[0m\u001b[1;33m.\u001b[0m\u001b[0mfloat\u001b[0m\u001b[1;33m(\u001b[0m\u001b[0mlist\u001b[0m\u001b[1;33m(\u001b[0m\u001b[0maccount\u001b[0m\u001b[1;33m.\u001b[0m\u001b[0mportfolio\u001b[0m\u001b[1;33m[\u001b[0m\u001b[0mtoday_date\u001b[0m\u001b[1;33m]\u001b[0m\u001b[1;33m.\u001b[0m\u001b[0mportfolio\u001b[0m\u001b[1;33m.\u001b[0m\u001b[0mvalues\u001b[0m\u001b[1;33m(\u001b[0m\u001b[1;33m)\u001b[0m\u001b[1;33m)\u001b[0m\u001b[1;33m[\u001b[0m\u001b[0mi\u001b[0m\u001b[1;33m]\u001b[0m\u001b[1;33m)\u001b[0m \u001b[1;32mfor\u001b[0m \u001b[0mi\u001b[0m \u001b[1;32min\u001b[0m \u001b[0mrange\u001b[0m\u001b[1;33m(\u001b[0m\u001b[1;36m0\u001b[0m\u001b[1;33m,\u001b[0m\u001b[1;36m5\u001b[0m\u001b[1;33m)\u001b[0m\u001b[1;33m]\u001b[0m\u001b[1;33m\u001b[0m\u001b[0m\n\u001b[0;32m     61\u001b[0m     \u001b[0mcum_returns_in_crisis\u001b[0m\u001b[1;33m=\u001b[0m\u001b[0msec_returns_in_crisis\u001b[0m\u001b[1;33m.\u001b[0m\u001b[0madd\u001b[0m\u001b[1;33m(\u001b[0m\u001b[1;36m1\u001b[0m\u001b[1;33m)\u001b[0m\u001b[1;33m.\u001b[0m\u001b[0mcumprod\u001b[0m\u001b[1;33m(\u001b[0m\u001b[0maxis\u001b[0m\u001b[1;33m=\u001b[0m\u001b[1;36m1\u001b[0m\u001b[1;33m)\u001b[0m\u001b[1;33m.\u001b[0m\u001b[0msubtract\u001b[0m\u001b[1;33m(\u001b[0m\u001b[1;36m1\u001b[0m\u001b[1;33m)\u001b[0m\u001b[1;33m\u001b[0m\u001b[0m\n\u001b[1;32m---> 62\u001b[1;33m     \u001b[0mcum_pnl_in_crisis\u001b[0m\u001b[1;33m=\u001b[0m\u001b[0mcum_returns_in_crisis\u001b[0m\u001b[1;33m.\u001b[0m\u001b[0mmultiply\u001b[0m\u001b[1;33m(\u001b[0m\u001b[0mprices_today\u001b[0m\u001b[1;33m,\u001b[0m\u001b[0maxis\u001b[0m\u001b[1;33m=\u001b[0m\u001b[1;36m0\u001b[0m\u001b[1;33m)\u001b[0m\u001b[1;33m.\u001b[0m\u001b[0mmultiply\u001b[0m\u001b[1;33m(\u001b[0m\u001b[0mamounts_today\u001b[0m\u001b[1;33m,\u001b[0m\u001b[0maxis\u001b[0m\u001b[1;33m=\u001b[0m\u001b[1;36m0\u001b[0m\u001b[1;33m)\u001b[0m\u001b[1;33m\u001b[0m\u001b[0m\n\u001b[0m\u001b[0;32m     63\u001b[0m     \u001b[0mport_cum_pnl_if_crisis_repeats_now\u001b[0m\u001b[1;33m=\u001b[0m\u001b[0mcum_pnl_in_crisis\u001b[0m\u001b[1;33m.\u001b[0m\u001b[0msum\u001b[0m\u001b[1;33m(\u001b[0m\u001b[1;33m)\u001b[0m\u001b[1;33m.\u001b[0m\u001b[0madd\u001b[0m\u001b[1;33m(\u001b[0m\u001b[0mnp\u001b[0m\u001b[1;33m.\u001b[0m\u001b[0mfloat\u001b[0m\u001b[1;33m(\u001b[0m\u001b[0maccount\u001b[0m\u001b[1;33m.\u001b[0m\u001b[0mgetAccountValue\u001b[0m\u001b[1;33m(\u001b[0m\u001b[0mtoday_date\u001b[0m\u001b[1;33m)\u001b[0m\u001b[1;33m)\u001b[0m\u001b[1;33m)\u001b[0m\u001b[1;33m\u001b[0m\u001b[0m\n\u001b[0;32m     64\u001b[0m     \u001b[0mplt\u001b[0m\u001b[1;33m.\u001b[0m\u001b[0mfigure\u001b[0m\u001b[1;33m(\u001b[0m\u001b[1;33m)\u001b[0m\u001b[1;33m\u001b[0m\u001b[0m\n",
      "\u001b[1;32m~\\Anaconda3\\lib\\site-packages\\pandas\\core\\ops.py\u001b[0m in \u001b[0;36mf\u001b[1;34m(self, other, axis, level, fill_value)\u001b[0m\n\u001b[0;32m   1545\u001b[0m     \u001b[1;32mdef\u001b[0m \u001b[0mf\u001b[0m\u001b[1;33m(\u001b[0m\u001b[0mself\u001b[0m\u001b[1;33m,\u001b[0m \u001b[0mother\u001b[0m\u001b[1;33m,\u001b[0m \u001b[0maxis\u001b[0m\u001b[1;33m=\u001b[0m\u001b[0mdefault_axis\u001b[0m\u001b[1;33m,\u001b[0m \u001b[0mlevel\u001b[0m\u001b[1;33m=\u001b[0m\u001b[1;32mNone\u001b[0m\u001b[1;33m,\u001b[0m \u001b[0mfill_value\u001b[0m\u001b[1;33m=\u001b[0m\u001b[1;32mNone\u001b[0m\u001b[1;33m)\u001b[0m\u001b[1;33m:\u001b[0m\u001b[1;33m\u001b[0m\u001b[0m\n\u001b[0;32m   1546\u001b[0m \u001b[1;33m\u001b[0m\u001b[0m\n\u001b[1;32m-> 1547\u001b[1;33m         \u001b[0mother\u001b[0m \u001b[1;33m=\u001b[0m \u001b[0m_align_method_FRAME\u001b[0m\u001b[1;33m(\u001b[0m\u001b[0mself\u001b[0m\u001b[1;33m,\u001b[0m \u001b[0mother\u001b[0m\u001b[1;33m,\u001b[0m \u001b[0maxis\u001b[0m\u001b[1;33m)\u001b[0m\u001b[1;33m\u001b[0m\u001b[0m\n\u001b[0m\u001b[0;32m   1548\u001b[0m \u001b[1;33m\u001b[0m\u001b[0m\n\u001b[0;32m   1549\u001b[0m         \u001b[1;32mif\u001b[0m \u001b[0misinstance\u001b[0m\u001b[1;33m(\u001b[0m\u001b[0mother\u001b[0m\u001b[1;33m,\u001b[0m \u001b[0mABCDataFrame\u001b[0m\u001b[1;33m)\u001b[0m\u001b[1;33m:\u001b[0m  \u001b[1;31m# Another DataFrame\u001b[0m\u001b[1;33m\u001b[0m\u001b[0m\n",
      "\u001b[1;32m~\\Anaconda3\\lib\\site-packages\\pandas\\core\\ops.py\u001b[0m in \u001b[0;36m_align_method_FRAME\u001b[1;34m(left, right, axis)\u001b[0m\n\u001b[0;32m   1479\u001b[0m           not isinstance(right, (ABCSeries, ABCDataFrame))):\n\u001b[0;32m   1480\u001b[0m         \u001b[1;31m# GH17901\u001b[0m\u001b[1;33m\u001b[0m\u001b[1;33m\u001b[0m\u001b[0m\n\u001b[1;32m-> 1481\u001b[1;33m         \u001b[0mright\u001b[0m \u001b[1;33m=\u001b[0m \u001b[0mto_series\u001b[0m\u001b[1;33m(\u001b[0m\u001b[0mright\u001b[0m\u001b[1;33m)\u001b[0m\u001b[1;33m\u001b[0m\u001b[0m\n\u001b[0m\u001b[0;32m   1482\u001b[0m \u001b[1;33m\u001b[0m\u001b[0m\n\u001b[0;32m   1483\u001b[0m     \u001b[1;32mreturn\u001b[0m \u001b[0mright\u001b[0m\u001b[1;33m\u001b[0m\u001b[0m\n",
      "\u001b[1;32m~\\Anaconda3\\lib\\site-packages\\pandas\\core\\ops.py\u001b[0m in \u001b[0;36mto_series\u001b[1;34m(right)\u001b[0m\n\u001b[0;32m   1449\u001b[0m             \u001b[1;32mif\u001b[0m \u001b[0mlen\u001b[0m\u001b[1;33m(\u001b[0m\u001b[0mleft\u001b[0m\u001b[1;33m.\u001b[0m\u001b[0mindex\u001b[0m\u001b[1;33m)\u001b[0m \u001b[1;33m!=\u001b[0m \u001b[0mlen\u001b[0m\u001b[1;33m(\u001b[0m\u001b[0mright\u001b[0m\u001b[1;33m)\u001b[0m\u001b[1;33m:\u001b[0m\u001b[1;33m\u001b[0m\u001b[0m\n\u001b[0;32m   1450\u001b[0m                 raise ValueError(msg.format(req_len=len(left.index),\n\u001b[1;32m-> 1451\u001b[1;33m                                             given_len=len(right)))\n\u001b[0m\u001b[0;32m   1452\u001b[0m             \u001b[0mright\u001b[0m \u001b[1;33m=\u001b[0m \u001b[0mleft\u001b[0m\u001b[1;33m.\u001b[0m\u001b[0m_constructor_sliced\u001b[0m\u001b[1;33m(\u001b[0m\u001b[0mright\u001b[0m\u001b[1;33m,\u001b[0m \u001b[0mindex\u001b[0m\u001b[1;33m=\u001b[0m\u001b[0mleft\u001b[0m\u001b[1;33m.\u001b[0m\u001b[0mindex\u001b[0m\u001b[1;33m)\u001b[0m\u001b[1;33m\u001b[0m\u001b[0m\n\u001b[0;32m   1453\u001b[0m         \u001b[1;32melse\u001b[0m\u001b[1;33m:\u001b[0m\u001b[1;33m\u001b[0m\u001b[0m\n",
      "\u001b[1;31mValueError\u001b[0m: Unable to coerce to Series, length must be 10: given 5"
     ]
    }
   ],
   "source": [
    "from Scenario import run_scenario\n",
    "pnl_sec_asian_crisis,pnl_portf_asian_crisis=run_scenario(test_admin,0)\n",
    "pnl_sec_financial_crisis,pnl_portf_financial_crisis=run_scenario(test_admin,1)\n"
   ]
  },
  {
   "cell_type": "code",
   "execution_count": null,
   "metadata": {},
   "outputs": [],
   "source": [
    "pnl_sec_asian_crisis.to_csv('/Users/jkhai/RoboAdvisor/Reports/2pnl_sec_asian_crisis.csv')\n",
    "pnl_portf_asian_crisis.to_csv('/Users/jkhai/RoboAdvisor/Reports/2pnl_portf_asian_crisis.csv')\n",
    "pnl_sec_financial_crisis.to_csv('/Users/jkhai/RoboAdvisor/Reports/2pnl_sec_financial_crisis.csv')\n",
    "pnl_portf_financial_crisis.to_csv('/Users/jkhai/RoboAdvisor/Reports/2pnl_portf_financial_crisis.csv')"
   ]
  }
 ],
 "metadata": {
  "kernelspec": {
   "display_name": "Python 3",
   "language": "python",
   "name": "python3"
  },
  "language_info": {
   "codemirror_mode": {
    "name": "ipython",
    "version": 3
   },
   "file_extension": ".py",
   "mimetype": "text/x-python",
   "name": "python",
   "nbconvert_exporter": "python",
   "pygments_lexer": "ipython3",
   "version": "3.7.0"
  }
 },
 "nbformat": 4,
 "nbformat_minor": 2
}
