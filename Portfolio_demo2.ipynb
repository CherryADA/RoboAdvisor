{
 "cells": [
  {
   "cell_type": "code",
   "execution_count": 1,
   "metadata": {},
   "outputs": [],
   "source": [
    "from Portfolio import Portfolio, universe # universe is a global variable\n",
    "# and each portfolio can access to the universe\n"
   ]
  },
  {
   "cell_type": "code",
   "execution_count": 16,
   "metadata": {},
   "outputs": [],
   "source": [
    "import imp\n",
    "from Admin import Admin, MeanReturn, MoneyWeightedReturn,SimpleReturn,TimeWeightedReturn,Volatility, PortfolioVaR, SharpeRatio,calculate_drawdown \n",
    "import pandas as pd\n",
    "# imp.reload(Admin)"
   ]
  },
  {
   "cell_type": "code",
   "execution_count": 3,
   "metadata": {},
   "outputs": [
    {
     "data": {
      "text/plain": [
       "Unnamed: 0\n",
       "2000-01-01          NaN\n",
       "2000-01-02          NaN\n",
       "2000-01-03     8.299891\n",
       "2000-01-04     8.095037\n",
       "2000-01-05     8.009132\n",
       "2000-01-06     7.962875\n",
       "2000-01-07     8.134686\n",
       "2000-01-08     8.134686\n",
       "2000-01-09     8.134686\n",
       "2000-01-10     8.233809\n",
       "2000-01-11     8.174335\n",
       "2000-01-12     8.134686\n",
       "2000-01-13     8.227203\n",
       "2000-01-14     8.299891\n",
       "2000-01-15     8.299891\n",
       "2000-01-16     8.299891\n",
       "2000-01-17     8.299891\n",
       "2000-01-18     8.280067\n",
       "2000-01-19     8.253634\n",
       "2000-01-20     8.233809\n",
       "2000-01-21     8.200769\n",
       "2000-01-22     8.200769\n",
       "2000-01-23     8.200769\n",
       "2000-01-24     8.075214\n",
       "2000-01-25     8.035563\n",
       "2000-01-26     8.048779\n",
       "2000-01-27     8.068607\n",
       "2000-01-28     7.923225\n",
       "2000-01-29     7.923225\n",
       "2000-01-30     7.923225\n",
       "                ...    \n",
       "2019-05-03    18.740000\n",
       "2019-05-04    18.740000\n",
       "2019-05-05    18.740000\n",
       "2019-05-06    18.590000\n",
       "2019-05-07    18.270000\n",
       "2019-05-08    18.250000\n",
       "2019-05-09    18.150000\n",
       "2019-05-10    18.240000\n",
       "2019-05-11    18.240000\n",
       "2019-05-12    18.240000\n",
       "2019-05-13    17.760000\n",
       "2019-05-14    17.950001\n",
       "2019-05-15    18.049999\n",
       "2019-05-16    18.190001\n",
       "2019-05-17    18.049999\n",
       "2019-05-18    18.049999\n",
       "2019-05-19    18.049999\n",
       "2019-05-20    17.930000\n",
       "2019-05-21    18.100000\n",
       "2019-05-22    18.049999\n",
       "2019-05-23    17.830000\n",
       "2019-05-24    17.920000\n",
       "2019-05-25    17.920000\n",
       "2019-05-26    17.920000\n",
       "2019-05-27    17.920000\n",
       "2019-05-28    17.799999\n",
       "2019-05-29    17.680000\n",
       "2019-05-30    17.719999\n",
       "2019-05-31    17.590000\n",
       "2019-06-01    17.590000\n",
       "Name: GAPSX, Length: 7092, dtype: float64"
      ]
     },
     "execution_count": 3,
     "metadata": {},
     "output_type": "execute_result"
    }
   ],
   "source": [
    "universe.get_security('GAPSX').price"
   ]
  },
  {
   "cell_type": "code",
   "execution_count": 4,
   "metadata": {},
   "outputs": [
    {
     "name": "stdout",
     "output_type": "stream",
     "text": [
      "We are in a good state, target weights with short selling returned\n"
     ]
    },
    {
     "data": {
      "text/plain": [
       "([(0.106, 0.073)],\n",
       " [{'HBD.TO': 0.07061558214718633,\n",
       "   'HGU.TO': 0.03581541189363977,\n",
       "   'OIH': -0.042753462301277835,\n",
       "   'RIT.TO': 0.5126017825347353,\n",
       "   'EMB': 0.4237206857257164}])"
      ]
     },
     "execution_count": 4,
     "metadata": {},
     "output_type": "execute_result"
    },
    {
     "data": {
      "image/png": "[encoded data removed]",
      "text/plain": [
       "<Figure size 432x288 with 1 Axes>"
      ]
     },
     "metadata": {
      "needs_background": "light"
     },
     "output_type": "display_data"
    }
   ],
   "source": [
    "#Initialize admin\n",
    "test_admin=Admin()\n",
    "#\n",
    "test_admin.suggestPortfolio('2','2014-04-01')"
   ]
  },
  {
   "cell_type": "code",
   "execution_count": 5,
   "metadata": {},
   "outputs": [
    {
     "data": {
      "text/plain": [
       "199980.0019998"
      ]
     },
     "execution_count": 5,
     "metadata": {},
     "output_type": "execute_result"
    }
   ],
   "source": [
    "test_admin.acceptPortfolio(0)\n",
    "test_admin.getAccountValue('2014-04-01')"
   ]
  },
  {
   "cell_type": "code",
   "execution_count": 6,
   "metadata": {},
   "outputs": [],
   "source": [
    "test_admin.trackPortfolio(rebalance_flag=True,rebalance_freq='3MS',rebal_start_date='2014-09-01')"
   ]
  },
  {
   "cell_type": "code",
   "execution_count": 7,
   "metadata": {},
   "outputs": [
    {
     "data": {
      "text/plain": [
       "{'2014-04-01': <Portfolio.Portfolio at 0x1c1a8d95c0>,\n",
       " '2014-09-01': <Portfolio.Portfolio at 0x1c1b425e48>,\n",
       " '2014-12-01': <Portfolio.Portfolio at 0x1c1a70ddd8>,\n",
       " '2015-03-01': <Portfolio.Portfolio at 0x1c1a858908>,\n",
       " '2015-06-01': <Portfolio.Portfolio at 0x1c1b415358>,\n",
       " '2015-09-01': <Portfolio.Portfolio at 0x1c1a858198>,\n",
       " '2015-12-01': <Portfolio.Portfolio at 0x1c1a858da0>,\n",
       " '2016-03-01': <Portfolio.Portfolio at 0x1c1a8586d8>,\n",
       " '2016-06-01': <Portfolio.Portfolio at 0x1c1b1e1c88>,\n",
       " '2016-09-01': <Portfolio.Portfolio at 0x1c1a858940>,\n",
       " '2016-12-01': <Portfolio.Portfolio at 0x1c1a858438>,\n",
       " '2017-03-01': <Portfolio.Portfolio at 0x1c1b1e1208>,\n",
       " '2017-06-01': <Portfolio.Portfolio at 0x1c1b1e15f8>,\n",
       " '2017-09-01': <Portfolio.Portfolio at 0x1c1a8780f0>,\n",
       " '2017-12-01': <Portfolio.Portfolio at 0x1c1a878208>,\n",
       " '2018-03-01': <Portfolio.Portfolio at 0x1c1b1e1198>,\n",
       " '2018-06-01': <Portfolio.Portfolio at 0x1c1a8786d8>,\n",
       " '2018-09-01': <Portfolio.Portfolio at 0x1c1a878780>,\n",
       " '2018-12-01': <Portfolio.Portfolio at 0x1c1a878400>,\n",
       " '2019-03-01': <Portfolio.Portfolio at 0x1c1a878978>,\n",
       " '2019-06-01': <Portfolio.Portfolio at 0x1c1a878be0>}"
      ]
     },
     "execution_count": 7,
     "metadata": {},
     "output_type": "execute_result"
    }
   ],
   "source": [
    "test_admin.portfolio"
   ]
  },
  {
   "cell_type": "code",
   "execution_count": 8,
   "metadata": {},
   "outputs": [
    {
     "data": {
      "text/plain": [
       "199980.0019998"
      ]
     },
     "execution_count": 8,
     "metadata": {},
     "output_type": "execute_result"
    }
   ],
   "source": [
    "start_date='2014-04-01'\n",
    "test_admin.getAccountValue(start_date)"
   ]
  },
  {
   "cell_type": "code",
   "execution_count": 9,
   "metadata": {},
   "outputs": [
    {
     "name": "stdout",
     "output_type": "stream",
     "text": [
      "We are in a good state, target weights with short selling returned\n"
     ]
    },
    {
     "data": {
      "text/plain": [
       "199980.0019998"
      ]
     },
     "execution_count": 9,
     "metadata": {},
     "output_type": "execute_result"
    },
    {
     "data": {
      "image/png": "[encoded data removed]",
      "text/plain": [
       "<Figure size 432x288 with 1 Axes>"
      ]
     },
     "metadata": {
      "needs_background": "light"
     },
     "output_type": "display_data"
    }
   ],
   "source": [
    "test_admin_norebal=Admin()\n",
    "#\n",
    "test_admin_norebal.suggestPortfolio('2',start_date)\n",
    "test_admin_norebal.acceptPortfolio(0)\n",
    "test_admin_norebal.trackPortfolio(rebalance_flag=False)\n",
    "test_admin_norebal.getAccountValue(start_date)"
   ]
  },
  {
   "cell_type": "code",
   "execution_count": 10,
   "metadata": {},
   "outputs": [],
   "source": [
    "from datetime import datetime\n",
    "date_format='%Y-%m-%d'\n",
    "today_date=test_admin.today\n",
    "all_dates=[datetime.strftime(item,date_format) for item in pd.date_range(start_date,today_date,freq='M')]\n",
    "portf_values=[]\n",
    "portf_values_norebal=[]\n",
    "for item in all_dates:\n",
    "    portf_values.append(test_admin.getAccountValue(item))\n",
    "    portf_values_norebal.append(test_admin_norebal.getAccountValue(item))\n",
    "    "
   ]
  },
  {
   "cell_type": "code",
   "execution_count": 11,
   "metadata": {},
   "outputs": [],
   "source": [
    "# portf_values=[]\n",
    "# portf_values_norebal=[]\n",
    "# for item in all_dates:\n",
    "#     portf_values.append(test_admin.getAccountValue(item))\n",
    "#     portf_values_norebal.append(test_admin_norebal.getAccountValue(item))\n",
    "    "
   ]
  },
  {
   "cell_type": "code",
   "execution_count": 12,
   "metadata": {},
   "outputs": [
    {
     "data": {
      "text/plain": [
       "[<matplotlib.lines.Line2D at 0x1c1ad76978>]"
      ]
     },
     "execution_count": 12,
     "metadata": {},
     "output_type": "execute_result"
    },
    {
     "data": {
      "image/png": "[encoded data removed]",
      "text/plain": [
       "<Figure size 720x720 with 1 Axes>"
      ]
     },
     "metadata": {
      "needs_background": "light"
     },
     "output_type": "display_data"
    }
   ],
   "source": [
    "from matplotlib import pyplot as plt\n",
    "plt.figure(figsize=(10,10))\n",
    "plt.plot(all_dates,portf_values)\n",
    "plt.plot(all_dates,portf_values_norebal,'--')"
   ]
  },
  {
   "cell_type": "code",
   "execution_count": 13,
   "metadata": {},
   "outputs": [],
   "source": [
    "import numpy as np\n",
    "portfolio1_values=pd.DataFrame([np.float(item) for item in portf_values],index=all_dates,columns=['Rebal'])\n",
    "portfolio1_values['NoRebal']=[np.float(item) for item in portf_values_norebal]"
   ]
  },
  {
   "cell_type": "code",
   "execution_count": 14,
   "metadata": {},
   "outputs": [
    {
     "ename": "FileNotFoundError",
     "evalue": "[Errno 2] No such file or directory: '/Users/jkhai/RoboAdvisor/Reports/portfolio2_values.csv'",
     "output_type": "error",
     "traceback": [
      "\u001b[0;31m---------------------------------------------------------------------------\u001b[0m",
      "\u001b[0;31mFileNotFoundError\u001b[0m                         Traceback (most recent call last)",
      "\u001b[0;32m<ipython-input-14-b41ff60768df>\u001b[0m in \u001b[0;36m<module>\u001b[0;34m()\u001b[0m\n\u001b[0;32m----> 1\u001b[0;31m \u001b[0mportfolio1_values\u001b[0m\u001b[0;34m.\u001b[0m\u001b[0mto_csv\u001b[0m\u001b[0;34m(\u001b[0m\u001b[0;34m'/Users/jkhai/RoboAdvisor/Reports/portfolio2_values.csv'\u001b[0m\u001b[0;34m)\u001b[0m\u001b[0;34m\u001b[0m\u001b[0m\n\u001b[0m",
      "\u001b[0;32m/anaconda3/lib/python3.7/site-packages/pandas/core/frame.py\u001b[0m in \u001b[0;36mto_csv\u001b[0;34m(self, path_or_buf, sep, na_rep, float_format, columns, header, index, index_label, mode, encoding, compression, quoting, quotechar, line_terminator, chunksize, tupleize_cols, date_format, doublequote, escapechar, decimal)\u001b[0m\n\u001b[1;32m   1743\u001b[0m                                  \u001b[0mdoublequote\u001b[0m\u001b[0;34m=\u001b[0m\u001b[0mdoublequote\u001b[0m\u001b[0;34m,\u001b[0m\u001b[0;34m\u001b[0m\u001b[0m\n\u001b[1;32m   1744\u001b[0m                                  escapechar=escapechar, decimal=decimal)\n\u001b[0;32m-> 1745\u001b[0;31m         \u001b[0mformatter\u001b[0m\u001b[0;34m.\u001b[0m\u001b[0msave\u001b[0m\u001b[0;34m(\u001b[0m\u001b[0;34m)\u001b[0m\u001b[0;34m\u001b[0m\u001b[0m\n\u001b[0m\u001b[1;32m   1746\u001b[0m \u001b[0;34m\u001b[0m\u001b[0m\n\u001b[1;32m   1747\u001b[0m         \u001b[0;32mif\u001b[0m \u001b[0mpath_or_buf\u001b[0m \u001b[0;32mis\u001b[0m \u001b[0;32mNone\u001b[0m\u001b[0;34m:\u001b[0m\u001b[0;34m\u001b[0m\u001b[0m\n",
      "\u001b[0;32m/anaconda3/lib/python3.7/site-packages/pandas/io/formats/csvs.py\u001b[0m in \u001b[0;36msave\u001b[0;34m(self)\u001b[0m\n\u001b[1;32m    154\u001b[0m             f, handles = _get_handle(self.path_or_buf, self.mode,\n\u001b[1;32m    155\u001b[0m                                      \u001b[0mencoding\u001b[0m\u001b[0;34m=\u001b[0m\u001b[0mencoding\u001b[0m\u001b[0;34m,\u001b[0m\u001b[0;34m\u001b[0m\u001b[0m\n\u001b[0;32m--> 156\u001b[0;31m                                      compression=self.compression)\n\u001b[0m\u001b[1;32m    157\u001b[0m             \u001b[0mclose\u001b[0m \u001b[0;34m=\u001b[0m \u001b[0;32mTrue\u001b[0m\u001b[0;34m\u001b[0m\u001b[0m\n\u001b[1;32m    158\u001b[0m \u001b[0;34m\u001b[0m\u001b[0m\n",
      "\u001b[0;32m/anaconda3/lib/python3.7/site-packages/pandas/io/common.py\u001b[0m in \u001b[0;36m_get_handle\u001b[0;34m(path_or_buf, mode, encoding, compression, memory_map, is_text)\u001b[0m\n\u001b[1;32m    398\u001b[0m         \u001b[0;32melif\u001b[0m \u001b[0mencoding\u001b[0m\u001b[0;34m:\u001b[0m\u001b[0;34m\u001b[0m\u001b[0m\n\u001b[1;32m    399\u001b[0m             \u001b[0;31m# Python 3 and encoding\u001b[0m\u001b[0;34m\u001b[0m\u001b[0;34m\u001b[0m\u001b[0m\n\u001b[0;32m--> 400\u001b[0;31m             \u001b[0mf\u001b[0m \u001b[0;34m=\u001b[0m \u001b[0mopen\u001b[0m\u001b[0;34m(\u001b[0m\u001b[0mpath_or_buf\u001b[0m\u001b[0;34m,\u001b[0m \u001b[0mmode\u001b[0m\u001b[0;34m,\u001b[0m \u001b[0mencoding\u001b[0m\u001b[0;34m=\u001b[0m\u001b[0mencoding\u001b[0m\u001b[0;34m)\u001b[0m\u001b[0;34m\u001b[0m\u001b[0m\n\u001b[0m\u001b[1;32m    401\u001b[0m         \u001b[0;32melif\u001b[0m \u001b[0mis_text\u001b[0m\u001b[0;34m:\u001b[0m\u001b[0;34m\u001b[0m\u001b[0m\n\u001b[1;32m    402\u001b[0m             \u001b[0;31m# Python 3 and no explicit encoding\u001b[0m\u001b[0;34m\u001b[0m\u001b[0;34m\u001b[0m\u001b[0m\n",
      "\u001b[0;31mFileNotFoundError\u001b[0m: [Errno 2] No such file or directory: '/Users/jkhai/RoboAdvisor/Reports/portfolio2_values.csv'"
     ]
    }
   ],
   "source": [
    "portfolio1_values.to_csv('/Users/jkhai/RoboAdvisor/Reports/portfolio2_values.csv')"
   ]
  },
  {
   "cell_type": "code",
   "execution_count": null,
   "metadata": {},
   "outputs": [],
   "source": [
    "start_date='2019-03-01'\n",
    "# start_date='2014-04-01'\n",
    "\n",
    "print(MeanReturn(test_admin.portfolio,start_date,today_date))\n",
    "print(SimpleReturn(test_admin.portfolio,start_date,today_date))\n",
    "print(TimeWeightedReturn(test_admin.portfolio,test_admin.cash_transacs,start_date,today_date))\n",
    "print(MoneyWeightedReturn(test_admin.portfolio,test_admin.cash_transacs,start_date,today_date))\n",
    "print(Volatility(test_admin.portfolio,start_date,today_date))"
   ]
  },
  {
   "cell_type": "code",
   "execution_count": null,
   "metadata": {},
   "outputs": [],
   "source": [
    "from Admin import ReturnAttribCurrency"
   ]
  },
  {
   "cell_type": "code",
   "execution_count": null,
   "metadata": {},
   "outputs": [],
   "source": [
    "betas, VaRannual=PortfolioVaR(test_admin,start_date,today_date,True)\n",
    "VaRannual"
   ]
  },
  {
   "cell_type": "code",
   "execution_count": null,
   "metadata": {},
   "outputs": [],
   "source": [
    "ReturnAttribCurrency(test_admin.PortfolioWeights,'2019-03-01','2019-06-01')"
   ]
  },
  {
   "cell_type": "code",
   "execution_count": null,
   "metadata": {},
   "outputs": [],
   "source": [
    "# def MarginalVaRs(account,fit_start_date,fit_end_date):\n",
    "#     #Think about currency\n",
    "#     #fit model in local currency, aggregate to potfolio level in CAD\n",
    "#     #when to do conversion for risk metrics???\n",
    "    \n",
    "#     from HelperFunctions import fill_missing_data_business\n",
    "#     result_df = pd.DataFrame()\n",
    "#     factor_tickers = universe._riskFactors.keys()\n",
    "#     #print(factor_tickers)\n",
    "#     for k in factor_tickers:\n",
    "#         result_df[k] = fill_missing_data_business(universe._riskFactors[k].price, fit_start_date, fit_end_date,freq='B')\n",
    "#     factor_cov=result_df.cov()*252\n",
    "    \n",
    "#     for item in account.PortfolioWeights.keys():\n",
    "#         model1[item]=universe.fitFactorModel(item,fit_start_date,252*5).params\n",
    "#     betas=pd.DataFrame(index=list(model1.keys()),columns=factor_cov.index)\n",
    "#     for item in model1.keys():\n",
    "#         betas.loc[item,:]=model1[item].reindex(factor_cov.index,fill_value=0)\n",
    "        \n",
    "#     sec_cov=pd.DataFrame(np.dot(betas,np.dot(factor_cov,betas.transpose())),index=list(model1.keys()),columns=list(model1.keys()))\n",
    "#     weights=[np.float(item) for item in list(account.PortfolioWeights.values())]\n",
    "#     portf_vol=np.sqrt(np.dot(weights,np.dot(sec_cov,weights)))\n",
    "    \n",
    "    \n",
    "#     result_df['Portfolio']=np.array(np.dot(np.dot(result_df,betas.transpose()),weights)).astype(np.float64)\n",
    "#     result_df_cov=252*result_df.cov()\n",
    "#     betas_new=result_df_cov.loc[:,'Portfolio'].divide(portf_vol**2)    \n",
    "#     MVaRs=betas_new*sp.stats.norm.ppf(0.95)*portf_vol\n",
    "#     #now to dollar value\n",
    "# #     for item in account.PortfolioWeights.keys():\n",
    "        \n",
    "#     return MVaRs"
   ]
  },
  {
   "cell_type": "code",
   "execution_count": null,
   "metadata": {},
   "outputs": [],
   "source": [
    "from Admin import MarginalVaRs\n",
    "Mar_vars=MarginalVaRs(test_admin,start_date,today_date)"
   ]
  },
  {
   "cell_type": "code",
   "execution_count": null,
   "metadata": {},
   "outputs": [],
   "source": [
    "Mar_vars"
   ]
  },
  {
   "cell_type": "code",
   "execution_count": 17,
   "metadata": {},
   "outputs": [
    {
     "data": {
      "text/html": [
       "<div>\n",
       "<style scoped>\n",
       "    .dataframe tbody tr th:only-of-type {\n",
       "        vertical-align: middle;\n",
       "    }\n",
       "\n",
       "    .dataframe tbody tr th {\n",
       "        vertical-align: top;\n",
       "    }\n",
       "\n",
       "    .dataframe thead th {\n",
       "        text-align: right;\n",
       "    }\n",
       "</style>\n",
       "<table border=\"1\" class=\"dataframe\">\n",
       "  <thead>\n",
       "    <tr style=\"text-align: right;\">\n",
       "      <th></th>\n",
       "      <th>2019-03-01</th>\n",
       "      <th>2018-06-01</th>\n",
       "      <th>2014-04-01</th>\n",
       "    </tr>\n",
       "  </thead>\n",
       "  <tbody>\n",
       "    <tr>\n",
       "      <th>Mean Return</th>\n",
       "      <td>0.053257</td>\n",
       "      <td>0.209852</td>\n",
       "      <td>0.204584</td>\n",
       "    </tr>\n",
       "    <tr>\n",
       "      <th>Simple Return</th>\n",
       "      <td>0.181973</td>\n",
       "      <td>0.236723</td>\n",
       "      <td>0.232215</td>\n",
       "    </tr>\n",
       "    <tr>\n",
       "      <th>Time W. Return</th>\n",
       "      <td>0.029435</td>\n",
       "      <td>0.148912</td>\n",
       "      <td>0.112717</td>\n",
       "    </tr>\n",
       "    <tr>\n",
       "      <th>Money W. Return</th>\n",
       "      <td>0.363897</td>\n",
       "      <td>0.334043</td>\n",
       "      <td>0.389887</td>\n",
       "    </tr>\n",
       "    <tr>\n",
       "      <th>Vol</th>\n",
       "      <td>0.050529</td>\n",
       "      <td>0.075492</td>\n",
       "      <td>0.095124</td>\n",
       "    </tr>\n",
       "    <tr>\n",
       "      <th>Sharpe Ratio</th>\n",
       "      <td>3.142514</td>\n",
       "      <td>2.858635</td>\n",
       "      <td>2.366329</td>\n",
       "    </tr>\n",
       "    <tr>\n",
       "      <th>Max Drawdown</th>\n",
       "      <td>0.000000</td>\n",
       "      <td>-0.010046</td>\n",
       "      <td>-0.044446</td>\n",
       "    </tr>\n",
       "  </tbody>\n",
       "</table>\n",
       "</div>"
      ],
      "text/plain": [
       "                 2019-03-01  2018-06-01  2014-04-01\n",
       "Mean Return        0.053257    0.209852    0.204584\n",
       "Simple Return      0.181973    0.236723    0.232215\n",
       "Time W. Return     0.029435    0.148912    0.112717\n",
       "Money W. Return    0.363897    0.334043    0.389887\n",
       "Vol                0.050529    0.075492    0.095124\n",
       "Sharpe Ratio       3.142514    2.858635    2.366329\n",
       "Max Drawdown       0.000000   -0.010046   -0.044446"
      ]
     },
     "execution_count": 17,
     "metadata": {},
     "output_type": "execute_result"
    }
   ],
   "source": [
    "## Risk Metrics\n",
    "start_dates=['2019-03-01', '2018-06-01', \"2014-04-01\"] \n",
    "risk_metrics_table = pd.DataFrame()\n",
    "for start_date in start_dates:\n",
    "    risks = []\n",
    "    risks.append(MeanReturn(test_admin.portfolio,start_date,today_date))\n",
    "    risks.append(SimpleReturn(test_admin.portfolio,start_date,today_date))\n",
    "    risks.append(TimeWeightedReturn(test_admin.portfolio,test_admin.cash_transacs,start_date,today_date))\n",
    "    #print(TimeWeightedReturn(benchmark.portfolio,benchmark.cash_transacs,start_date,today_date))\n",
    "    risks.append(MoneyWeightedReturn(test_admin.portfolio,test_admin.cash_transacs,start_date,today_date))\n",
    "    risks.append(Volatility(test_admin.portfolio,start_date,today_date))\n",
    "    risks.append(SharpeRatio(test_admin.portfolio,start_date,today_date, universe.get_security(\"rf_rate_cad\")))\n",
    "    risks.append(calculate_drawdown(test_admin, start_date, today_date)[1])\n",
    "    risk_metrics_table[start_date] = pd.Series(risks, index=[\"Mean Return\", \"Simple Return\", \"Time W. Return\",\n",
    "                                                             \"Money W. Return\",\"Vol\", \"Sharpe Ratio\", \"Max Drawdown\"])\n",
    "risk_metrics_table"
   ]
  },
  {
   "cell_type": "code",
   "execution_count": null,
   "metadata": {},
   "outputs": [],
   "source": [
    "from HelperFunctions import fill_missing_data_business\n",
    "factor_tickers = universe._riskFactors.keys()\n",
    "    #print(factor_tickers)\n",
    "result_df = pd.DataFrame()\n",
    "for k in factor_tickers:\n",
    "    result_df[k] = fill_missing_data_business(universe._riskFactors[k].price, start_date, today_date,'BM')"
   ]
  },
  {
   "cell_type": "code",
   "execution_count": null,
   "metadata": {},
   "outputs": [],
   "source": [
    "result_df['Portfolio']=np.dot(np.dot(result_df,betas.transpose()),weights).astype(numpy.float64)"
   ]
  },
  {
   "cell_type": "code",
   "execution_count": null,
   "metadata": {},
   "outputs": [],
   "source": [
    "new_df=result_df.copy()\n"
   ]
  },
  {
   "cell_type": "code",
   "execution_count": null,
   "metadata": {},
   "outputs": [],
   "source": [
    "type(new_df['VIX'][0])"
   ]
  },
  {
   "cell_type": "code",
   "execution_count": null,
   "metadata": {},
   "outputs": [],
   "source": [
    "#decomposing security return\n",
    "def ReturnAttribCurrency(PortfolioWeights,d1,d2):\n",
    "    df_tmp=pd.DataFrame(index=list(PortfolioWeights.keys()),columns=['Weights','Currency','LocalReturn','CADReturn','FX_appr'])\n",
    "    for sec_name in PortfolioWeights.keys():\n",
    "        local_ret=universe.get_security(sec_name).price.loc[today_date]/universe.get_security(sec_name).price.loc['2019-03-01']-1\n",
    "        report_ret=universe.get_price_in_currency(sec_name,today_date,'CAD')/universe.get_price_in_currency(sec_name,'2019-03-01','CAD')-1\n",
    "        FX_app=(report_ret-local_ret)/(local_ret+1)\n",
    "\n",
    "        df_tmp.loc[sec_name,:]=[PortfolioWeights[sec_name],\n",
    "                                universe.get_security(sec_name).currency,\n",
    "                                local_ret,\n",
    "                                report_ret,\n",
    "                                FX_app]\n",
    "    df_tmp['LocalReturnWeighted']=df_tmp['LocalReturn'].multiply(df_tmp['Weights'])\n",
    "    df_tmp['CADReturnWeighted']=df_tmp['CADReturn'].multiply(df_tmp['Weights'])\n",
    "    df_tmp['CurContrWeighted']=df_tmp['FX_appr'].multiply(df_tmp['Weights'])\n",
    "\n",
    "    cur_contrib=df_tmp[['Currency','LocalReturnWeighted','CADReturnWeighted','CurContrWeighted']].groupby('Currency').sum()\n",
    "    local_cur_return=cur_contrib.sum()['LocalReturnWeighted']\n",
    "    report_cur_return=cur_contrib.sum()['CADReturnWeighted']\n",
    "    cur_contrib.rename(columns={'CurContrWeighted':'Return Contribution'},inplace=True)\n",
    "    return cur_contrib['Return Contribution'], local_cur_return, report_cur_return"
   ]
  },
  {
   "cell_type": "code",
   "execution_count": null,
   "metadata": {},
   "outputs": [],
   "source": [
    "ReturnAttribCurrency(test_admin.PortfolioWeights,'2019-03-01',today_date)"
   ]
  },
  {
   "cell_type": "code",
   "execution_count": null,
   "metadata": {},
   "outputs": [],
   "source": [
    "# df_tmp_weighted=\n",
    "df_tmp['LocalReturnWeighted']=df_tmp['LocalReturn'].multiply(df_tmp['Weights'])\n",
    "df_tmp['CADReturnWeighted']=df_tmp['CADReturn'].multiply(df_tmp['Weights'])\n",
    "df_tmp['CurContrWeighted']=df_tmp['CurContr'].multiply(df_tmp['Weights'])\n",
    "# .multiply(df_tmp['Weights'])"
   ]
  },
  {
   "cell_type": "code",
   "execution_count": null,
   "metadata": {},
   "outputs": [],
   "source": [
    "df_tmp[['Currency','LocalReturnWeighted','CADReturnWeighted','CurContrWeighted']].groupby('Currency').sum()"
   ]
  },
  {
   "cell_type": "code",
   "execution_count": null,
   "metadata": {},
   "outputs": [],
   "source": [
    "SimpleReturn(test_admin.portfolio,'2019-03-01',today_date,False)"
   ]
  },
  {
   "cell_type": "code",
   "execution_count": null,
   "metadata": {},
   "outputs": [],
   "source": [
    "local_return"
   ]
  },
  {
   "cell_type": "code",
   "execution_count": null,
   "metadata": {},
   "outputs": [],
   "source": [
    "np.dot(weights,local_return)"
   ]
  },
  {
   "cell_type": "code",
   "execution_count": null,
   "metadata": {},
   "outputs": [],
   "source": [
    "from Scenario import run_scenario"
   ]
  },
  {
   "cell_type": "code",
   "execution_count": null,
   "metadata": {},
   "outputs": [],
   "source": [
    "from Scenario import run_scenario\n",
    "pnl_sec_asian_crisis,pnl_portf_asian_crisis=run_scenario(test_admin,0)\n",
    "pnl_sec_financial_crisis,pnl_portf_financial_crisis=run_scenario(test_admin,1)\n"
   ]
  },
  {
   "cell_type": "code",
   "execution_count": null,
   "metadata": {},
   "outputs": [],
   "source": [
    "pnl_sec_asian_crisis.to_csv('/Users/jkhai/RoboAdvisor/Reports/2pnl_sec_asian_crisis.csv')\n",
    "pnl_portf_asian_crisis.to_csv('/Users/jkhai/RoboAdvisor/Reports/2pnl_portf_asian_crisis.csv')\n",
    "pnl_sec_financial_crisis.to_csv('/Users/jkhai/RoboAdvisor/Reports/2pnl_sec_financial_crisis.csv')\n",
    "pnl_portf_financial_crisis.to_csv('/Users/jkhai/RoboAdvisor/Reports/2pnl_portf_financial_crisis.csv')"
   ]
  },
  {
   "cell_type": "code",
   "execution_count": null,
   "metadata": {},
   "outputs": [],
   "source": []
  }
 ],
 "metadata": {
  "kernelspec": {
   "display_name": "Python 3",
   "language": "python",
   "name": "python3"
  },
  "language_info": {
   "codemirror_mode": {
    "name": "ipython",
    "version": 3
   },
   "file_extension": ".py",
   "mimetype": "text/x-python",
   "name": "python",
   "nbconvert_exporter": "python",
   "pygments_lexer": "ipython3",
   "version": "3.7.0"
  }
 },
 "nbformat": 4,
 "nbformat_minor": 2
}
