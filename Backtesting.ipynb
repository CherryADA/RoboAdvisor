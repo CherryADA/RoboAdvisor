{
 "cells": [
  {
   "cell_type": "code",
   "execution_count": 1,
   "metadata": {},
   "outputs": [],
   "source": [
    "from Portfolio import Portfolio, universe\n",
    "from Admin import Admin, PortfolioVaR, SimpleReturn, MoneyWeightedReturn, TimeWeightedReturn,Volatility"
   ]
  },
  {
   "cell_type": "code",
   "execution_count": 10,
   "metadata": {},
   "outputs": [],
   "source": [
    "import pandas as pd\n",
    "import numpy as np\n",
    "from datetime import datetime\n"
   ]
  },
  {
   "cell_type": "code",
   "execution_count": 3,
   "metadata": {},
   "outputs": [
    {
     "data": {
      "text/plain": [
       "DatetimeIndex(['2015-02-27'], dtype='datetime64[ns]', freq='B')"
      ]
     },
     "execution_count": 3,
     "metadata": {},
     "output_type": "execute_result"
    }
   ],
   "source": [
    "# datetime.strftime(\n",
    "pd.date_range(end='2015-03-01',periods=1,freq='B')\n",
    "# [-1],'%Y-%m-%d')"
   ]
  },
  {
   "cell_type": "code",
   "execution_count": 15,
   "metadata": {},
   "outputs": [
    {
     "name": "stdout",
     "output_type": "stream",
     "text": [
      "We are in a good state, target weights with short selling returned\n",
      "[(0.155, 0.188), (0.156, 0.189)]\n",
      "365\n",
      "0.2139670215977072\n",
      "0.29963425211668615\n",
      "We are in a good state, target weights with short selling returned\n",
      "[(0.144, 0.165)]\n",
      "365\n",
      "0.1306246533812503\n",
      "0.1593757784658008\n",
      "We are in a good state, target weights with short selling returned\n",
      "[(0.146, 0.168)]\n",
      "365\n",
      "0.02404677107573372\n",
      "0.1302037783077238\n",
      "We are in a good state, target weights with short selling returned\n",
      "[(0.159, 0.195)]\n",
      "366\n",
      "0.2832237248471017\n",
      "0.129967891375627\n",
      "We are in a good state, target weights with short selling returned\n",
      "[(0.146, 0.168)]\n",
      "365\n",
      "0.2579873047698702\n",
      "0.11348068219578948\n"
     ]
    },
    {
     "data": {
      "image/png": "[encoded data removed]",
      "text/plain": [
       "<Figure size 432x288 with 1 Axes>"
      ]
     },
     "metadata": {
      "needs_background": "light"
     },
     "output_type": "display_data"
    }
   ],
   "source": [
    "backtest_dates=['2009-01-01','2010-01-01','2011-01-01','2012-01-01','2013-01-01','2014-01-01']\n",
    "i=0\n",
    "for date in backtest_dates[:-1]:\n",
    "    i=i+1\n",
    "    test_admin=Admin()\n",
    "    possible_portf_mean,weights=test_admin.suggestPortfolio('1',date)\n",
    "    print(possible_portf_mean)\n",
    "    test_admin.acceptPortfolio(0)\n",
    "    test_admin.trackPortfolio(rebal_start_date=datetime.strftime(pd.date_range(date,periods=2,freq='2MS')[-1],'%Y-%m-%d'))\n",
    "    print(SimpleReturn(test_admin.portfolio,date,backtest_dates[i]))\n",
    "    print(Volatility(test_admin.portfolio,date,backtest_dates[i]))\n",
    "    \n",
    "    "
   ]
  },
  {
   "cell_type": "code",
   "execution_count": 6,
   "metadata": {},
   "outputs": [
    {
     "data": {
      "text/plain": [
       "{'2009-03-01': <Portfolio.Portfolio at 0x23c9dd45438>,\n",
       " '2009-06-01': <Portfolio.Portfolio at 0x23c9dd44b00>,\n",
       " '2009-09-01': <Portfolio.Portfolio at 0x23c9dd44518>,\n",
       " '2009-12-01': <Portfolio.Portfolio at 0x23c9bcef978>,\n",
       " '2010-03-01': <Portfolio.Portfolio at 0x23c9bcef7b8>,\n",
       " '2010-06-01': <Portfolio.Portfolio at 0x23c9dba9a90>,\n",
       " '2010-09-01': <Portfolio.Portfolio at 0x23c9dd446d8>,\n",
       " '2010-12-01': <Portfolio.Portfolio at 0x23c9bce32b0>,\n",
       " '2011-03-01': <Portfolio.Portfolio at 0x23c9bce3b38>,\n",
       " '2011-06-01': <Portfolio.Portfolio at 0x23c9bce3da0>,\n",
       " '2011-09-01': <Portfolio.Portfolio at 0x23c9bce3828>,\n",
       " '2011-12-01': <Portfolio.Portfolio at 0x23c9bcef860>,\n",
       " '2012-03-01': <Portfolio.Portfolio at 0x23c9b98d4e0>,\n",
       " '2012-06-01': <Portfolio.Portfolio at 0x23c9b98d4a8>,\n",
       " '2012-09-01': <Portfolio.Portfolio at 0x23c9b98d198>,\n",
       " '2012-12-01': <Portfolio.Portfolio at 0x23c9bcef278>,\n",
       " '2013-03-01': <Portfolio.Portfolio at 0x23c9b98def0>,\n",
       " '2013-06-01': <Portfolio.Portfolio at 0x23c9bce3518>,\n",
       " '2013-09-01': <Portfolio.Portfolio at 0x23c9c9ebe48>,\n",
       " '2013-12-01': <Portfolio.Portfolio at 0x23c9b82eba8>,\n",
       " '2014-03-01': <Portfolio.Portfolio at 0x23c9b994be0>,\n",
       " '2014-06-01': <Portfolio.Portfolio at 0x23c9bce37f0>,\n",
       " '2014-09-01': <Portfolio.Portfolio at 0x23c9c9ebf60>,\n",
       " '2014-12-01': <Portfolio.Portfolio at 0x23c9b98df60>,\n",
       " '2015-03-01': <Portfolio.Portfolio at 0x23c9db98128>,\n",
       " '2015-06-01': <Portfolio.Portfolio at 0x23c9db98f98>,\n",
       " '2015-09-01': <Portfolio.Portfolio at 0x23c9dd44978>,\n",
       " '2015-12-01': <Portfolio.Portfolio at 0x23c9b99a860>,\n",
       " '2016-03-01': <Portfolio.Portfolio at 0x23c9c9ebfd0>,\n",
       " '2016-06-01': <Portfolio.Portfolio at 0x23c9dbede10>,\n",
       " '2016-09-01': <Portfolio.Portfolio at 0x23c9dbede80>,\n",
       " '2016-12-01': <Portfolio.Portfolio at 0x23c9c9eb160>,\n",
       " '2017-03-01': <Portfolio.Portfolio at 0x23c9dd445f8>,\n",
       " '2017-06-01': <Portfolio.Portfolio at 0x23c9b98dc18>,\n",
       " '2017-09-01': <Portfolio.Portfolio at 0x23c9bcfab70>,\n",
       " '2017-12-01': <Portfolio.Portfolio at 0x23c9b99a710>,\n",
       " '2018-03-01': <Portfolio.Portfolio at 0x23c9dd44630>,\n",
       " '2018-06-01': <Portfolio.Portfolio at 0x23c9b98d470>,\n",
       " '2018-09-01': <Portfolio.Portfolio at 0x23c9bcfa438>,\n",
       " '2018-12-01': <Portfolio.Portfolio at 0x23c9bcfac18>,\n",
       " '2019-03-01': <Portfolio.Portfolio at 0x23c9dd44550>,\n",
       " '2019-06-01': <Portfolio.Portfolio at 0x23c9dbeddd8>}"
      ]
     },
     "execution_count": 6,
     "metadata": {},
     "output_type": "execute_result"
    }
   ],
   "source": [
    "test_admin.portfolio"
   ]
  },
  {
   "cell_type": "code",
   "execution_count": 8,
   "metadata": {},
   "outputs": [
    {
     "data": {
      "text/plain": [
       "{'2009-03-01': <Portfolio.Portfolio at 0x23c9dd45438>,\n",
       " '2009-06-01': <Portfolio.Portfolio at 0x23c9dd44b00>,\n",
       " '2009-09-01': <Portfolio.Portfolio at 0x23c9dd44518>,\n",
       " '2009-12-01': <Portfolio.Portfolio at 0x23c9bcef978>,\n",
       " '2010-03-01': <Portfolio.Portfolio at 0x23c9bcef7b8>,\n",
       " '2010-06-01': <Portfolio.Portfolio at 0x23c9dba9a90>,\n",
       " '2010-09-01': <Portfolio.Portfolio at 0x23c9dd446d8>,\n",
       " '2010-12-01': <Portfolio.Portfolio at 0x23c9bce32b0>,\n",
       " '2011-03-01': <Portfolio.Portfolio at 0x23c9bce3b38>,\n",
       " '2011-06-01': <Portfolio.Portfolio at 0x23c9bce3da0>,\n",
       " '2011-09-01': <Portfolio.Portfolio at 0x23c9bce3828>,\n",
       " '2011-12-01': <Portfolio.Portfolio at 0x23c9bcef860>,\n",
       " '2012-03-01': <Portfolio.Portfolio at 0x23c9b98d4e0>,\n",
       " '2012-06-01': <Portfolio.Portfolio at 0x23c9b98d4a8>,\n",
       " '2012-09-01': <Portfolio.Portfolio at 0x23c9b98d198>,\n",
       " '2012-12-01': <Portfolio.Portfolio at 0x23c9bcef278>,\n",
       " '2013-03-01': <Portfolio.Portfolio at 0x23c9b98def0>,\n",
       " '2013-06-01': <Portfolio.Portfolio at 0x23c9bce3518>,\n",
       " '2013-09-01': <Portfolio.Portfolio at 0x23c9c9ebe48>,\n",
       " '2013-12-01': <Portfolio.Portfolio at 0x23c9b82eba8>,\n",
       " '2014-03-01': <Portfolio.Portfolio at 0x23c9b994be0>,\n",
       " '2014-06-01': <Portfolio.Portfolio at 0x23c9bce37f0>,\n",
       " '2014-09-01': <Portfolio.Portfolio at 0x23c9c9ebf60>,\n",
       " '2014-12-01': <Portfolio.Portfolio at 0x23c9b98df60>,\n",
       " '2015-03-01': <Portfolio.Portfolio at 0x23c9db98128>,\n",
       " '2015-06-01': <Portfolio.Portfolio at 0x23c9db98f98>,\n",
       " '2015-09-01': <Portfolio.Portfolio at 0x23c9dd44978>,\n",
       " '2015-12-01': <Portfolio.Portfolio at 0x23c9b99a860>,\n",
       " '2016-03-01': <Portfolio.Portfolio at 0x23c9c9ebfd0>,\n",
       " '2016-06-01': <Portfolio.Portfolio at 0x23c9dbede10>,\n",
       " '2016-09-01': <Portfolio.Portfolio at 0x23c9dbede80>,\n",
       " '2016-12-01': <Portfolio.Portfolio at 0x23c9c9eb160>,\n",
       " '2017-03-01': <Portfolio.Portfolio at 0x23c9dd445f8>,\n",
       " '2017-06-01': <Portfolio.Portfolio at 0x23c9b98dc18>,\n",
       " '2017-09-01': <Portfolio.Portfolio at 0x23c9bcfab70>,\n",
       " '2017-12-01': <Portfolio.Portfolio at 0x23c9b99a710>,\n",
       " '2018-03-01': <Portfolio.Portfolio at 0x23c9dd44630>,\n",
       " '2018-06-01': <Portfolio.Portfolio at 0x23c9b98d470>,\n",
       " '2018-09-01': <Portfolio.Portfolio at 0x23c9bcfa438>,\n",
       " '2018-12-01': <Portfolio.Portfolio at 0x23c9bcfac18>,\n",
       " '2019-03-01': <Portfolio.Portfolio at 0x23c9dd44550>,\n",
       " '2019-06-01': <Portfolio.Portfolio at 0x23c9dbeddd8>,\n",
       " '2009-01-01': <Portfolio.Portfolio at 0x23c9c9eb748>}"
      ]
     },
     "execution_count": 8,
     "metadata": {},
     "output_type": "execute_result"
    }
   ],
   "source": [
    "test_admin.portfolio"
   ]
  },
  {
   "cell_type": "code",
   "execution_count": null,
   "metadata": {},
   "outputs": [],
   "source": []
  },
  {
   "cell_type": "code",
   "execution_count": 50,
   "metadata": {},
   "outputs": [
    {
     "data": {
      "text/plain": [
       "2922.96952614437"
      ]
     },
     "execution_count": 50,
     "metadata": {},
     "output_type": "execute_result"
    }
   ],
   "source": [
    "np.float(list(test_admin.portfolio['2019-06-01'].portfolio.values())[0])"
   ]
  }
 ],
 "metadata": {
  "kernelspec": {
   "display_name": "Python 3",
   "language": "python",
   "name": "python3"
  },
  "language_info": {
   "codemirror_mode": {
    "name": "ipython",
    "version": 3
   },
   "file_extension": ".py",
   "mimetype": "text/x-python",
   "name": "python",
   "nbconvert_exporter": "python",
   "pygments_lexer": "ipython3",
   "version": "3.7.0"
  }
 },
 "nbformat": 4,
 "nbformat_minor": 2
}
