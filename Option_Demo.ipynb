{
 "cells": [
  {
   "cell_type": "markdown",
   "metadata": {},
   "source": [
    "## Demo "
   ]
  },
  {
   "cell_type": "markdown",
   "metadata": {},
   "source": [
    "### Register Universe"
   ]
  },
  {
   "cell_type": "code",
   "execution_count": 1,
   "metadata": {},
   "outputs": [],
   "source": [
    "from registerUniverse import register_universe_main\n",
    "universe = register_universe_main()"
   ]
  },
  {
   "cell_type": "code",
   "execution_count": 2,
   "metadata": {},
   "outputs": [
    {
     "name": "stdout",
     "output_type": "stream",
     "text": [
      "Total registered 1 securities\n",
      "\n",
      "Securities:\n",
      "DJI_365_13000_P\n",
      "\n"
     ]
    }
   ],
   "source": [
    "universe.show_registered_securities(\"VOL:US\")"
   ]
  },
  {
   "cell_type": "code",
   "execution_count": 3,
   "metadata": {},
   "outputs": [
    {
     "data": {
      "text/plain": [
       "2012-09-04    0.197583\n",
       "2012-09-05    0.213575\n",
       "2012-09-06    0.211412\n",
       "2012-09-07    0.208156\n",
       "2012-09-10    0.205524\n",
       "2012-09-11    0.205721\n",
       "2012-09-12    0.203255\n",
       "2012-09-13    0.199705\n",
       "2012-09-14    0.201863\n",
       "2012-09-17    0.202686\n",
       "2012-09-18    0.202669\n",
       "2012-09-19    0.199657\n",
       "2012-09-20    0.202755\n",
       "2012-09-21    0.201062\n",
       "2012-09-24    0.200489\n",
       "2012-09-25    0.202152\n",
       "2012-09-26    0.204696\n",
       "2012-09-27    0.201970\n",
       "2012-09-28    0.201267\n",
       "2012-10-01    0.203682\n",
       "2012-10-02    0.203535\n",
       "2012-10-03    0.202920\n",
       "2012-10-04    0.201810\n",
       "2012-10-05    0.200048\n",
       "2012-10-08    0.199407\n",
       "2012-10-09    0.197765\n",
       "2012-10-10    0.198525\n",
       "2012-10-11    0.194955\n",
       "2012-10-12    0.193809\n",
       "2012-10-15    0.191780\n",
       "                ...   \n",
       "2019-04-22    0.256004\n",
       "2019-04-23    0.255458\n",
       "2019-04-24    0.256774\n",
       "2019-04-25    0.256774\n",
       "2019-04-26    0.258875\n",
       "2019-04-29    0.257457\n",
       "2019-04-30    0.257776\n",
       "2019-05-01    0.271136\n",
       "2019-05-02    0.269159\n",
       "2019-05-03    0.267134\n",
       "2019-05-06    0.266429\n",
       "2019-05-07    0.270514\n",
       "2019-05-08    0.269930\n",
       "2019-05-09    0.271638\n",
       "2019-05-10    0.269380\n",
       "2019-05-13    0.270422\n",
       "2019-05-14    0.272918\n",
       "2019-05-15    0.268223\n",
       "2019-05-16    0.267675\n",
       "2019-05-17    0.269619\n",
       "2019-05-20    0.272223\n",
       "2019-05-21    0.271932\n",
       "2019-05-22    0.272408\n",
       "2019-05-23    0.277856\n",
       "2019-05-24    0.273206\n",
       "2019-05-27    0.273206\n",
       "2019-05-28    0.277013\n",
       "2019-05-29    0.273879\n",
       "2019-05-30    0.280954\n",
       "2019-05-31    0.279368\n",
       "Length: 1759, dtype: float64"
      ]
     },
     "execution_count": 3,
     "metadata": {},
     "output_type": "execute_result"
    }
   ],
   "source": [
    "universe.get_security(\"DJI_365_13000_P\").price"
   ]
  },
  {
   "cell_type": "markdown",
   "metadata": {},
   "source": [
    "### possible strikes"
   ]
  },
  {
   "cell_type": "code",
   "execution_count": null,
   "metadata": {},
   "outputs": [],
   "source": [
    "import os\n",
    "import pandas as pd\n",
    "from datetime import datetime\n",
    "dir_path = os.getcwd()\n",
    "data_path = dir_path + \"/Data/\"\n",
    "options = pd.read_csv(data_path+\"option/new_DJX_filtered.csv\")\n",
    "#options['date'] = [datetime.strptime(str(item), '%Y-%m-%d') for item in options['date']]\n",
    "#options['exdate'] = [datetime.strptime(str(item), '%Y-%m-%d') for item in options['exdate']]"
   ]
  },
  {
   "cell_type": "code",
   "execution_count": null,
   "metadata": {},
   "outputs": [
    {
     "data": {
      "text/html": [
       "<div>\n",
       "<style scoped>\n",
       "    .dataframe tbody tr th:only-of-type {\n",
       "        vertical-align: middle;\n",
       "    }\n",
       "\n",
       "    .dataframe tbody tr th {\n",
       "        vertical-align: top;\n",
       "    }\n",
       "\n",
       "    .dataframe thead th {\n",
       "        text-align: right;\n",
       "    }\n",
       "</style>\n",
       "<table border=\"1\" class=\"dataframe\">\n",
       "  <thead>\n",
       "    <tr style=\"text-align: right;\">\n",
       "      <th></th>\n",
       "      <th>strike_price</th>\n",
       "    </tr>\n",
       "  </thead>\n",
       "  <tbody>\n",
       "    <tr>\n",
       "      <th>0</th>\n",
       "      <td>5000</td>\n",
       "    </tr>\n",
       "    <tr>\n",
       "      <th>1</th>\n",
       "      <td>5500</td>\n",
       "    </tr>\n",
       "    <tr>\n",
       "      <th>2</th>\n",
       "      <td>6000</td>\n",
       "    </tr>\n",
       "    <tr>\n",
       "      <th>3</th>\n",
       "      <td>6100</td>\n",
       "    </tr>\n",
       "    <tr>\n",
       "      <th>4</th>\n",
       "      <td>6200</td>\n",
       "    </tr>\n",
       "    <tr>\n",
       "      <th>5</th>\n",
       "      <td>6300</td>\n",
       "    </tr>\n",
       "    <tr>\n",
       "      <th>6</th>\n",
       "      <td>6400</td>\n",
       "    </tr>\n",
       "    <tr>\n",
       "      <th>7</th>\n",
       "      <td>6500</td>\n",
       "    </tr>\n",
       "    <tr>\n",
       "      <th>8</th>\n",
       "      <td>6600</td>\n",
       "    </tr>\n",
       "    <tr>\n",
       "      <th>9</th>\n",
       "      <td>6700</td>\n",
       "    </tr>\n",
       "    <tr>\n",
       "      <th>10</th>\n",
       "      <td>6800</td>\n",
       "    </tr>\n",
       "    <tr>\n",
       "      <th>11</th>\n",
       "      <td>6900</td>\n",
       "    </tr>\n",
       "    <tr>\n",
       "      <th>12</th>\n",
       "      <td>7000</td>\n",
       "    </tr>\n",
       "    <tr>\n",
       "      <th>13</th>\n",
       "      <td>7100</td>\n",
       "    </tr>\n",
       "    <tr>\n",
       "      <th>14</th>\n",
       "      <td>7200</td>\n",
       "    </tr>\n",
       "    <tr>\n",
       "      <th>15</th>\n",
       "      <td>7300</td>\n",
       "    </tr>\n",
       "    <tr>\n",
       "      <th>16</th>\n",
       "      <td>7400</td>\n",
       "    </tr>\n",
       "    <tr>\n",
       "      <th>17</th>\n",
       "      <td>7500</td>\n",
       "    </tr>\n",
       "    <tr>\n",
       "      <th>18</th>\n",
       "      <td>7600</td>\n",
       "    </tr>\n",
       "    <tr>\n",
       "      <th>19</th>\n",
       "      <td>7700</td>\n",
       "    </tr>\n",
       "    <tr>\n",
       "      <th>20</th>\n",
       "      <td>7800</td>\n",
       "    </tr>\n",
       "    <tr>\n",
       "      <th>21</th>\n",
       "      <td>7900</td>\n",
       "    </tr>\n",
       "    <tr>\n",
       "      <th>22</th>\n",
       "      <td>8000</td>\n",
       "    </tr>\n",
       "    <tr>\n",
       "      <th>23</th>\n",
       "      <td>8100</td>\n",
       "    </tr>\n",
       "    <tr>\n",
       "      <th>24</th>\n",
       "      <td>8200</td>\n",
       "    </tr>\n",
       "    <tr>\n",
       "      <th>25</th>\n",
       "      <td>8300</td>\n",
       "    </tr>\n",
       "    <tr>\n",
       "      <th>26</th>\n",
       "      <td>8400</td>\n",
       "    </tr>\n",
       "    <tr>\n",
       "      <th>27</th>\n",
       "      <td>8500</td>\n",
       "    </tr>\n",
       "    <tr>\n",
       "      <th>28</th>\n",
       "      <td>8600</td>\n",
       "    </tr>\n",
       "    <tr>\n",
       "      <th>29</th>\n",
       "      <td>8700</td>\n",
       "    </tr>\n",
       "    <tr>\n",
       "      <th>...</th>\n",
       "      <td>...</td>\n",
       "    </tr>\n",
       "    <tr>\n",
       "      <th>195</th>\n",
       "      <td>25300</td>\n",
       "    </tr>\n",
       "    <tr>\n",
       "      <th>196</th>\n",
       "      <td>25400</td>\n",
       "    </tr>\n",
       "    <tr>\n",
       "      <th>197</th>\n",
       "      <td>25500</td>\n",
       "    </tr>\n",
       "    <tr>\n",
       "      <th>198</th>\n",
       "      <td>25600</td>\n",
       "    </tr>\n",
       "    <tr>\n",
       "      <th>199</th>\n",
       "      <td>25700</td>\n",
       "    </tr>\n",
       "    <tr>\n",
       "      <th>200</th>\n",
       "      <td>25800</td>\n",
       "    </tr>\n",
       "    <tr>\n",
       "      <th>201</th>\n",
       "      <td>25900</td>\n",
       "    </tr>\n",
       "    <tr>\n",
       "      <th>202</th>\n",
       "      <td>26000</td>\n",
       "    </tr>\n",
       "    <tr>\n",
       "      <th>203</th>\n",
       "      <td>26500</td>\n",
       "    </tr>\n",
       "    <tr>\n",
       "      <th>204</th>\n",
       "      <td>27000</td>\n",
       "    </tr>\n",
       "    <tr>\n",
       "      <th>205</th>\n",
       "      <td>27500</td>\n",
       "    </tr>\n",
       "    <tr>\n",
       "      <th>206</th>\n",
       "      <td>28000</td>\n",
       "    </tr>\n",
       "    <tr>\n",
       "      <th>207</th>\n",
       "      <td>28500</td>\n",
       "    </tr>\n",
       "    <tr>\n",
       "      <th>208</th>\n",
       "      <td>29000</td>\n",
       "    </tr>\n",
       "    <tr>\n",
       "      <th>209</th>\n",
       "      <td>29500</td>\n",
       "    </tr>\n",
       "    <tr>\n",
       "      <th>210</th>\n",
       "      <td>30000</td>\n",
       "    </tr>\n",
       "    <tr>\n",
       "      <th>211</th>\n",
       "      <td>30500</td>\n",
       "    </tr>\n",
       "    <tr>\n",
       "      <th>212</th>\n",
       "      <td>31000</td>\n",
       "    </tr>\n",
       "    <tr>\n",
       "      <th>213</th>\n",
       "      <td>31500</td>\n",
       "    </tr>\n",
       "    <tr>\n",
       "      <th>214</th>\n",
       "      <td>32000</td>\n",
       "    </tr>\n",
       "    <tr>\n",
       "      <th>215</th>\n",
       "      <td>32500</td>\n",
       "    </tr>\n",
       "    <tr>\n",
       "      <th>216</th>\n",
       "      <td>33000</td>\n",
       "    </tr>\n",
       "    <tr>\n",
       "      <th>217</th>\n",
       "      <td>33500</td>\n",
       "    </tr>\n",
       "    <tr>\n",
       "      <th>218</th>\n",
       "      <td>34000</td>\n",
       "    </tr>\n",
       "    <tr>\n",
       "      <th>219</th>\n",
       "      <td>34500</td>\n",
       "    </tr>\n",
       "    <tr>\n",
       "      <th>220</th>\n",
       "      <td>35000</td>\n",
       "    </tr>\n",
       "    <tr>\n",
       "      <th>221</th>\n",
       "      <td>35500</td>\n",
       "    </tr>\n",
       "    <tr>\n",
       "      <th>222</th>\n",
       "      <td>36000</td>\n",
       "    </tr>\n",
       "    <tr>\n",
       "      <th>223</th>\n",
       "      <td>36500</td>\n",
       "    </tr>\n",
       "    <tr>\n",
       "      <th>224</th>\n",
       "      <td>37000</td>\n",
       "    </tr>\n",
       "  </tbody>\n",
       "</table>\n",
       "<p>225 rows × 1 columns</p>\n",
       "</div>"
      ],
      "text/plain": [
       "     strike_price\n",
       "0            5000\n",
       "1            5500\n",
       "2            6000\n",
       "3            6100\n",
       "4            6200\n",
       "5            6300\n",
       "6            6400\n",
       "7            6500\n",
       "8            6600\n",
       "9            6700\n",
       "10           6800\n",
       "11           6900\n",
       "12           7000\n",
       "13           7100\n",
       "14           7200\n",
       "15           7300\n",
       "16           7400\n",
       "17           7500\n",
       "18           7600\n",
       "19           7700\n",
       "20           7800\n",
       "21           7900\n",
       "22           8000\n",
       "23           8100\n",
       "24           8200\n",
       "25           8300\n",
       "26           8400\n",
       "27           8500\n",
       "28           8600\n",
       "29           8700\n",
       "..            ...\n",
       "195         25300\n",
       "196         25400\n",
       "197         25500\n",
       "198         25600\n",
       "199         25700\n",
       "200         25800\n",
       "201         25900\n",
       "202         26000\n",
       "203         26500\n",
       "204         27000\n",
       "205         27500\n",
       "206         28000\n",
       "207         28500\n",
       "208         29000\n",
       "209         29500\n",
       "210         30000\n",
       "211         30500\n",
       "212         31000\n",
       "213         31500\n",
       "214         32000\n",
       "215         32500\n",
       "216         33000\n",
       "217         33500\n",
       "218         34000\n",
       "219         34500\n",
       "220         35000\n",
       "221         35500\n",
       "222         36000\n",
       "223         36500\n",
       "224         37000\n",
       "\n",
       "[225 rows x 1 columns]"
      ]
     },
     "execution_count": 5,
     "metadata": {},
     "output_type": "execute_result"
    }
   ],
   "source": [
    "pd.DataFrame(options.groupby(\"strike_price\").first().index)"
   ]
  },
  {
   "cell_type": "markdown",
   "metadata": {},
   "source": [
    "### Register any option into universe"
   ]
  },
  {
   "cell_type": "code",
   "execution_count": null,
   "metadata": {},
   "outputs": [
    {
     "name": "stdout",
     "output_type": "stream",
     "text": [
      "Total registered 1 securities\n",
      "\n",
      "Securities:\n",
      "DJI_365_13000_P\n",
      "\n"
     ]
    }
   ],
   "source": [
    "## pre-registered option\n",
    "universe.show_registered_securities(\"VOL:US\")"
   ]
  },
  {
   "cell_type": "code",
   "execution_count": null,
   "metadata": {},
   "outputs": [],
   "source": [
    "## register options: ## please make sure run all of the lines below in order to register it successfully \n",
    "from Instrument import Option\n",
    "from datetime import timedelta\n",
    "option = Option(\"DJI_365_13500_P\", timedelta(365), 13500, \"put\", universe.get_security(\"DJI\"),universe.get_security(\"rf_rate_us\").price, \"2012-09-04\", 100)\n",
    "universe.addInstrument(option)\n",
    "## fill in all options implied vol and premium\n",
    "universe.add_imp_vol_series_to_all_option()\n",
    "universe.get_security(\"DJI_365_13500_P\").add_series()"
   ]
  },
  {
   "cell_type": "code",
   "execution_count": null,
   "metadata": {},
   "outputs": [],
   "source": [
    "universe.get_security(\"DJI_365_13000_P\").premium.plot()\n",
    "# try premium, value, delta, vega, price (which here is implied vol)"
   ]
  },
  {
   "cell_type": "code",
   "execution_count": null,
   "metadata": {},
   "outputs": [],
   "source": [
    "universe.get_security(\"DJI_365_13500_P\").underlying.price.loc[\"2012-09-04\"]"
   ]
  },
  {
   "cell_type": "markdown",
   "metadata": {},
   "source": [
    "### fit factor model on underlying"
   ]
  },
  {
   "cell_type": "code",
   "execution_count": null,
   "metadata": {},
   "outputs": [],
   "source": [
    "start_date = \"2014-01-01\"\n",
    "window_size = 250 * 5\n",
    "mdl = universe.fitFactorModel(universe.get_security(\"DJI_365_13500_P\").underlying.ticker, start_date, window_size)"
   ]
  },
  {
   "cell_type": "code",
   "execution_count": null,
   "metadata": {},
   "outputs": [],
   "source": [
    "mdl.params"
   ]
  },
  {
   "cell_type": "markdown",
   "metadata": {},
   "source": [
    "### fit factor model on vol"
   ]
  },
  {
   "cell_type": "code",
   "execution_count": null,
   "metadata": {},
   "outputs": [],
   "source": [
    "start_date = \"2014-01-01\"\n",
    "window_size = 250 * 5\n",
    "mdl = universe.fitFactorModel(\"DJI_365_13500_P\", start_date, window_size)\n",
    "mdl.params"
   ]
  },
  {
   "cell_type": "markdown",
   "metadata": {},
   "source": [
    "### risk attribution\n",
    "\n",
    "delta * (beta on underlying) + vega * (beta on implied vol)"
   ]
  },
  {
   "cell_type": "code",
   "execution_count": null,
   "metadata": {},
   "outputs": [],
   "source": [
    "a = universe.get_security(\"DJI_365_13500_P\").price.tail(10)\n",
    "a.index = [n for n in range(10)]\n",
    "a"
   ]
  },
  {
   "cell_type": "markdown",
   "metadata": {},
   "source": [
    "### Option Data Cleaning - not important!"
   ]
  },
  {
   "cell_type": "code",
   "execution_count": null,
   "metadata": {},
   "outputs": [],
   "source": [
    "import os\n",
    "import pandas as pd\n",
    "from datetime import datetime\n",
    "dir_path = os.getcwd()\n",
    "data_path = dir_path + \"/Data/\"\n",
    "options = pd.read_csv(data_path+\"option/new_DJX_filtered.csv\")\n",
    "options['date'] = [datetime.strptime(str(item), '%Y-%m-%d') for item in options['date']]\n",
    "options['exdate'] = [datetime.strptime(str(item), '%Y-%m-%d') for item in options['exdate']]\n",
    "options.head()"
   ]
  },
  {
   "cell_type": "code",
   "execution_count": null,
   "metadata": {},
   "outputs": [],
   "source": [
    "from datetime import timedelta, datetime\n",
    "datetime.strftimr(timedelta(365*0.5) + datetime(2014, 9, 4), \"%Y-%m-%d\""
   ]
  },
  {
   "cell_type": "code",
   "execution_count": null,
   "metadata": {},
   "outputs": [],
   "source": [
    "a = options[(options[\"exdate\"] < datetime.strptime(\"2014-09-04\", '%Y-%m-%d')) & (options[\"exdate\"] > datetime.strptime(\"2013-09-04\", '%Y-%m-%d'))]\n",
    "#a[options[\"exdate\"] > datetime.strptime(\"2013-09-04\", '%Y-%m-%d')]\n",
    "a.iloc[0]"
   ]
  },
  {
   "cell_type": "code",
   "execution_count": null,
   "metadata": {},
   "outputs": [],
   "source": [
    "options[(options.exdate == \"2012-09-07\")][options.cp_flag == \"C\"][options.strike_price\t == 121]"
   ]
  },
  {
   "cell_type": "code",
   "execution_count": null,
   "metadata": {},
   "outputs": [],
   "source": [
    "options[options.optionid == 65489034]"
   ]
  },
  {
   "cell_type": "code",
   "execution_count": null,
   "metadata": {},
   "outputs": [],
   "source": [
    "(datetime.strptime(\"2012-09-22\", '%Y-%m-%d') - datetime.strptime(\"2012-09-04\", '%Y-%m-%d')).days"
   ]
  },
  {
   "cell_type": "code",
   "execution_count": null,
   "metadata": {},
   "outputs": [],
   "source": [
    "grouped_options = options.groupby(['optionid'])\n",
    "a = grouped_options.first()\n",
    "a.shape"
   ]
  },
  {
   "cell_type": "code",
   "execution_count": null,
   "metadata": {},
   "outputs": [],
   "source": [
    "grouped_options.get_group(49506844)"
   ]
  },
  {
   "cell_type": "code",
   "execution_count": null,
   "metadata": {},
   "outputs": [],
   "source": []
  },
  {
   "cell_type": "code",
   "execution_count": null,
   "metadata": {},
   "outputs": [],
   "source": [
    " int(grouped_options.first().count()[0])"
   ]
  },
  {
   "cell_type": "code",
   "execution_count": null,
   "metadata": {},
   "outputs": [],
   "source": [
    "temp_l = {}\n",
    "group_options_first = grouped_options.first()\n",
    "for index in group_options_first.index:\n",
    "    n = grouped_options.get_group(index).count()[0]\n",
    "    #print(n)\n",
    "    T = datetime.strptime(group_options_first[\"exdate\"].loc[index], '%Y-%m-%d') - datetime.strptime(group_options_first[\"date\"].loc[index], '%Y-%m-%d')\n",
    "    #print(T)\n",
    "    #for i in range(n):\n",
    "        #temp_l.append(T)\n",
    "    temp_l[index] = T\n",
    "        "
   ]
  },
  {
   "cell_type": "code",
   "execution_count": null,
   "metadata": {},
   "outputs": [],
   "source": [
    "temp_df = pd.DataFrame.from_dict(temp_l,orient='index', columns=['T'])\n",
    "temp_df.head()"
   ]
  },
  {
   "cell_type": "code",
   "execution_count": null,
   "metadata": {},
   "outputs": [],
   "source": [
    "final_options = options.merge(temp_df, left_on = \"optionid\", right_index=True )"
   ]
  },
  {
   "cell_type": "code",
   "execution_count": null,
   "metadata": {},
   "outputs": [],
   "source": [
    "set(temp_df[temp_df.columns.tolist()[0]])"
   ]
  },
  {
   "cell_type": "code",
   "execution_count": null,
   "metadata": {},
   "outputs": [],
   "source": [
    "from datetime import timedelta"
   ]
  },
  {
   "cell_type": "code",
   "execution_count": null,
   "metadata": {},
   "outputs": [],
   "source": [
    "chosenT = [timedelta(91), timedelta(365), timedelta(1095)]\n",
    "chosenT"
   ]
  },
  {
   "cell_type": "code",
   "execution_count": null,
   "metadata": {},
   "outputs": [],
   "source": [
    "final_options[final_options[\"T\"].isin(chosenT)]"
   ]
  },
  {
   "cell_type": "code",
   "execution_count": null,
   "metadata": {},
   "outputs": [],
   "source": [
    "temp = final_options[final_options[\"T\"].isin([timedelta(365),timedelta(364)])]\n",
    "temp"
   ]
  },
  {
   "cell_type": "code",
   "execution_count": null,
   "metadata": {},
   "outputs": [],
   "source": [
    "options.groupby([])"
   ]
  }
 ],
 "metadata": {
  "kernelspec": {
   "display_name": "Python 3",
   "language": "python",
   "name": "python3"
  },
  "language_info": {
   "codemirror_mode": {
    "name": "ipython",
    "version": 3
   },
   "file_extension": ".py",
   "mimetype": "text/x-python",
   "name": "python",
   "nbconvert_exporter": "python",
   "pygments_lexer": "ipython3",
   "version": "3.7.3"
  }
 },
 "nbformat": 4,
 "nbformat_minor": 2
}
