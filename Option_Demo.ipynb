{
 "cells": [
  {
   "cell_type": "markdown",
   "metadata": {},
   "source": [
    "## Demo "
   ]
  },
  {
   "cell_type": "markdown",
   "metadata": {},
   "source": [
    "### Register Universe"
   ]
  },
  {
   "cell_type": "code",
   "execution_count": 1,
   "metadata": {},
   "outputs": [],
   "source": [
    "from registerUniverse import register_universe_main\n",
    "universe = register_universe_main()"
   ]
  },
  {
   "cell_type": "code",
   "execution_count": 2,
   "metadata": {},
   "outputs": [
    {
     "name": "stdout",
     "output_type": "stream",
     "text": [
      "Total registered 3 securities\n",
      "\n",
      "Securities:\n",
      "DJI_365_17000_P\n",
      "DJI_365_15000_P\n",
      "DJI_365_17500_P\n",
      "\n"
     ]
    }
   ],
   "source": [
    "universe.show_registered_securities(\"VOL:US\")"
   ]
  },
  {
   "cell_type": "code",
   "execution_count": 3,
   "metadata": {},
   "outputs": [
    {
     "data": {
      "text/plain": [
       "Unnamed: 0\n",
       "2012-09-04    0.164277\n",
       "2012-09-05    0.163864\n",
       "2012-09-06    0.158309\n",
       "2012-09-07    0.156624\n",
       "2012-09-10    0.157170\n",
       "2012-09-11    0.154255\n",
       "2012-09-12    0.153132\n",
       "2012-09-13    0.149737\n",
       "2012-09-14    0.153492\n",
       "2012-09-17    0.152767\n",
       "2012-09-18    0.151651\n",
       "2012-09-19    0.148655\n",
       "2012-09-20    0.158670\n",
       "2012-09-21    0.155194\n",
       "2012-09-24    0.146065\n",
       "2012-09-25    0.146825\n",
       "2012-09-26    0.149294\n",
       "2012-09-27    0.149560\n",
       "2012-09-28    0.147827\n",
       "2012-10-01    0.151528\n",
       "2012-10-02    0.147248\n",
       "2012-10-03    0.152586\n",
       "2012-10-04    0.148201\n",
       "2012-10-05    0.145832\n",
       "2012-10-08    0.143588\n",
       "2012-10-09    0.141937\n",
       "2012-10-10    0.150300\n",
       "2012-10-11    0.142203\n",
       "2012-10-12    0.143785\n",
       "2012-10-15    0.133659\n",
       "                ...   \n",
       "2019-04-22    0.210029\n",
       "2019-04-23    0.209212\n",
       "2019-04-24    0.209602\n",
       "2019-04-25    0.209602\n",
       "2019-04-26    0.211324\n",
       "2019-04-29    0.210112\n",
       "2019-04-30    0.211606\n",
       "2019-05-01    0.220119\n",
       "2019-05-02    0.220376\n",
       "2019-05-03    0.220053\n",
       "2019-05-06    0.220159\n",
       "2019-05-07    0.223736\n",
       "2019-05-08    0.223182\n",
       "2019-05-09    0.224077\n",
       "2019-05-10    0.222992\n",
       "2019-05-13    0.222648\n",
       "2019-05-14    0.225194\n",
       "2019-05-15    0.222574\n",
       "2019-05-16    0.223484\n",
       "2019-05-17    0.225052\n",
       "2019-05-20    0.226628\n",
       "2019-05-21    0.228249\n",
       "2019-05-22    0.228684\n",
       "2019-05-23    0.232428\n",
       "2019-05-24    0.231517\n",
       "2019-05-27    0.231517\n",
       "2019-05-28    0.233215\n",
       "2019-05-29    0.233157\n",
       "2019-05-30    0.236188\n",
       "2019-05-31    0.234445\n",
       "Name: implied_vol, Length: 1759, dtype: float64"
      ]
     },
     "execution_count": 3,
     "metadata": {},
     "output_type": "execute_result"
    }
   ],
   "source": [
    "universe.get_security(\"DJI_365_17000_P\").price"
   ]
  },
  {
   "cell_type": "markdown",
   "metadata": {},
   "source": [
    "# Testing Portfolio with Option. Delete later"
   ]
  },
  {
   "cell_type": "code",
   "execution_count": null,
   "metadata": {},
   "outputs": [],
   "source": [
    "import importlib as imp\n",
    "from Admin import Admin"
   ]
  },
  {
   "cell_type": "code",
   "execution_count": null,
   "metadata": {},
   "outputs": [],
   "source": [
    "test_admin=Admin()\n",
    "test_admin.suggestPortfolio('3','2014-04-01')"
   ]
  },
  {
   "cell_type": "code",
   "execution_count": null,
   "metadata": {},
   "outputs": [],
   "source": [
    "test_admin.acceptPortfolio(0)"
   ]
  },
  {
   "cell_type": "code",
   "execution_count": null,
   "metadata": {},
   "outputs": [],
   "source": [
    "test_admin.trackPortfolio()"
   ]
  },
  {
   "cell_type": "markdown",
   "metadata": {},
   "source": [
    "### possible strikes"
   ]
  },
  {
   "cell_type": "code",
   "execution_count": 3,
   "metadata": {},
   "outputs": [],
   "source": [
    "import os\n",
    "import pandas as pd\n",
    "from datetime import datetime\n",
    "dir_path = os.getcwd()\n",
    "data_path = dir_path + \"/Data/\"\n",
    "options = pd.read_csv(data_path+\"option/new_DJX_filtered.csv\")\n",
    "#options['date'] = [datetime.strptime(str(item), '%Y-%m-%d') for item in options['date']]\n",
    "#options['exdate'] = [datetime.strptime(str(item), '%Y-%m-%d') for item in options['exdate']]"
   ]
  },
  {
   "cell_type": "code",
   "execution_count": 17,
   "metadata": {},
   "outputs": [
    {
     "data": {
      "text/plain": [
       "1"
      ]
     },
     "execution_count": 17,
     "metadata": {},
     "output_type": "execute_result"
    }
   ],
   "source": [
    "import numpy as np\n",
    "np.sum(pd.DataFrame(options.groupby(\"strike_price\").first().index)['strike_price']==20000)"
   ]
  },
  {
   "cell_type": "markdown",
   "metadata": {},
   "source": [
    "### Register any option into universe"
   ]
  },
  {
   "cell_type": "code",
   "execution_count": 5,
   "metadata": {},
   "outputs": [
    {
     "name": "stdout",
     "output_type": "stream",
     "text": [
      "Total registered 1 securities\n",
      "\n",
      "Securities:\n",
      "DJI_365_13000_P\n",
      "\n"
     ]
    }
   ],
   "source": [
    "## pre-registered option\n",
    "universe.show_registered_securities(\"VOL:US\")"
   ]
  },
  {
   "cell_type": "code",
   "execution_count": 6,
   "metadata": {},
   "outputs": [],
   "source": [
    "## register options: ## please make sure run all of the lines below in order to register it successfully \n",
    "from Instrument import Option\n",
    "from datetime import timedelta\n",
    "option = Option(\"DJI_365_13500_P\", timedelta(365), 13500, \"put\", universe.get_security(\"DJI\"),universe.get_security(\"rf_rate_us\").price, \"2012-09-04\", 100)\n",
    "universe.addInstrument(option)\n",
    "## fill in all options implied vol and premium\n",
    "universe.add_imp_vol_series_to_all_option()\n",
    "universe.get_security(\"DJI_365_13500_P\").add_series()"
   ]
  },
  {
   "cell_type": "code",
   "execution_count": 7,
   "metadata": {},
   "outputs": [
    {
     "data": {
      "text/plain": [
       "<matplotlib.axes._subplots.AxesSubplot at 0x1eb140ff080>"
      ]
     },
     "execution_count": 7,
     "metadata": {},
     "output_type": "execute_result"
    },
    {
     "data": {
      "image/png": "[encoded data removed]",
      "text/plain": [
       "<Figure size 432x288 with 1 Axes>"
      ]
     },
     "metadata": {
      "needs_background": "light"
     },
     "output_type": "display_data"
    }
   ],
   "source": [
    "universe.get_security(\"DJI_365_13000_P\").premium.plot()\n",
    "# try premium, value, delta, vega, price (which here is implied vol)"
   ]
  },
  {
   "cell_type": "code",
   "execution_count": 11,
   "metadata": {},
   "outputs": [
    {
     "name": "stdout",
     "output_type": "stream",
     "text": [
      "17098.44922\n",
      "17776.80078\n",
      "18132.69922\n",
      "18040.36914\n",
      "16058.34961\n",
      "17888.34961\n",
      "16865.08008\n",
      "17789.66992\n",
      "18419.30078\n",
      "19191.92969\n",
      "21115.55078\n",
      "21144.17969\n",
      "21987.56055\n",
      "24231.58984\n",
      "24608.98047\n",
      "24635.21094\n",
      "25964.82031\n",
      "25538.46094\n",
      "26026.32031\n",
      "24815.03906\n"
     ]
    }
   ],
   "source": [
    "dates_rebal=[datetime.strftime(item,'%Y-%m-%d') for item in pd.date_range('2014-09-01','2019-06-01',freq='3MS')]\n",
    "for item in dates_rebal:\n",
    "    print(universe.get_security(\"DJI_365_13500_P\").underlying.price.reindex(dates_rebal,method='ffill').loc[item])"
   ]
  },
  {
   "cell_type": "markdown",
   "metadata": {},
   "source": [
    "### fit factor model on underlying"
   ]
  },
  {
   "cell_type": "code",
   "execution_count": null,
   "metadata": {},
   "outputs": [],
   "source": [
    "start_date = \"2014-01-01\"\n",
    "window_size = 250 * 5\n",
    "mdl = universe.fitFactorModel(universe.get_security(\"DJI_365_13500_P\").underlying.ticker, start_date, window_size)"
   ]
  },
  {
   "cell_type": "code",
   "execution_count": null,
   "metadata": {},
   "outputs": [],
   "source": [
    "mdl.params"
   ]
  },
  {
   "cell_type": "markdown",
   "metadata": {},
   "source": [
    "### fit factor model on vol"
   ]
  },
  {
   "cell_type": "code",
   "execution_count": null,
   "metadata": {},
   "outputs": [],
   "source": [
    "start_date = \"2014-01-01\"\n",
    "window_size = 250 * 5\n",
    "mdl = universe.fitFactorModel(\"DJI_365_13500_P\", start_date, window_size)\n",
    "mdl.params"
   ]
  },
  {
   "cell_type": "markdown",
   "metadata": {},
   "source": [
    "### risk attribution\n",
    "\n",
    "delta * (beta on underlying) + vega * (beta on implied vol)"
   ]
  },
  {
   "cell_type": "code",
   "execution_count": null,
   "metadata": {},
   "outputs": [],
   "source": [
    "a = universe.get_security(\"DJI_365_13500_P\").price.tail(10)\n",
    "a.index = [n for n in range(10)]\n",
    "a"
   ]
  },
  {
   "cell_type": "markdown",
   "metadata": {},
   "source": [
    "### Option Data Cleaning - not important!"
   ]
  },
  {
   "cell_type": "code",
   "execution_count": null,
   "metadata": {},
   "outputs": [],
   "source": [
    "import os\n",
    "import pandas as pd\n",
    "from datetime import datetime\n",
    "dir_path = os.getcwd()\n",
    "data_path = dir_path + \"/Data/\"\n",
    "options = pd.read_csv(data_path+\"option/new_DJX_filtered.csv\")\n",
    "options['date'] = [datetime.strptime(str(item), '%Y-%m-%d') for item in options['date']]\n",
    "options['exdate'] = [datetime.strptime(str(item), '%Y-%m-%d') for item in options['exdate']]\n",
    "options.head()"
   ]
  },
  {
   "cell_type": "code",
   "execution_count": null,
   "metadata": {},
   "outputs": [],
   "source": [
    "from datetime import timedelta, datetime\n",
    "datetime.strftimr(timedelta(365*0.5) + datetime(2014, 9, 4), \"%Y-%m-%d\""
   ]
  },
  {
   "cell_type": "code",
   "execution_count": null,
   "metadata": {},
   "outputs": [],
   "source": [
    "a = options[(options[\"exdate\"] < datetime.strptime(\"2014-09-04\", '%Y-%m-%d')) & (options[\"exdate\"] > datetime.strptime(\"2013-09-04\", '%Y-%m-%d'))]\n",
    "#a[options[\"exdate\"] > datetime.strptime(\"2013-09-04\", '%Y-%m-%d')]\n",
    "a.iloc[0]"
   ]
  },
  {
   "cell_type": "code",
   "execution_count": null,
   "metadata": {},
   "outputs": [],
   "source": [
    "options[(options.exdate == \"2012-09-07\")][options.cp_flag == \"C\"][options.strike_price\t == 121]"
   ]
  },
  {
   "cell_type": "code",
   "execution_count": null,
   "metadata": {},
   "outputs": [],
   "source": [
    "options[options.optionid == 65489034]"
   ]
  },
  {
   "cell_type": "code",
   "execution_count": null,
   "metadata": {},
   "outputs": [],
   "source": [
    "(datetime.strptime(\"2012-09-22\", '%Y-%m-%d') - datetime.strptime(\"2012-09-04\", '%Y-%m-%d')).days"
   ]
  },
  {
   "cell_type": "code",
   "execution_count": null,
   "metadata": {},
   "outputs": [],
   "source": [
    "grouped_options = options.groupby(['optionid'])\n",
    "a = grouped_options.first()\n",
    "a.shape"
   ]
  },
  {
   "cell_type": "code",
   "execution_count": null,
   "metadata": {},
   "outputs": [],
   "source": [
    "grouped_options.get_group(49506844)"
   ]
  },
  {
   "cell_type": "code",
   "execution_count": null,
   "metadata": {},
   "outputs": [],
   "source": []
  },
  {
   "cell_type": "code",
   "execution_count": null,
   "metadata": {},
   "outputs": [],
   "source": [
    " int(grouped_options.first().count()[0])"
   ]
  },
  {
   "cell_type": "code",
   "execution_count": null,
   "metadata": {},
   "outputs": [],
   "source": [
    "temp_l = {}\n",
    "group_options_first = grouped_options.first()\n",
    "for index in group_options_first.index:\n",
    "    n = grouped_options.get_group(index).count()[0]\n",
    "    #print(n)\n",
    "    T = datetime.strptime(group_options_first[\"exdate\"].loc[index], '%Y-%m-%d') - datetime.strptime(group_options_first[\"date\"].loc[index], '%Y-%m-%d')\n",
    "    #print(T)\n",
    "    #for i in range(n):\n",
    "        #temp_l.append(T)\n",
    "    temp_l[index] = T\n",
    "        "
   ]
  },
  {
   "cell_type": "code",
   "execution_count": null,
   "metadata": {},
   "outputs": [],
   "source": [
    "temp_df = pd.DataFrame.from_dict(temp_l,orient='index', columns=['T'])\n",
    "temp_df.head()"
   ]
  },
  {
   "cell_type": "code",
   "execution_count": null,
   "metadata": {},
   "outputs": [],
   "source": [
    "final_options = options.merge(temp_df, left_on = \"optionid\", right_index=True )"
   ]
  },
  {
   "cell_type": "code",
   "execution_count": null,
   "metadata": {},
   "outputs": [],
   "source": [
    "set(temp_df[temp_df.columns.tolist()[0]])"
   ]
  },
  {
   "cell_type": "code",
   "execution_count": null,
   "metadata": {},
   "outputs": [],
   "source": [
    "from datetime import timedelta"
   ]
  },
  {
   "cell_type": "code",
   "execution_count": null,
   "metadata": {},
   "outputs": [],
   "source": [
    "chosenT = [timedelta(91), timedelta(365), timedelta(1095)]\n",
    "chosenT"
   ]
  },
  {
   "cell_type": "code",
   "execution_count": null,
   "metadata": {},
   "outputs": [],
   "source": [
    "final_options[final_options[\"T\"].isin(chosenT)]"
   ]
  },
  {
   "cell_type": "code",
   "execution_count": null,
   "metadata": {},
   "outputs": [],
   "source": [
    "temp = final_options[final_options[\"T\"].isin([timedelta(365),timedelta(364)])]\n",
    "temp"
   ]
  },
  {
   "cell_type": "code",
   "execution_count": null,
   "metadata": {},
   "outputs": [],
   "source": [
    "options.groupby([])"
   ]
  }
 ],
 "metadata": {
  "kernelspec": {
   "display_name": "Python 3",
   "language": "python",
   "name": "python3"
  },
  "language_info": {
   "codemirror_mode": {
    "name": "ipython",
    "version": 3
   },
   "file_extension": ".py",
   "mimetype": "text/x-python",
   "name": "python",
   "nbconvert_exporter": "python",
   "pygments_lexer": "ipython3",
   "version": "3.7.0"
  }
 },
 "nbformat": 4,
 "nbformat_minor": 2
}
